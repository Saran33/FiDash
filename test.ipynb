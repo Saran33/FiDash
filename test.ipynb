{
 "cells": [
  {
   "cell_type": "code",
   "execution_count": 2,
   "metadata": {},
   "outputs": [
    {
     "data": {
      "text/html": [
       "        <script type=\"text/javascript\">\n",
       "        window.PlotlyConfig = {MathJaxConfig: 'local'};\n",
       "        if (window.MathJax) {MathJax.Hub.Config({SVG: {font: \"STIX-Web\"}});}\n",
       "        if (typeof require !== 'undefined') {\n",
       "        require.undef(\"plotly\");\n",
       "        requirejs.config({\n",
       "            paths: {\n",
       "                'plotly': ['https://cdn.plot.ly/plotly-2.6.3.min']\n",
       "            }\n",
       "        });\n",
       "        require(['plotly'], function(Plotly) {\n",
       "            window._Plotly = Plotly;\n",
       "        });\n",
       "        }\n",
       "        </script>\n",
       "        "
      ]
     },
     "metadata": {},
     "output_type": "display_data"
    }
   ],
   "source": [
    "import dash\n",
    "# import dash_core_components as dcc\n",
    "from dash import dcc\n",
    "# import dash_html_components as html\n",
    "from dash import html\n",
    "from dash.dependencies import Output, Input\n",
    "import dash_bootstrap_components as dbc\n",
    "import pandas as pd\n",
    "import plotly.express as px\n",
    "import plotly.graph_objects as go\n",
    "from alpha_vantage.timeseries import TimeSeries\n",
    "from pwe.av import get_av_ts\n",
    "from datetime import datetime, timedelta\n",
    "import pandas_datareader.data as web\n",
    "\n",
    "import pytz\n",
    "import pwe.pwetools as pwe\n",
    "from pwe import charts"
   ]
  },
  {
   "cell_type": "code",
   "execution_count": null,
   "metadata": {},
   "outputs": [],
   "source": [
    "end_date = pytz.utc.localize(datetime.utcnow())\n",
    "srt_end = pwe.dt_to_str(end_date)\n",
    "print (\"END:\",end_date)\n",
    "start_date = (end_date - timedelta(days=30))\n",
    "srt_start = pwe.dt_to_str(start_date)\n",
    "print (\"START\",start_date)"
   ]
  },
  {
   "cell_type": "code",
   "execution_count": null,
   "metadata": {},
   "outputs": [],
   "source": [
    "ticker = 'FB'\n",
    "\n",
    "df = web.DataReader(ticker, # ['AMZN', 'GOOGL',]\n",
    "                    'stooq', start=start_date, end=end_date)\n",
    "# df=df.melt(ignore_index=False, value_name=\"price\").reset_index()\n",
    "# df = df.stack().reset_index()\n",
    "df = pwe.sort_index(df, utc=True)\n",
    "df.index.names = ['DateTime']\n",
    "df[:15]"
   ]
  },
  {
   "cell_type": "code",
   "execution_count": null,
   "metadata": {},
   "outputs": [],
   "source": [
    "# from fidash.charts import quant_chart\n",
    "\n",
    "# plt_int = quant_chart(df, start_date, end_date, ticker=ticker, title=f'{ticker}', theme='white', auto_start=srt_start, auto_end=None,\n",
    "#                         asPlot=False, asFigure=True, showlegend=True, boll_std=2, boll_periods=20, showboll=True, showrsi=True, rsi_periods=14,\n",
    "#                         showama=True, ama_periods=9, showvol=True, show_range=True, annots=None, textangle=0, file_tag=None,\n",
    "#                         support=None, resist=None, annot_font_size=6, title_dates=False, title_time=False, chart_ticker=True,\n",
    "#                         top_margin=0.9, spacing=0.08, range_fontsize=9.8885, title_x=0.5, title_y=0.933,\n",
    "#                         arrowhead=6, arrowlen=-50)"
   ]
  },
  {
   "cell_type": "code",
   "execution_count": 3,
   "metadata": {},
   "outputs": [
    {
     "name": "stdout",
     "output_type": "stream",
     "text": [
      "END: 2021-11-17 15:39:04.687060+00:00\n",
      "START 2021-10-18 15:39:04.687060+00:00\n"
     ]
    }
   ],
   "source": [
    "from fidash.dtools import start_date, end_date, str_start, str_end, wdr_ticker, wdr_multi_ticker"
   ]
  },
  {
   "cell_type": "code",
   "execution_count": 2,
   "metadata": {},
   "outputs": [],
   "source": [
    "symbols = ['FB', 'AMZN', 'GOOGL', ]"
   ]
  },
  {
   "cell_type": "code",
   "execution_count": null,
   "metadata": {},
   "outputs": [],
   "source": [
    "df1 = wdr_multi_ticker(symbols, start_date, end_date, source='stooq', price='Close')\n",
    "df1"
   ]
  },
  {
   "cell_type": "code",
   "execution_count": null,
   "metadata": {},
   "outputs": [],
   "source": [
    "df1"
   ]
  },
  {
   "cell_type": "code",
   "execution_count": null,
   "metadata": {},
   "outputs": [],
   "source": [
    "str_start"
   ]
  },
  {
   "cell_type": "code",
   "execution_count": null,
   "metadata": {},
   "outputs": [],
   "source": []
  }
 ],
 "metadata": {
  "interpreter": {
   "hash": "ce8c4f33465ee917852bf2dcc79d4da44fc1c72480e3f2cd9df1b27d64a024dd"
  },
  "kernelspec": {
   "display_name": "Python 3.8.11 64-bit ('dashenv': venv)",
   "language": "python",
   "name": "python3"
  },
  "language_info": {
   "codemirror_mode": {
    "name": "ipython",
    "version": 3
   },
   "file_extension": ".py",
   "mimetype": "text/x-python",
   "name": "python",
   "nbconvert_exporter": "python",
   "pygments_lexer": "ipython3",
   "version": "3.8.11"
  },
  "orig_nbformat": 4
 },
 "nbformat": 4,
 "nbformat_minor": 2
}
