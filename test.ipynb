{
 "cells": [
  {
   "cell_type": "code",
   "execution_count": 1,
   "metadata": {},
   "outputs": [
    {
     "data": {
      "text/html": [
       "        <script type=\"text/javascript\">\n",
       "        window.PlotlyConfig = {MathJaxConfig: 'local'};\n",
       "        if (window.MathJax) {MathJax.Hub.Config({SVG: {font: \"STIX-Web\"}});}\n",
       "        if (typeof require !== 'undefined') {\n",
       "        require.undef(\"plotly\");\n",
       "        requirejs.config({\n",
       "            paths: {\n",
       "                'plotly': ['https://cdn.plot.ly/plotly-2.6.3.min']\n",
       "            }\n",
       "        });\n",
       "        require(['plotly'], function(Plotly) {\n",
       "            window._Plotly = Plotly;\n",
       "        });\n",
       "        }\n",
       "        </script>\n",
       "        "
      ]
     },
     "metadata": {},
     "output_type": "display_data"
    }
   ],
   "source": [
    "import dash\n",
    "# import dash_core_components as dcc\n",
    "from dash import dcc\n",
    "# import dash_html_components as html\n",
    "from dash import html\n",
    "from dash.dependencies import Output, Input\n",
    "import dash_bootstrap_components as dbc\n",
    "import pandas as pd\n",
    "import plotly.express as px\n",
    "import plotly.graph_objects as go\n",
    "from alpha_vantage.timeseries import TimeSeries\n",
    "from pwe.av import get_av_ts\n",
    "from datetime import datetime, timedelta\n",
    "import pandas_datareader.data as web\n",
    "\n",
    "import pytz\n",
    "import pwe.pwetools as pwe\n",
    "from pwe import charts"
   ]
  },
  {
   "cell_type": "code",
   "execution_count": 2,
   "metadata": {},
   "outputs": [
    {
     "name": "stdout",
     "output_type": "stream",
     "text": [
      "END: 2021-11-19 17:07:18.130707+00:00\n",
      "START 2021-10-20 17:07:18.130707+00:00\n"
     ]
    }
   ],
   "source": [
    "end_date = pytz.utc.localize(datetime.utcnow())\n",
    "srt_end = pwe.dt_to_str(end_date)\n",
    "print (\"END:\",end_date)\n",
    "start_date = (end_date - timedelta(days=30))\n",
    "srt_start = pwe.dt_to_str(start_date)\n",
    "print (\"START\",start_date)"
   ]
  },
  {
   "cell_type": "code",
   "execution_count": 3,
   "metadata": {},
   "outputs": [
    {
     "data": {
      "text/html": [
       "<div>\n",
       "<style scoped>\n",
       "    .dataframe tbody tr th:only-of-type {\n",
       "        vertical-align: middle;\n",
       "    }\n",
       "\n",
       "    .dataframe tbody tr th {\n",
       "        vertical-align: top;\n",
       "    }\n",
       "\n",
       "    .dataframe thead th {\n",
       "        text-align: right;\n",
       "    }\n",
       "</style>\n",
       "<table border=\"1\" class=\"dataframe\">\n",
       "  <thead>\n",
       "    <tr style=\"text-align: right;\">\n",
       "      <th></th>\n",
       "      <th>Open</th>\n",
       "      <th>High</th>\n",
       "      <th>Low</th>\n",
       "      <th>Close</th>\n",
       "      <th>Volume</th>\n",
       "    </tr>\n",
       "    <tr>\n",
       "      <th>DateTime</th>\n",
       "      <th></th>\n",
       "      <th></th>\n",
       "      <th></th>\n",
       "      <th></th>\n",
       "      <th></th>\n",
       "    </tr>\n",
       "  </thead>\n",
       "  <tbody>\n",
       "    <tr>\n",
       "      <th>2021-10-20</th>\n",
       "      <td>343.4450</td>\n",
       "      <td>343.9800</td>\n",
       "      <td>339.4531</td>\n",
       "      <td>340.78</td>\n",
       "      <td>13639465</td>\n",
       "    </tr>\n",
       "    <tr>\n",
       "      <th>2021-10-21</th>\n",
       "      <td>340.2750</td>\n",
       "      <td>342.3100</td>\n",
       "      <td>337.8000</td>\n",
       "      <td>341.88</td>\n",
       "      <td>16354423</td>\n",
       "    </tr>\n",
       "    <tr>\n",
       "      <th>2021-10-22</th>\n",
       "      <td>326.3450</td>\n",
       "      <td>329.6300</td>\n",
       "      <td>321.1100</td>\n",
       "      <td>324.61</td>\n",
       "      <td>35224543</td>\n",
       "    </tr>\n",
       "    <tr>\n",
       "      <th>2021-10-25</th>\n",
       "      <td>320.3000</td>\n",
       "      <td>329.5600</td>\n",
       "      <td>319.7200</td>\n",
       "      <td>328.69</td>\n",
       "      <td>38408957</td>\n",
       "    </tr>\n",
       "    <tr>\n",
       "      <th>2021-10-26</th>\n",
       "      <td>328.2600</td>\n",
       "      <td>330.2099</td>\n",
       "      <td>309.6000</td>\n",
       "      <td>315.81</td>\n",
       "      <td>65654043</td>\n",
       "    </tr>\n",
       "    <tr>\n",
       "      <th>2021-10-27</th>\n",
       "      <td>314.1900</td>\n",
       "      <td>319.2500</td>\n",
       "      <td>312.0600</td>\n",
       "      <td>312.22</td>\n",
       "      <td>29971761</td>\n",
       "    </tr>\n",
       "    <tr>\n",
       "      <th>2021-10-28</th>\n",
       "      <td>312.9900</td>\n",
       "      <td>325.5200</td>\n",
       "      <td>308.1100</td>\n",
       "      <td>316.92</td>\n",
       "      <td>50806840</td>\n",
       "    </tr>\n",
       "    <tr>\n",
       "      <th>2021-10-29</th>\n",
       "      <td>320.1900</td>\n",
       "      <td>325.9999</td>\n",
       "      <td>319.6000</td>\n",
       "      <td>323.57</td>\n",
       "      <td>37059384</td>\n",
       "    </tr>\n",
       "    <tr>\n",
       "      <th>2021-11-01</th>\n",
       "      <td>326.0400</td>\n",
       "      <td>333.4500</td>\n",
       "      <td>326.0000</td>\n",
       "      <td>329.98</td>\n",
       "      <td>31518885</td>\n",
       "    </tr>\n",
       "    <tr>\n",
       "      <th>2021-11-02</th>\n",
       "      <td>331.3800</td>\n",
       "      <td>334.7895</td>\n",
       "      <td>323.8000</td>\n",
       "      <td>328.08</td>\n",
       "      <td>28352966</td>\n",
       "    </tr>\n",
       "    <tr>\n",
       "      <th>2021-11-03</th>\n",
       "      <td>327.4900</td>\n",
       "      <td>332.1500</td>\n",
       "      <td>323.2000</td>\n",
       "      <td>331.62</td>\n",
       "      <td>20786502</td>\n",
       "    </tr>\n",
       "    <tr>\n",
       "      <th>2021-11-04</th>\n",
       "      <td>334.0065</td>\n",
       "      <td>337.2730</td>\n",
       "      <td>332.6500</td>\n",
       "      <td>335.85</td>\n",
       "      <td>22495281</td>\n",
       "    </tr>\n",
       "    <tr>\n",
       "      <th>2021-11-05</th>\n",
       "      <td>340.3100</td>\n",
       "      <td>346.7900</td>\n",
       "      <td>339.6400</td>\n",
       "      <td>341.13</td>\n",
       "      <td>26872817</td>\n",
       "    </tr>\n",
       "    <tr>\n",
       "      <th>2021-11-08</th>\n",
       "      <td>344.4200</td>\n",
       "      <td>344.7890</td>\n",
       "      <td>338.3400</td>\n",
       "      <td>338.62</td>\n",
       "      <td>18342458</td>\n",
       "    </tr>\n",
       "    <tr>\n",
       "      <th>2021-11-09</th>\n",
       "      <td>340.0000</td>\n",
       "      <td>341.3075</td>\n",
       "      <td>334.4700</td>\n",
       "      <td>335.37</td>\n",
       "      <td>17556721</td>\n",
       "    </tr>\n",
       "  </tbody>\n",
       "</table>\n",
       "</div>"
      ],
      "text/plain": [
       "                Open      High       Low   Close    Volume\n",
       "DateTime                                                  \n",
       "2021-10-20  343.4450  343.9800  339.4531  340.78  13639465\n",
       "2021-10-21  340.2750  342.3100  337.8000  341.88  16354423\n",
       "2021-10-22  326.3450  329.6300  321.1100  324.61  35224543\n",
       "2021-10-25  320.3000  329.5600  319.7200  328.69  38408957\n",
       "2021-10-26  328.2600  330.2099  309.6000  315.81  65654043\n",
       "2021-10-27  314.1900  319.2500  312.0600  312.22  29971761\n",
       "2021-10-28  312.9900  325.5200  308.1100  316.92  50806840\n",
       "2021-10-29  320.1900  325.9999  319.6000  323.57  37059384\n",
       "2021-11-01  326.0400  333.4500  326.0000  329.98  31518885\n",
       "2021-11-02  331.3800  334.7895  323.8000  328.08  28352966\n",
       "2021-11-03  327.4900  332.1500  323.2000  331.62  20786502\n",
       "2021-11-04  334.0065  337.2730  332.6500  335.85  22495281\n",
       "2021-11-05  340.3100  346.7900  339.6400  341.13  26872817\n",
       "2021-11-08  344.4200  344.7890  338.3400  338.62  18342458\n",
       "2021-11-09  340.0000  341.3075  334.4700  335.37  17556721"
      ]
     },
     "execution_count": 3,
     "metadata": {},
     "output_type": "execute_result"
    }
   ],
   "source": [
    "ticker = 'FB'\n",
    "\n",
    "df = web.DataReader(ticker, # ['AMZN', 'GOOGL',]\n",
    "                    'stooq', start=start_date, end=end_date)\n",
    "# df=df.melt(ignore_index=False, value_name=\"price\").reset_index()\n",
    "# df = df.stack().reset_index()\n",
    "df = pwe.sort_index(df, utc=True)\n",
    "df.index.names = ['DateTime']\n",
    "df[:15]"
   ]
  },
  {
   "cell_type": "code",
   "execution_count": null,
   "metadata": {},
   "outputs": [],
   "source": [
    "# from fidash.charts import quant_chart\n",
    "\n",
    "# plt_int = quant_chart(df, start_date, end_date, ticker=ticker, title=f'{ticker}', theme='white', auto_start=srt_start, auto_end=None,\n",
    "#                         asPlot=False, asFigure=True, showlegend=True, boll_std=2, boll_periods=20, showboll=True, showrsi=True, rsi_periods=14,\n",
    "#                         showama=True, ama_periods=9, showvol=True, show_range=True, annots=None, textangle=0, file_tag=None,\n",
    "#                         support=None, resist=None, annot_font_size=6, title_dates=False, title_time=False, chart_ticker=True,\n",
    "#                         top_margin=0.9, spacing=0.08, range_fontsize=9.8885, title_x=0.5, title_y=0.933,\n",
    "#                         arrowhead=6, arrowlen=-50)"
   ]
  },
  {
   "cell_type": "code",
   "execution_count": 4,
   "metadata": {},
   "outputs": [
    {
     "name": "stdout",
     "output_type": "stream",
     "text": [
      "END: 2021-11-19 17:07:21.583797+00:00\n",
      "START 2021-10-20 17:07:21.583797+00:00\n"
     ]
    }
   ],
   "source": [
    "from fidash.dtools import end_date, str_start, str_end, wdr_ticker, wdr_multi_ticker # start_date"
   ]
  },
  {
   "cell_type": "code",
   "execution_count": 5,
   "metadata": {},
   "outputs": [
    {
     "name": "stdout",
     "output_type": "stream",
     "text": [
      "2019-12-20 17:07:21.583797+00:00\n"
     ]
    }
   ],
   "source": [
    "symbols = ['FB', 'AMZN', 'GOOGL', 'AAPL', 'GME', 'BABA', 'VIXY']\n",
    "\n",
    "from datetime import timedelta\n",
    "s_d = (end_date - timedelta(days=700))\n",
    "print(s_d)"
   ]
  },
  {
   "cell_type": "code",
   "execution_count": 6,
   "metadata": {},
   "outputs": [
    {
     "name": "stdout",
     "output_type": "stream",
     "text": [
      "\n",
      "\n",
      "Checking if ticker files exist locally...\n",
      "Matching local file exists.\n",
      "Reading recent file from CSV...\n",
      "/Users/zenman618/Documents/git_packages/FiDash/csv_files/FB_2021-10-20_2021-11-19.csv\n",
      "Matching local file exists.\n",
      "Reading recent file from CSV...\n",
      "/Users/zenman618/Documents/git_packages/FiDash/csv_files/AMZN_2021-10-20_2021-11-19.csv\n",
      "Matching local file exists.\n",
      "Reading recent file from CSV...\n",
      "/Users/zenman618/Documents/git_packages/FiDash/csv_files/GOOGL_2021-10-20_2021-11-19.csv\n",
      "Matching local file exists.\n",
      "Reading recent file from CSV...\n",
      "/Users/zenman618/Documents/git_packages/FiDash/csv_files/AAPL_2021-10-20_2021-11-19.csv\n",
      "Matching local file exists.\n",
      "Reading recent file from CSV...\n",
      "/Users/zenman618/Documents/git_packages/FiDash/csv_files/GME_2021-10-20_2021-11-19.csv\n",
      "Matching local file exists.\n",
      "Reading recent file from CSV...\n",
      "/Users/zenman618/Documents/git_packages/FiDash/csv_files/BABA_2021-10-20_2021-11-19.csv\n",
      "Matching local file exists.\n",
      "Reading recent file from CSV...\n",
      "/Users/zenman618/Documents/git_packages/FiDash/csv_files/VIXY_2021-10-20_2021-11-19.csv\n"
     ]
    },
    {
     "data": {
      "text/html": [
       "<div>\n",
       "<style scoped>\n",
       "    .dataframe tbody tr th:only-of-type {\n",
       "        vertical-align: middle;\n",
       "    }\n",
       "\n",
       "    .dataframe tbody tr th {\n",
       "        vertical-align: top;\n",
       "    }\n",
       "\n",
       "    .dataframe thead th {\n",
       "        text-align: right;\n",
       "    }\n",
       "</style>\n",
       "<table border=\"1\" class=\"dataframe\">\n",
       "  <thead>\n",
       "    <tr style=\"text-align: right;\">\n",
       "      <th></th>\n",
       "      <th>FB</th>\n",
       "      <th>AMZN</th>\n",
       "      <th>GOOGL</th>\n",
       "      <th>AAPL</th>\n",
       "      <th>GME</th>\n",
       "      <th>BABA</th>\n",
       "      <th>VIXY</th>\n",
       "    </tr>\n",
       "    <tr>\n",
       "      <th>DateTime</th>\n",
       "      <th></th>\n",
       "      <th></th>\n",
       "      <th></th>\n",
       "      <th></th>\n",
       "      <th></th>\n",
       "      <th></th>\n",
       "      <th></th>\n",
       "    </tr>\n",
       "  </thead>\n",
       "  <tbody>\n",
       "    <tr>\n",
       "      <th>2019-12-20</th>\n",
       "      <td>NaN</td>\n",
       "      <td>NaN</td>\n",
       "      <td>NaN</td>\n",
       "      <td>68.840</td>\n",
       "      <td>5.99</td>\n",
       "      <td>212.25</td>\n",
       "      <td>49.40</td>\n",
       "    </tr>\n",
       "    <tr>\n",
       "      <th>2019-12-23</th>\n",
       "      <td>NaN</td>\n",
       "      <td>NaN</td>\n",
       "      <td>NaN</td>\n",
       "      <td>69.963</td>\n",
       "      <td>5.61</td>\n",
       "      <td>214.83</td>\n",
       "      <td>49.64</td>\n",
       "    </tr>\n",
       "    <tr>\n",
       "      <th>2019-12-24</th>\n",
       "      <td>NaN</td>\n",
       "      <td>NaN</td>\n",
       "      <td>NaN</td>\n",
       "      <td>70.027</td>\n",
       "      <td>5.44</td>\n",
       "      <td>214.26</td>\n",
       "      <td>49.12</td>\n",
       "    </tr>\n",
       "    <tr>\n",
       "      <th>2019-12-26</th>\n",
       "      <td>NaN</td>\n",
       "      <td>NaN</td>\n",
       "      <td>NaN</td>\n",
       "      <td>71.416</td>\n",
       "      <td>5.40</td>\n",
       "      <td>216.38</td>\n",
       "      <td>49.00</td>\n",
       "    </tr>\n",
       "    <tr>\n",
       "      <th>2019-12-27</th>\n",
       "      <td>NaN</td>\n",
       "      <td>NaN</td>\n",
       "      <td>NaN</td>\n",
       "      <td>71.388</td>\n",
       "      <td>5.90</td>\n",
       "      <td>215.47</td>\n",
       "      <td>50.08</td>\n",
       "    </tr>\n",
       "  </tbody>\n",
       "</table>\n",
       "</div>"
      ],
      "text/plain": [
       "            FB  AMZN  GOOGL    AAPL   GME    BABA   VIXY\n",
       "DateTime                                                \n",
       "2019-12-20 NaN   NaN    NaN  68.840  5.99  212.25  49.40\n",
       "2019-12-23 NaN   NaN    NaN  69.963  5.61  214.83  49.64\n",
       "2019-12-24 NaN   NaN    NaN  70.027  5.44  214.26  49.12\n",
       "2019-12-26 NaN   NaN    NaN  71.416  5.40  216.38  49.00\n",
       "2019-12-27 NaN   NaN    NaN  71.388  5.90  215.47  50.08"
      ]
     },
     "execution_count": 6,
     "metadata": {},
     "output_type": "execute_result"
    }
   ],
   "source": [
    "df1 = wdr_multi_ticker(symbols, s_d, end_date, source='stooq', price='Close')\n",
    "df1.head()"
   ]
  },
  {
   "cell_type": "code",
   "execution_count": 7,
   "metadata": {},
   "outputs": [],
   "source": [
    "import pandas as pd\n",
    "import numpy as np"
   ]
  },
  {
   "cell_type": "code",
   "execution_count": 8,
   "metadata": {},
   "outputs": [],
   "source": [
    "from fidash.ntwrkx import plot_mst\n",
    "from plotly.offline import download_plotlyjs, init_notebook_mode, plot, iplot"
   ]
  },
  {
   "cell_type": "code",
   "execution_count": 9,
   "metadata": {},
   "outputs": [
    {
     "name": "stdout",
     "output_type": "stream",
     "text": [
      "Graph with 7 nodes and 21 edges\n",
      "10 edges removed\n"
     ]
    }
   ],
   "source": [
    "\n",
    "df1 = df1.pct_change().fillna(0).add(1).cumprod().mul(100)\n",
    "MST = plot_mst(df1, ann_factor=252, corr_threshold=0.05, node_size_factor=10, savefig=True)"
   ]
  },
  {
   "cell_type": "code",
   "execution_count": 10,
   "metadata": {},
   "outputs": [
    {
     "data": {
      "application/vnd.plotly.v1+json": {
       "config": {
        "linkText": "Export to plot.ly",
        "plotlyServerURL": "https://plot.ly",
        "showLink": false
       },
       "data": [
        {
         "hoverinfo": "none",
         "line": {
          "color": "#DCDCDC",
          "width": 1
         },
         "mode": "lines",
         "showlegend": false,
         "type": "scatter",
         "x": [
          0.5989240464335537,
          0.11455212421903337,
          null,
          0.5989240464335537,
          0.9999999999999999,
          null,
          0.11455212421903337,
          -0.42712600406986645,
          null,
          0.11455212421903337,
          0.21974293819278484,
          null,
          -0.42712600406986645,
          -0.6926921836981154,
          null,
          -0.42712600406986645,
          -0.81340092107739,
          null
         ],
         "y": [
          0.08739894464981811,
          -0.08758858776787719,
          null,
          0.08739894464981811,
          0.2222795143484458,
          null,
          -0.08758858776787719,
          0.04061453610902154,
          null,
          -0.08758858776787719,
          -0.49605451967574477,
          null,
          0.04061453610902154,
          0.38456360912305126,
          null,
          0.04061453610902154,
          -0.15121349678671464,
          null
         ]
        },
        {
         "hoverinfo": "text",
         "hovertext": [
          "<b>FB</b><br>Annualized Log Returns: -0.3%<br>Annualized Volatility: 6.9%<br>Sharpe Ratio: -0.05<br>Sortino Ratio: -0.06<br><br>Strongly correlated with: <br>AMZN: 0.24<br>GOOGL: 0.21<br>VIXY: -0.05<br><br>Weakly correlated with: <br>AAPL: 0.02<br>BABA: 0.02<br>GME: 0.03<br>",
          "<b>AMZN</b><br>Annualized Log Returns: 4.1%<br>Annualized Volatility: 6.0%<br>Sharpe Ratio: 0.69<br>Sortino Ratio: 1.18<br><br>Strongly correlated with: <br>GOOGL: 0.52<br>FB: 0.24<br>BABA: -0.14<br><br>Weakly correlated with: <br>GME: 0.00<br>VIXY: -0.01<br>AAPL: 0.07<br>",
          "<b>GOOGL</b><br>Annualized Log Returns: 2.9%<br>Annualized Volatility: 5.6%<br>Sharpe Ratio: 0.51<br>Sortino Ratio: 0.84<br><br>Strongly correlated with: <br>AMZN: 0.52<br>FB: 0.21<br>BABA: -0.11<br><br>Weakly correlated with: <br>VIXY: 0.00<br>GME: -0.00<br>AAPL: 0.02<br>",
          "<b>AAPL</b><br>Annualized Log Returns: 43.4%<br>Annualized Volatility: 37.7%<br>Sharpe Ratio: 1.15<br>Sortino Ratio: 1.93<br><br>Strongly correlated with: <br>VIXY: -0.62<br>BABA: 0.38<br>GME: 0.12<br><br>Weakly correlated with: <br>FB: 0.02<br>GOOGL: 0.02<br>AMZN: 0.07<br>",
          "<b>GME</b><br>Annualized Log Returns: 186.0%<br>Annualized Volatility: 186.4%<br>Sharpe Ratio: 1.00<br>Sortino Ratio: 2.17<br><br>Strongly correlated with: <br>AAPL: 0.12<br>BABA: 0.08<br>FB: 0.03<br><br>Weakly correlated with: <br>GOOGL: -0.00<br>AMZN: 0.00<br>VIXY: -0.02<br>",
          "<b>BABA</b><br>Annualized Log Returns: -20.4%<br>Annualized Volatility: 41.0%<br>Sharpe Ratio: -0.50<br>Sortino Ratio: -0.80<br><br>Strongly correlated with: <br>AAPL: 0.38<br>VIXY: -0.33<br>AMZN: -0.14<br><br>Weakly correlated with: <br>FB: 0.02<br>GME: 0.08<br>GOOGL: -0.11<br>",
          "<b>VIXY</b><br>Annualized Log Returns: -56.0%<br>Annualized Volatility: 83.5%<br>Sharpe Ratio: -0.67<br>Sortino Ratio: -1.47<br><br>Strongly correlated with: <br>AAPL: -0.62<br>BABA: -0.33<br>FB: -0.05<br><br>Weakly correlated with: <br>GOOGL: 0.00<br>AMZN: -0.01<br>GME: -0.02<br>"
         ],
         "marker": {
          "color": [
           "#64646F",
           "#DCBBA6",
           "#DCBBA6",
           "#DCBBA6",
           "#DCBBA6",
           "#64646F",
           "#64646F"
          ],
          "line": {
           "width": 1
          },
          "size": [
           5.671271435277385,
           20.33241688401247,
           17.012618513913516,
           65.87374892345048,
           136.38121005310867,
           45.19775783038294,
           74.86577281147923
          ]
         },
         "mode": "markers+text",
         "showlegend": false,
         "text": [
          "FB",
          "AMZN",
          "GOOGL",
          "AAPL",
          "GME",
          "BABA",
          "VIXY"
         ],
         "textfont": {
          "size": 7
         },
         "textposition": "top center",
         "type": "scatter",
         "x": [
          0.5989240464335537,
          0.11455212421903337,
          0.9999999999999999,
          -0.42712600406986645,
          -0.6926921836981154,
          0.21974293819278484,
          -0.81340092107739
         ],
         "y": [
          0.08739894464981811,
          -0.08758858776787719,
          0.2222795143484458,
          0.04061453610902154,
          0.38456360912305126,
          -0.49605451967574477,
          -0.15121349678671464
         ]
        }
       ],
       "layout": {
        "autosize": true,
        "font": {
         "color": "#58595b",
         "family": "Roboto"
        },
        "height": 620,
        "hovermode": "closest",
        "plot_bgcolor": "#fff",
        "showlegend": false,
        "template": {
         "data": {
          "bar": [
           {
            "error_x": {
             "color": "#2a3f5f"
            },
            "error_y": {
             "color": "#2a3f5f"
            },
            "marker": {
             "line": {
              "color": "#E5ECF6",
              "width": 0.5
             },
             "pattern": {
              "fillmode": "overlay",
              "size": 10,
              "solidity": 0.2
             }
            },
            "type": "bar"
           }
          ],
          "barpolar": [
           {
            "marker": {
             "line": {
              "color": "#E5ECF6",
              "width": 0.5
             },
             "pattern": {
              "fillmode": "overlay",
              "size": 10,
              "solidity": 0.2
             }
            },
            "type": "barpolar"
           }
          ],
          "carpet": [
           {
            "aaxis": {
             "endlinecolor": "#2a3f5f",
             "gridcolor": "white",
             "linecolor": "white",
             "minorgridcolor": "white",
             "startlinecolor": "#2a3f5f"
            },
            "baxis": {
             "endlinecolor": "#2a3f5f",
             "gridcolor": "white",
             "linecolor": "white",
             "minorgridcolor": "white",
             "startlinecolor": "#2a3f5f"
            },
            "type": "carpet"
           }
          ],
          "choropleth": [
           {
            "colorbar": {
             "outlinewidth": 0,
             "ticks": ""
            },
            "type": "choropleth"
           }
          ],
          "contour": [
           {
            "colorbar": {
             "outlinewidth": 0,
             "ticks": ""
            },
            "colorscale": [
             [
              0,
              "#0d0887"
             ],
             [
              0.1111111111111111,
              "#46039f"
             ],
             [
              0.2222222222222222,
              "#7201a8"
             ],
             [
              0.3333333333333333,
              "#9c179e"
             ],
             [
              0.4444444444444444,
              "#bd3786"
             ],
             [
              0.5555555555555556,
              "#d8576b"
             ],
             [
              0.6666666666666666,
              "#ed7953"
             ],
             [
              0.7777777777777778,
              "#fb9f3a"
             ],
             [
              0.8888888888888888,
              "#fdca26"
             ],
             [
              1,
              "#f0f921"
             ]
            ],
            "type": "contour"
           }
          ],
          "contourcarpet": [
           {
            "colorbar": {
             "outlinewidth": 0,
             "ticks": ""
            },
            "type": "contourcarpet"
           }
          ],
          "heatmap": [
           {
            "colorbar": {
             "outlinewidth": 0,
             "ticks": ""
            },
            "colorscale": [
             [
              0,
              "#0d0887"
             ],
             [
              0.1111111111111111,
              "#46039f"
             ],
             [
              0.2222222222222222,
              "#7201a8"
             ],
             [
              0.3333333333333333,
              "#9c179e"
             ],
             [
              0.4444444444444444,
              "#bd3786"
             ],
             [
              0.5555555555555556,
              "#d8576b"
             ],
             [
              0.6666666666666666,
              "#ed7953"
             ],
             [
              0.7777777777777778,
              "#fb9f3a"
             ],
             [
              0.8888888888888888,
              "#fdca26"
             ],
             [
              1,
              "#f0f921"
             ]
            ],
            "type": "heatmap"
           }
          ],
          "heatmapgl": [
           {
            "colorbar": {
             "outlinewidth": 0,
             "ticks": ""
            },
            "colorscale": [
             [
              0,
              "#0d0887"
             ],
             [
              0.1111111111111111,
              "#46039f"
             ],
             [
              0.2222222222222222,
              "#7201a8"
             ],
             [
              0.3333333333333333,
              "#9c179e"
             ],
             [
              0.4444444444444444,
              "#bd3786"
             ],
             [
              0.5555555555555556,
              "#d8576b"
             ],
             [
              0.6666666666666666,
              "#ed7953"
             ],
             [
              0.7777777777777778,
              "#fb9f3a"
             ],
             [
              0.8888888888888888,
              "#fdca26"
             ],
             [
              1,
              "#f0f921"
             ]
            ],
            "type": "heatmapgl"
           }
          ],
          "histogram": [
           {
            "marker": {
             "pattern": {
              "fillmode": "overlay",
              "size": 10,
              "solidity": 0.2
             }
            },
            "type": "histogram"
           }
          ],
          "histogram2d": [
           {
            "colorbar": {
             "outlinewidth": 0,
             "ticks": ""
            },
            "colorscale": [
             [
              0,
              "#0d0887"
             ],
             [
              0.1111111111111111,
              "#46039f"
             ],
             [
              0.2222222222222222,
              "#7201a8"
             ],
             [
              0.3333333333333333,
              "#9c179e"
             ],
             [
              0.4444444444444444,
              "#bd3786"
             ],
             [
              0.5555555555555556,
              "#d8576b"
             ],
             [
              0.6666666666666666,
              "#ed7953"
             ],
             [
              0.7777777777777778,
              "#fb9f3a"
             ],
             [
              0.8888888888888888,
              "#fdca26"
             ],
             [
              1,
              "#f0f921"
             ]
            ],
            "type": "histogram2d"
           }
          ],
          "histogram2dcontour": [
           {
            "colorbar": {
             "outlinewidth": 0,
             "ticks": ""
            },
            "colorscale": [
             [
              0,
              "#0d0887"
             ],
             [
              0.1111111111111111,
              "#46039f"
             ],
             [
              0.2222222222222222,
              "#7201a8"
             ],
             [
              0.3333333333333333,
              "#9c179e"
             ],
             [
              0.4444444444444444,
              "#bd3786"
             ],
             [
              0.5555555555555556,
              "#d8576b"
             ],
             [
              0.6666666666666666,
              "#ed7953"
             ],
             [
              0.7777777777777778,
              "#fb9f3a"
             ],
             [
              0.8888888888888888,
              "#fdca26"
             ],
             [
              1,
              "#f0f921"
             ]
            ],
            "type": "histogram2dcontour"
           }
          ],
          "mesh3d": [
           {
            "colorbar": {
             "outlinewidth": 0,
             "ticks": ""
            },
            "type": "mesh3d"
           }
          ],
          "parcoords": [
           {
            "line": {
             "colorbar": {
              "outlinewidth": 0,
              "ticks": ""
             }
            },
            "type": "parcoords"
           }
          ],
          "pie": [
           {
            "automargin": true,
            "type": "pie"
           }
          ],
          "scatter": [
           {
            "marker": {
             "colorbar": {
              "outlinewidth": 0,
              "ticks": ""
             }
            },
            "type": "scatter"
           }
          ],
          "scatter3d": [
           {
            "line": {
             "colorbar": {
              "outlinewidth": 0,
              "ticks": ""
             }
            },
            "marker": {
             "colorbar": {
              "outlinewidth": 0,
              "ticks": ""
             }
            },
            "type": "scatter3d"
           }
          ],
          "scattercarpet": [
           {
            "marker": {
             "colorbar": {
              "outlinewidth": 0,
              "ticks": ""
             }
            },
            "type": "scattercarpet"
           }
          ],
          "scattergeo": [
           {
            "marker": {
             "colorbar": {
              "outlinewidth": 0,
              "ticks": ""
             }
            },
            "type": "scattergeo"
           }
          ],
          "scattergl": [
           {
            "marker": {
             "colorbar": {
              "outlinewidth": 0,
              "ticks": ""
             }
            },
            "type": "scattergl"
           }
          ],
          "scattermapbox": [
           {
            "marker": {
             "colorbar": {
              "outlinewidth": 0,
              "ticks": ""
             }
            },
            "type": "scattermapbox"
           }
          ],
          "scatterpolar": [
           {
            "marker": {
             "colorbar": {
              "outlinewidth": 0,
              "ticks": ""
             }
            },
            "type": "scatterpolar"
           }
          ],
          "scatterpolargl": [
           {
            "marker": {
             "colorbar": {
              "outlinewidth": 0,
              "ticks": ""
             }
            },
            "type": "scatterpolargl"
           }
          ],
          "scatterternary": [
           {
            "marker": {
             "colorbar": {
              "outlinewidth": 0,
              "ticks": ""
             }
            },
            "type": "scatterternary"
           }
          ],
          "surface": [
           {
            "colorbar": {
             "outlinewidth": 0,
             "ticks": ""
            },
            "colorscale": [
             [
              0,
              "#0d0887"
             ],
             [
              0.1111111111111111,
              "#46039f"
             ],
             [
              0.2222222222222222,
              "#7201a8"
             ],
             [
              0.3333333333333333,
              "#9c179e"
             ],
             [
              0.4444444444444444,
              "#bd3786"
             ],
             [
              0.5555555555555556,
              "#d8576b"
             ],
             [
              0.6666666666666666,
              "#ed7953"
             ],
             [
              0.7777777777777778,
              "#fb9f3a"
             ],
             [
              0.8888888888888888,
              "#fdca26"
             ],
             [
              1,
              "#f0f921"
             ]
            ],
            "type": "surface"
           }
          ],
          "table": [
           {
            "cells": {
             "fill": {
              "color": "#EBF0F8"
             },
             "line": {
              "color": "white"
             }
            },
            "header": {
             "fill": {
              "color": "#C8D4E3"
             },
             "line": {
              "color": "white"
             }
            },
            "type": "table"
           }
          ]
         },
         "layout": {
          "annotationdefaults": {
           "arrowcolor": "#2a3f5f",
           "arrowhead": 0,
           "arrowwidth": 1
          },
          "autotypenumbers": "strict",
          "coloraxis": {
           "colorbar": {
            "outlinewidth": 0,
            "ticks": ""
           }
          },
          "colorscale": {
           "diverging": [
            [
             0,
             "#8e0152"
            ],
            [
             0.1,
             "#c51b7d"
            ],
            [
             0.2,
             "#de77ae"
            ],
            [
             0.3,
             "#f1b6da"
            ],
            [
             0.4,
             "#fde0ef"
            ],
            [
             0.5,
             "#f7f7f7"
            ],
            [
             0.6,
             "#e6f5d0"
            ],
            [
             0.7,
             "#b8e186"
            ],
            [
             0.8,
             "#7fbc41"
            ],
            [
             0.9,
             "#4d9221"
            ],
            [
             1,
             "#276419"
            ]
           ],
           "sequential": [
            [
             0,
             "#0d0887"
            ],
            [
             0.1111111111111111,
             "#46039f"
            ],
            [
             0.2222222222222222,
             "#7201a8"
            ],
            [
             0.3333333333333333,
             "#9c179e"
            ],
            [
             0.4444444444444444,
             "#bd3786"
            ],
            [
             0.5555555555555556,
             "#d8576b"
            ],
            [
             0.6666666666666666,
             "#ed7953"
            ],
            [
             0.7777777777777778,
             "#fb9f3a"
            ],
            [
             0.8888888888888888,
             "#fdca26"
            ],
            [
             1,
             "#f0f921"
            ]
           ],
           "sequentialminus": [
            [
             0,
             "#0d0887"
            ],
            [
             0.1111111111111111,
             "#46039f"
            ],
            [
             0.2222222222222222,
             "#7201a8"
            ],
            [
             0.3333333333333333,
             "#9c179e"
            ],
            [
             0.4444444444444444,
             "#bd3786"
            ],
            [
             0.5555555555555556,
             "#d8576b"
            ],
            [
             0.6666666666666666,
             "#ed7953"
            ],
            [
             0.7777777777777778,
             "#fb9f3a"
            ],
            [
             0.8888888888888888,
             "#fdca26"
            ],
            [
             1,
             "#f0f921"
            ]
           ]
          },
          "colorway": [
           "#636efa",
           "#EF553B",
           "#00cc96",
           "#ab63fa",
           "#FFA15A",
           "#19d3f3",
           "#FF6692",
           "#B6E880",
           "#FF97FF",
           "#FECB52"
          ],
          "font": {
           "color": "#2a3f5f"
          },
          "geo": {
           "bgcolor": "white",
           "lakecolor": "white",
           "landcolor": "#E5ECF6",
           "showlakes": true,
           "showland": true,
           "subunitcolor": "white"
          },
          "hoverlabel": {
           "align": "left"
          },
          "hovermode": "closest",
          "mapbox": {
           "style": "light"
          },
          "paper_bgcolor": "white",
          "plot_bgcolor": "#E5ECF6",
          "polar": {
           "angularaxis": {
            "gridcolor": "white",
            "linecolor": "white",
            "ticks": ""
           },
           "bgcolor": "#E5ECF6",
           "radialaxis": {
            "gridcolor": "white",
            "linecolor": "white",
            "ticks": ""
           }
          },
          "scene": {
           "xaxis": {
            "backgroundcolor": "#E5ECF6",
            "gridcolor": "white",
            "gridwidth": 2,
            "linecolor": "white",
            "showbackground": true,
            "ticks": "",
            "zerolinecolor": "white"
           },
           "yaxis": {
            "backgroundcolor": "#E5ECF6",
            "gridcolor": "white",
            "gridwidth": 2,
            "linecolor": "white",
            "showbackground": true,
            "ticks": "",
            "zerolinecolor": "white"
           },
           "zaxis": {
            "backgroundcolor": "#E5ECF6",
            "gridcolor": "white",
            "gridwidth": 2,
            "linecolor": "white",
            "showbackground": true,
            "ticks": "",
            "zerolinecolor": "white"
           }
          },
          "shapedefaults": {
           "line": {
            "color": "#2a3f5f"
           }
          },
          "ternary": {
           "aaxis": {
            "gridcolor": "white",
            "linecolor": "white",
            "ticks": ""
           },
           "baxis": {
            "gridcolor": "white",
            "linecolor": "white",
            "ticks": ""
           },
           "bgcolor": "#E5ECF6",
           "caxis": {
            "gridcolor": "white",
            "linecolor": "white",
            "ticks": ""
           }
          },
          "title": {
           "x": 0.05
          },
          "xaxis": {
           "automargin": true,
           "gridcolor": "white",
           "linecolor": "white",
           "ticks": "",
           "title": {
            "standoff": 15
           },
           "zerolinecolor": "white",
           "zerolinewidth": 2
          },
          "yaxis": {
           "automargin": true,
           "gridcolor": "white",
           "linecolor": "white",
           "ticks": "",
           "title": {
            "standoff": 15
           },
           "zerolinecolor": "white",
           "zerolinewidth": 2
          }
         }
        },
        "title": {
         "font": {
          "color": "#a5a5a5",
          "family": "Roboto"
         },
         "text": "Correlations - Minimum Spanning Tree"
        },
        "width": 400,
        "xaxis": {
         "showgrid": false,
         "showline": false,
         "showticklabels": false,
         "ticks": "",
         "title": {
          "font": {
           "size": 20
          },
          "text": ""
         },
         "zeroline": false
        },
        "yaxis": {
         "showgrid": false,
         "showline": false,
         "showticklabels": false,
         "ticks": "",
         "title": {
          "font": {
           "size": 20
          },
          "text": ""
         },
         "zeroline": false
        }
       }
      },
      "text/html": [
       "<div>                            <div id=\"cb331c50-f08b-4c88-906f-f7b9eaf2e20a\" class=\"plotly-graph-div\" style=\"height:620px; width:400px;\"></div>            <script type=\"text/javascript\">                require([\"plotly\"], function(Plotly) {                    window.PLOTLYENV=window.PLOTLYENV || {};                                    if (document.getElementById(\"cb331c50-f08b-4c88-906f-f7b9eaf2e20a\")) {                    Plotly.newPlot(                        \"cb331c50-f08b-4c88-906f-f7b9eaf2e20a\",                        [{\"hoverinfo\":\"none\",\"line\":{\"color\":\"#DCDCDC\",\"width\":1},\"mode\":\"lines\",\"showlegend\":false,\"x\":[0.5989240464335537,0.11455212421903337,null,0.5989240464335537,0.9999999999999999,null,0.11455212421903337,-0.42712600406986645,null,0.11455212421903337,0.21974293819278484,null,-0.42712600406986645,-0.6926921836981154,null,-0.42712600406986645,-0.81340092107739,null],\"y\":[0.08739894464981811,-0.08758858776787719,null,0.08739894464981811,0.2222795143484458,null,-0.08758858776787719,0.04061453610902154,null,-0.08758858776787719,-0.49605451967574477,null,0.04061453610902154,0.38456360912305126,null,0.04061453610902154,-0.15121349678671464,null],\"type\":\"scatter\"},{\"hoverinfo\":\"text\",\"hovertext\":[\"<b>FB</b><br>Annualized Log Returns: -0.3%<br>Annualized Volatility: 6.9%<br>Sharpe Ratio: -0.05<br>Sortino Ratio: -0.06<br><br>Strongly correlated with: <br>AMZN: 0.24<br>GOOGL: 0.21<br>VIXY: -0.05<br><br>Weakly correlated with: <br>AAPL: 0.02<br>BABA: 0.02<br>GME: 0.03<br>\",\"<b>AMZN</b><br>Annualized Log Returns: 4.1%<br>Annualized Volatility: 6.0%<br>Sharpe Ratio: 0.69<br>Sortino Ratio: 1.18<br><br>Strongly correlated with: <br>GOOGL: 0.52<br>FB: 0.24<br>BABA: -0.14<br><br>Weakly correlated with: <br>GME: 0.00<br>VIXY: -0.01<br>AAPL: 0.07<br>\",\"<b>GOOGL</b><br>Annualized Log Returns: 2.9%<br>Annualized Volatility: 5.6%<br>Sharpe Ratio: 0.51<br>Sortino Ratio: 0.84<br><br>Strongly correlated with: <br>AMZN: 0.52<br>FB: 0.21<br>BABA: -0.11<br><br>Weakly correlated with: <br>VIXY: 0.00<br>GME: -0.00<br>AAPL: 0.02<br>\",\"<b>AAPL</b><br>Annualized Log Returns: 43.4%<br>Annualized Volatility: 37.7%<br>Sharpe Ratio: 1.15<br>Sortino Ratio: 1.93<br><br>Strongly correlated with: <br>VIXY: -0.62<br>BABA: 0.38<br>GME: 0.12<br><br>Weakly correlated with: <br>FB: 0.02<br>GOOGL: 0.02<br>AMZN: 0.07<br>\",\"<b>GME</b><br>Annualized Log Returns: 186.0%<br>Annualized Volatility: 186.4%<br>Sharpe Ratio: 1.00<br>Sortino Ratio: 2.17<br><br>Strongly correlated with: <br>AAPL: 0.12<br>BABA: 0.08<br>FB: 0.03<br><br>Weakly correlated with: <br>GOOGL: -0.00<br>AMZN: 0.00<br>VIXY: -0.02<br>\",\"<b>BABA</b><br>Annualized Log Returns: -20.4%<br>Annualized Volatility: 41.0%<br>Sharpe Ratio: -0.50<br>Sortino Ratio: -0.80<br><br>Strongly correlated with: <br>AAPL: 0.38<br>VIXY: -0.33<br>AMZN: -0.14<br><br>Weakly correlated with: <br>FB: 0.02<br>GME: 0.08<br>GOOGL: -0.11<br>\",\"<b>VIXY</b><br>Annualized Log Returns: -56.0%<br>Annualized Volatility: 83.5%<br>Sharpe Ratio: -0.67<br>Sortino Ratio: -1.47<br><br>Strongly correlated with: <br>AAPL: -0.62<br>BABA: -0.33<br>FB: -0.05<br><br>Weakly correlated with: <br>GOOGL: 0.00<br>AMZN: -0.01<br>GME: -0.02<br>\"],\"marker\":{\"color\":[\"#64646F\",\"#DCBBA6\",\"#DCBBA6\",\"#DCBBA6\",\"#DCBBA6\",\"#64646F\",\"#64646F\"],\"line\":{\"width\":1},\"size\":[5.671271435277385,20.33241688401247,17.012618513913516,65.87374892345048,136.38121005310867,45.19775783038294,74.86577281147923]},\"mode\":\"markers+text\",\"showlegend\":false,\"text\":[\"FB\",\"AMZN\",\"GOOGL\",\"AAPL\",\"GME\",\"BABA\",\"VIXY\"],\"textfont\":{\"size\":7},\"textposition\":\"top center\",\"x\":[0.5989240464335537,0.11455212421903337,0.9999999999999999,-0.42712600406986645,-0.6926921836981154,0.21974293819278484,-0.81340092107739],\"y\":[0.08739894464981811,-0.08758858776787719,0.2222795143484458,0.04061453610902154,0.38456360912305126,-0.49605451967574477,-0.15121349678671464],\"type\":\"scatter\"}],                        {\"autosize\":true,\"font\":{\"color\":\"#58595b\",\"family\":\"Roboto\"},\"height\":620,\"hovermode\":\"closest\",\"plot_bgcolor\":\"#fff\",\"showlegend\":false,\"template\":{\"data\":{\"barpolar\":[{\"marker\":{\"line\":{\"color\":\"#E5ECF6\",\"width\":0.5},\"pattern\":{\"fillmode\":\"overlay\",\"size\":10,\"solidity\":0.2}},\"type\":\"barpolar\"}],\"bar\":[{\"error_x\":{\"color\":\"#2a3f5f\"},\"error_y\":{\"color\":\"#2a3f5f\"},\"marker\":{\"line\":{\"color\":\"#E5ECF6\",\"width\":0.5},\"pattern\":{\"fillmode\":\"overlay\",\"size\":10,\"solidity\":0.2}},\"type\":\"bar\"}],\"carpet\":[{\"aaxis\":{\"endlinecolor\":\"#2a3f5f\",\"gridcolor\":\"white\",\"linecolor\":\"white\",\"minorgridcolor\":\"white\",\"startlinecolor\":\"#2a3f5f\"},\"baxis\":{\"endlinecolor\":\"#2a3f5f\",\"gridcolor\":\"white\",\"linecolor\":\"white\",\"minorgridcolor\":\"white\",\"startlinecolor\":\"#2a3f5f\"},\"type\":\"carpet\"}],\"choropleth\":[{\"colorbar\":{\"outlinewidth\":0,\"ticks\":\"\"},\"type\":\"choropleth\"}],\"contourcarpet\":[{\"colorbar\":{\"outlinewidth\":0,\"ticks\":\"\"},\"type\":\"contourcarpet\"}],\"contour\":[{\"colorbar\":{\"outlinewidth\":0,\"ticks\":\"\"},\"colorscale\":[[0.0,\"#0d0887\"],[0.1111111111111111,\"#46039f\"],[0.2222222222222222,\"#7201a8\"],[0.3333333333333333,\"#9c179e\"],[0.4444444444444444,\"#bd3786\"],[0.5555555555555556,\"#d8576b\"],[0.6666666666666666,\"#ed7953\"],[0.7777777777777778,\"#fb9f3a\"],[0.8888888888888888,\"#fdca26\"],[1.0,\"#f0f921\"]],\"type\":\"contour\"}],\"heatmapgl\":[{\"colorbar\":{\"outlinewidth\":0,\"ticks\":\"\"},\"colorscale\":[[0.0,\"#0d0887\"],[0.1111111111111111,\"#46039f\"],[0.2222222222222222,\"#7201a8\"],[0.3333333333333333,\"#9c179e\"],[0.4444444444444444,\"#bd3786\"],[0.5555555555555556,\"#d8576b\"],[0.6666666666666666,\"#ed7953\"],[0.7777777777777778,\"#fb9f3a\"],[0.8888888888888888,\"#fdca26\"],[1.0,\"#f0f921\"]],\"type\":\"heatmapgl\"}],\"heatmap\":[{\"colorbar\":{\"outlinewidth\":0,\"ticks\":\"\"},\"colorscale\":[[0.0,\"#0d0887\"],[0.1111111111111111,\"#46039f\"],[0.2222222222222222,\"#7201a8\"],[0.3333333333333333,\"#9c179e\"],[0.4444444444444444,\"#bd3786\"],[0.5555555555555556,\"#d8576b\"],[0.6666666666666666,\"#ed7953\"],[0.7777777777777778,\"#fb9f3a\"],[0.8888888888888888,\"#fdca26\"],[1.0,\"#f0f921\"]],\"type\":\"heatmap\"}],\"histogram2dcontour\":[{\"colorbar\":{\"outlinewidth\":0,\"ticks\":\"\"},\"colorscale\":[[0.0,\"#0d0887\"],[0.1111111111111111,\"#46039f\"],[0.2222222222222222,\"#7201a8\"],[0.3333333333333333,\"#9c179e\"],[0.4444444444444444,\"#bd3786\"],[0.5555555555555556,\"#d8576b\"],[0.6666666666666666,\"#ed7953\"],[0.7777777777777778,\"#fb9f3a\"],[0.8888888888888888,\"#fdca26\"],[1.0,\"#f0f921\"]],\"type\":\"histogram2dcontour\"}],\"histogram2d\":[{\"colorbar\":{\"outlinewidth\":0,\"ticks\":\"\"},\"colorscale\":[[0.0,\"#0d0887\"],[0.1111111111111111,\"#46039f\"],[0.2222222222222222,\"#7201a8\"],[0.3333333333333333,\"#9c179e\"],[0.4444444444444444,\"#bd3786\"],[0.5555555555555556,\"#d8576b\"],[0.6666666666666666,\"#ed7953\"],[0.7777777777777778,\"#fb9f3a\"],[0.8888888888888888,\"#fdca26\"],[1.0,\"#f0f921\"]],\"type\":\"histogram2d\"}],\"histogram\":[{\"marker\":{\"pattern\":{\"fillmode\":\"overlay\",\"size\":10,\"solidity\":0.2}},\"type\":\"histogram\"}],\"mesh3d\":[{\"colorbar\":{\"outlinewidth\":0,\"ticks\":\"\"},\"type\":\"mesh3d\"}],\"parcoords\":[{\"line\":{\"colorbar\":{\"outlinewidth\":0,\"ticks\":\"\"}},\"type\":\"parcoords\"}],\"pie\":[{\"automargin\":true,\"type\":\"pie\"}],\"scatter3d\":[{\"line\":{\"colorbar\":{\"outlinewidth\":0,\"ticks\":\"\"}},\"marker\":{\"colorbar\":{\"outlinewidth\":0,\"ticks\":\"\"}},\"type\":\"scatter3d\"}],\"scattercarpet\":[{\"marker\":{\"colorbar\":{\"outlinewidth\":0,\"ticks\":\"\"}},\"type\":\"scattercarpet\"}],\"scattergeo\":[{\"marker\":{\"colorbar\":{\"outlinewidth\":0,\"ticks\":\"\"}},\"type\":\"scattergeo\"}],\"scattergl\":[{\"marker\":{\"colorbar\":{\"outlinewidth\":0,\"ticks\":\"\"}},\"type\":\"scattergl\"}],\"scattermapbox\":[{\"marker\":{\"colorbar\":{\"outlinewidth\":0,\"ticks\":\"\"}},\"type\":\"scattermapbox\"}],\"scatterpolargl\":[{\"marker\":{\"colorbar\":{\"outlinewidth\":0,\"ticks\":\"\"}},\"type\":\"scatterpolargl\"}],\"scatterpolar\":[{\"marker\":{\"colorbar\":{\"outlinewidth\":0,\"ticks\":\"\"}},\"type\":\"scatterpolar\"}],\"scatter\":[{\"marker\":{\"colorbar\":{\"outlinewidth\":0,\"ticks\":\"\"}},\"type\":\"scatter\"}],\"scatterternary\":[{\"marker\":{\"colorbar\":{\"outlinewidth\":0,\"ticks\":\"\"}},\"type\":\"scatterternary\"}],\"surface\":[{\"colorbar\":{\"outlinewidth\":0,\"ticks\":\"\"},\"colorscale\":[[0.0,\"#0d0887\"],[0.1111111111111111,\"#46039f\"],[0.2222222222222222,\"#7201a8\"],[0.3333333333333333,\"#9c179e\"],[0.4444444444444444,\"#bd3786\"],[0.5555555555555556,\"#d8576b\"],[0.6666666666666666,\"#ed7953\"],[0.7777777777777778,\"#fb9f3a\"],[0.8888888888888888,\"#fdca26\"],[1.0,\"#f0f921\"]],\"type\":\"surface\"}],\"table\":[{\"cells\":{\"fill\":{\"color\":\"#EBF0F8\"},\"line\":{\"color\":\"white\"}},\"header\":{\"fill\":{\"color\":\"#C8D4E3\"},\"line\":{\"color\":\"white\"}},\"type\":\"table\"}]},\"layout\":{\"annotationdefaults\":{\"arrowcolor\":\"#2a3f5f\",\"arrowhead\":0,\"arrowwidth\":1},\"autotypenumbers\":\"strict\",\"coloraxis\":{\"colorbar\":{\"outlinewidth\":0,\"ticks\":\"\"}},\"colorscale\":{\"diverging\":[[0,\"#8e0152\"],[0.1,\"#c51b7d\"],[0.2,\"#de77ae\"],[0.3,\"#f1b6da\"],[0.4,\"#fde0ef\"],[0.5,\"#f7f7f7\"],[0.6,\"#e6f5d0\"],[0.7,\"#b8e186\"],[0.8,\"#7fbc41\"],[0.9,\"#4d9221\"],[1,\"#276419\"]],\"sequential\":[[0.0,\"#0d0887\"],[0.1111111111111111,\"#46039f\"],[0.2222222222222222,\"#7201a8\"],[0.3333333333333333,\"#9c179e\"],[0.4444444444444444,\"#bd3786\"],[0.5555555555555556,\"#d8576b\"],[0.6666666666666666,\"#ed7953\"],[0.7777777777777778,\"#fb9f3a\"],[0.8888888888888888,\"#fdca26\"],[1.0,\"#f0f921\"]],\"sequentialminus\":[[0.0,\"#0d0887\"],[0.1111111111111111,\"#46039f\"],[0.2222222222222222,\"#7201a8\"],[0.3333333333333333,\"#9c179e\"],[0.4444444444444444,\"#bd3786\"],[0.5555555555555556,\"#d8576b\"],[0.6666666666666666,\"#ed7953\"],[0.7777777777777778,\"#fb9f3a\"],[0.8888888888888888,\"#fdca26\"],[1.0,\"#f0f921\"]]},\"colorway\":[\"#636efa\",\"#EF553B\",\"#00cc96\",\"#ab63fa\",\"#FFA15A\",\"#19d3f3\",\"#FF6692\",\"#B6E880\",\"#FF97FF\",\"#FECB52\"],\"font\":{\"color\":\"#2a3f5f\"},\"geo\":{\"bgcolor\":\"white\",\"lakecolor\":\"white\",\"landcolor\":\"#E5ECF6\",\"showlakes\":true,\"showland\":true,\"subunitcolor\":\"white\"},\"hoverlabel\":{\"align\":\"left\"},\"hovermode\":\"closest\",\"mapbox\":{\"style\":\"light\"},\"paper_bgcolor\":\"white\",\"plot_bgcolor\":\"#E5ECF6\",\"polar\":{\"angularaxis\":{\"gridcolor\":\"white\",\"linecolor\":\"white\",\"ticks\":\"\"},\"bgcolor\":\"#E5ECF6\",\"radialaxis\":{\"gridcolor\":\"white\",\"linecolor\":\"white\",\"ticks\":\"\"}},\"scene\":{\"xaxis\":{\"backgroundcolor\":\"#E5ECF6\",\"gridcolor\":\"white\",\"gridwidth\":2,\"linecolor\":\"white\",\"showbackground\":true,\"ticks\":\"\",\"zerolinecolor\":\"white\"},\"yaxis\":{\"backgroundcolor\":\"#E5ECF6\",\"gridcolor\":\"white\",\"gridwidth\":2,\"linecolor\":\"white\",\"showbackground\":true,\"ticks\":\"\",\"zerolinecolor\":\"white\"},\"zaxis\":{\"backgroundcolor\":\"#E5ECF6\",\"gridcolor\":\"white\",\"gridwidth\":2,\"linecolor\":\"white\",\"showbackground\":true,\"ticks\":\"\",\"zerolinecolor\":\"white\"}},\"shapedefaults\":{\"line\":{\"color\":\"#2a3f5f\"}},\"ternary\":{\"aaxis\":{\"gridcolor\":\"white\",\"linecolor\":\"white\",\"ticks\":\"\"},\"baxis\":{\"gridcolor\":\"white\",\"linecolor\":\"white\",\"ticks\":\"\"},\"bgcolor\":\"#E5ECF6\",\"caxis\":{\"gridcolor\":\"white\",\"linecolor\":\"white\",\"ticks\":\"\"}},\"title\":{\"x\":0.05},\"xaxis\":{\"automargin\":true,\"gridcolor\":\"white\",\"linecolor\":\"white\",\"ticks\":\"\",\"title\":{\"standoff\":15},\"zerolinecolor\":\"white\",\"zerolinewidth\":2},\"yaxis\":{\"automargin\":true,\"gridcolor\":\"white\",\"linecolor\":\"white\",\"ticks\":\"\",\"title\":{\"standoff\":15},\"zerolinecolor\":\"white\",\"zerolinewidth\":2}}},\"title\":{\"font\":{\"color\":\"#a5a5a5\",\"family\":\"Roboto\"},\"text\":\"Correlations - Minimum Spanning Tree\"},\"width\":400,\"xaxis\":{\"showgrid\":false,\"showline\":false,\"showticklabels\":false,\"ticks\":\"\",\"title\":{\"font\":{\"size\":20},\"text\":\"\"},\"zeroline\":false},\"yaxis\":{\"showgrid\":false,\"showline\":false,\"showticklabels\":false,\"ticks\":\"\",\"title\":{\"font\":{\"size\":20},\"text\":\"\"},\"zeroline\":false}},                        {\"responsive\": true}                    ).then(function(){\n",
       "                            \n",
       "var gd = document.getElementById('cb331c50-f08b-4c88-906f-f7b9eaf2e20a');\n",
       "var x = new MutationObserver(function (mutations, observer) {{\n",
       "        var display = window.getComputedStyle(gd).display;\n",
       "        if (!display || display === 'none') {{\n",
       "            console.log([gd, 'removed!']);\n",
       "            Plotly.purge(gd);\n",
       "            observer.disconnect();\n",
       "        }}\n",
       "}});\n",
       "\n",
       "// Listen for the removal of the full notebook cells\n",
       "var notebookContainer = gd.closest('#notebook-container');\n",
       "if (notebookContainer) {{\n",
       "    x.observe(notebookContainer, {childList: true});\n",
       "}}\n",
       "\n",
       "// Listen for the clearing of the current output cell\n",
       "var outputEl = gd.closest('.output');\n",
       "if (outputEl) {{\n",
       "    x.observe(outputEl, {childList: true});\n",
       "}}\n",
       "\n",
       "                        })                };                });            </script>        </div>"
      ]
     },
     "metadata": {},
     "output_type": "display_data"
    }
   ],
   "source": [
    "iplot(MST)"
   ]
  },
  {
   "cell_type": "code",
   "execution_count": null,
   "metadata": {},
   "outputs": [],
   "source": []
  },
  {
   "cell_type": "code",
   "execution_count": null,
   "metadata": {},
   "outputs": [],
   "source": []
  },
  {
   "cell_type": "code",
   "execution_count": null,
   "metadata": {},
   "outputs": [],
   "source": []
  },
  {
   "cell_type": "code",
   "execution_count": null,
   "metadata": {},
   "outputs": [],
   "source": []
  },
  {
   "cell_type": "code",
   "execution_count": null,
   "metadata": {},
   "outputs": [],
   "source": []
  },
  {
   "cell_type": "code",
   "execution_count": null,
   "metadata": {},
   "outputs": [],
   "source": []
  },
  {
   "cell_type": "code",
   "execution_count": null,
   "metadata": {},
   "outputs": [],
   "source": []
  },
  {
   "cell_type": "code",
   "execution_count": null,
   "metadata": {},
   "outputs": [],
   "source": []
  }
 ],
 "metadata": {
  "interpreter": {
   "hash": "ce8c4f33465ee917852bf2dcc79d4da44fc1c72480e3f2cd9df1b27d64a024dd"
  },
  "kernelspec": {
   "display_name": "Python 3.8.11 64-bit ('dashenv': venv)",
   "language": "python",
   "name": "python3"
  },
  "language_info": {
   "codemirror_mode": {
    "name": "ipython",
    "version": 3
   },
   "file_extension": ".py",
   "mimetype": "text/x-python",
   "name": "python",
   "nbconvert_exporter": "python",
   "pygments_lexer": "ipython3",
   "version": "3.8.11"
  },
  "orig_nbformat": 4
 },
 "nbformat": 4,
 "nbformat_minor": 2
}
