{
 "cells": [
  {
   "cell_type": "code",
   "execution_count": 1,
   "metadata": {},
   "outputs": [
    {
     "data": {
      "text/html": [
       "        <script type=\"text/javascript\">\n",
       "        window.PlotlyConfig = {MathJaxConfig: 'local'};\n",
       "        if (window.MathJax) {MathJax.Hub.Config({SVG: {font: \"STIX-Web\"}});}\n",
       "        if (typeof require !== 'undefined') {\n",
       "        require.undef(\"plotly\");\n",
       "        requirejs.config({\n",
       "            paths: {\n",
       "                'plotly': ['https://cdn.plot.ly/plotly-2.6.3.min']\n",
       "            }\n",
       "        });\n",
       "        require(['plotly'], function(Plotly) {\n",
       "            window._Plotly = Plotly;\n",
       "        });\n",
       "        }\n",
       "        </script>\n",
       "        "
      ]
     },
     "metadata": {},
     "output_type": "display_data"
    }
   ],
   "source": [
    "import dash\n",
    "# import dash_core_components as dcc\n",
    "from dash import dcc\n",
    "# import dash_html_components as html\n",
    "from dash import html\n",
    "from dash.dependencies import Output, Input\n",
    "import dash_bootstrap_components as dbc\n",
    "import pandas as pd\n",
    "import plotly.express as px\n",
    "import plotly.graph_objects as go\n",
    "from alpha_vantage.timeseries import TimeSeries\n",
    "from pwe.av import get_av_ts\n",
    "from datetime import datetime, timedelta\n",
    "import pandas_datareader.data as web\n",
    "\n",
    "import pytz\n",
    "import pwe.pwetools as pwe\n",
    "from pwe import charts"
   ]
  },
  {
   "cell_type": "code",
   "execution_count": 2,
   "metadata": {},
   "outputs": [
    {
     "name": "stdout",
     "output_type": "stream",
     "text": [
      "END: 2021-11-22 14:14:41.421760+00:00\n",
      "START 2021-10-23 14:14:41.421760+00:00\n"
     ]
    }
   ],
   "source": [
    "end_date = pytz.utc.localize(datetime.utcnow())\n",
    "srt_end = pwe.dt_to_str(end_date)\n",
    "print (\"END:\",end_date)\n",
    "start_date = (end_date - timedelta(days=30))\n",
    "srt_start = pwe.dt_to_str(start_date)\n",
    "print (\"START\",start_date)"
   ]
  },
  {
   "cell_type": "code",
   "execution_count": null,
   "metadata": {},
   "outputs": [],
   "source": [
    "ticker = 'FB'\n",
    "\n",
    "df = web.DataReader(ticker, # ['AMZN', 'GOOGL',]\n",
    "                    'stooq', start=start_date, end=end_date)\n",
    "# df=df.melt(ignore_index=False, value_name=\"price\").reset_index()\n",
    "# df = df.stack().reset_index()\n",
    "df = pwe.sort_index(df, utc=True)\n",
    "df.index.names = ['DateTime']\n",
    "df[:15]"
   ]
  },
  {
   "cell_type": "code",
   "execution_count": null,
   "metadata": {},
   "outputs": [],
   "source": [
    "if df.index[1] - df.index[0] == timedelta(days=1):\n",
    "    print (\"Daily\")\n",
    "if df.index[1] - df.index[0] == timedelta(hours=1):\n",
    "    print (\"Hourly\")\n",
    "if df.index[1] - df.index[0] == timedelta(minutes=1):\n",
    "    print (\"Per Minute\")\n",
    "if df.index[1] - df.index[0] == timedelta(seconds=1):\n",
    "    print (\"Per Second\")\n",
    "if df.index[1] - df.index[0] == timedelta(weeks=1):\n",
    "    print (\"Weekly\")\n",
    "if timedelta(days=32) >= df.index[1] - df.index[0] >= timedelta(days=27):\n",
    "    print (\"Monthly\")\n",
    "if timedelta(days=182) >= df.index[1] - df.index[0] >= timedelta(days=90):\n",
    "    print (\"Semi-Annual\")\n",
    "if  timedelta(days=360) >= df.index[1] - df.index[0] >= timedelta(days=182):\n",
    "    print (\"Annual\")"
   ]
  },
  {
   "cell_type": "code",
   "execution_count": null,
   "metadata": {},
   "outputs": [],
   "source": [
    "df.index[df['Volume'] > 50806840][0]"
   ]
  },
  {
   "cell_type": "code",
   "execution_count": null,
   "metadata": {},
   "outputs": [],
   "source": [
    "# from fidash.charts import quant_chart\n",
    "\n",
    "# plt_int = quant_chart(df, start_date, end_date, ticker=ticker, title=f'{ticker}', theme='white', auto_start=srt_start, auto_end=None,\n",
    "#                         asPlot=False, asFigure=True, showlegend=True, boll_std=2, boll_periods=20, showboll=True, showrsi=True, rsi_periods=14,\n",
    "#                         showama=True, ama_periods=9, showvol=True, show_range=True, annots=None, textangle=0, file_tag=None,\n",
    "#                         support=None, resist=None, annot_font_size=6, title_dates=False, title_time=False, chart_ticker=True,\n",
    "#                         top_margin=0.9, spacing=0.08, range_fontsize=9.8885, title_x=0.5, title_y=0.933,\n",
    "#                         arrowhead=6, arrowlen=-50)"
   ]
  },
  {
   "cell_type": "code",
   "execution_count": null,
   "metadata": {},
   "outputs": [],
   "source": [
    "from fidash.dtools import end_date, str_start, str_end, wdr_ticker, wdr_multi_ticker # start_date"
   ]
  },
  {
   "cell_type": "code",
   "execution_count": null,
   "metadata": {},
   "outputs": [],
   "source": [
    "symbols = ['FB', 'AMZN', 'GOOGL', 'AAPL', 'GME', 'BABA', 'VIXY']\n",
    "\n",
    "from datetime import timedelta\n",
    "s_d = (end_date - timedelta(days=700))\n",
    "print(s_d)"
   ]
  },
  {
   "cell_type": "code",
   "execution_count": null,
   "metadata": {},
   "outputs": [],
   "source": [
    "df1 = wdr_multi_ticker(symbols, s_d, end_date, source='stooq', price='Close')\n",
    "df1.head()"
   ]
  },
  {
   "cell_type": "code",
   "execution_count": null,
   "metadata": {},
   "outputs": [],
   "source": [
    "import pandas as pd\n",
    "import numpy as np"
   ]
  },
  {
   "cell_type": "code",
   "execution_count": null,
   "metadata": {},
   "outputs": [],
   "source": [
    "from fidash.ntwrkx import plot_mst\n",
    "from plotly.offline import download_plotlyjs, init_notebook_mode, plot, iplot"
   ]
  },
  {
   "cell_type": "code",
   "execution_count": null,
   "metadata": {},
   "outputs": [],
   "source": [
    "\n",
    "df1 = df1.pct_change().fillna(0).add(1).cumprod().mul(100)\n",
    "MST = plot_mst(df1, ann_factor=252, corr_threshold=0.05, node_size_factor=10, savefig=True)"
   ]
  },
  {
   "cell_type": "code",
   "execution_count": null,
   "metadata": {},
   "outputs": [],
   "source": [
    "iplot(MST)"
   ]
  },
  {
   "cell_type": "markdown",
   "metadata": {},
   "source": [
    "# Test 3"
   ]
  },
  {
   "cell_type": "code",
   "execution_count": 3,
   "metadata": {},
   "outputs": [
    {
     "name": "stdout",
     "output_type": "stream",
     "text": [
      "END: 2021-11-22 14:14:45.704606+00:00\n",
      "START 2020-11-22 14:14:45.704606+00:00\n"
     ]
    },
    {
     "data": {
      "text/html": [
       "        <script type=\"text/javascript\">\n",
       "        window.PlotlyConfig = {MathJaxConfig: 'local'};\n",
       "        if (window.MathJax) {MathJax.Hub.Config({SVG: {font: \"STIX-Web\"}});}\n",
       "        if (typeof require !== 'undefined') {\n",
       "        require.undef(\"plotly\");\n",
       "        requirejs.config({\n",
       "            paths: {\n",
       "                'plotly': ['https://cdn.plot.ly/plotly-2.6.3.min']\n",
       "            }\n",
       "        });\n",
       "        require(['plotly'], function(Plotly) {\n",
       "            window._Plotly = Plotly;\n",
       "        });\n",
       "        }\n",
       "        </script>\n",
       "        "
      ]
     },
     "metadata": {},
     "output_type": "display_data"
    }
   ],
   "source": [
    "import pandas as pd\n",
    "import numpy as np\n",
    "from fidash.dtools import end_date, str_start, str_end, wdr_ticker, wdr_multi_ticker \n",
    "from fidash.d_charts import pwe_box, calc_interval\n",
    "from datetime import timedelta\n",
    "# from pwe.analysis import Security"
   ]
  },
  {
   "cell_type": "code",
   "execution_count": 4,
   "metadata": {},
   "outputs": [
    {
     "name": "stdout",
     "output_type": "stream",
     "text": [
      "2019-12-23 14:14:45.704606+00:00\n"
     ]
    }
   ],
   "source": [
    "symbols = ['FB', 'AMZN', 'GOOGL', 'AAPL', 'GME', 'BABA', 'VIXY']\n",
    "s_d = (end_date - timedelta(days=700))\n",
    "print(s_d)"
   ]
  },
  {
   "cell_type": "code",
   "execution_count": 5,
   "metadata": {},
   "outputs": [
    {
     "name": "stdout",
     "output_type": "stream",
     "text": [
      "\n",
      "\n",
      "Checking if ticker files exist locally...\n",
      "Matching local file exists.\n",
      "Reading recent file from CSV...\n",
      "/Users/zenman618/Documents/git_packages/FiDash/csv_files/FB_2020-11-22_2021-11-22.csv\n",
      "Matching local file exists.\n",
      "Reading recent file from CSV...\n",
      "/Users/zenman618/Documents/git_packages/FiDash/csv_files/AMZN_2020-11-22_2021-11-22.csv\n",
      "Matching local file exists.\n",
      "Reading recent file from CSV...\n",
      "/Users/zenman618/Documents/git_packages/FiDash/csv_files/GOOGL_2020-11-22_2021-11-22.csv\n",
      "Matching local file exists.\n",
      "Reading recent file from CSV...\n",
      "/Users/zenman618/Documents/git_packages/FiDash/csv_files/AAPL_2020-11-22_2021-11-22.csv\n",
      "Matching local file exists.\n",
      "Reading recent file from CSV...\n",
      "/Users/zenman618/Documents/git_packages/FiDash/csv_files/GME_2020-11-22_2021-11-22.csv\n",
      "Matching local file exists.\n",
      "Reading recent file from CSV...\n",
      "/Users/zenman618/Documents/git_packages/FiDash/csv_files/BABA_2020-11-22_2021-11-22.csv\n",
      "Matching local file exists.\n",
      "Reading recent file from CSV...\n",
      "/Users/zenman618/Documents/git_packages/FiDash/csv_files/VIXY_2020-11-22_2021-11-22.csv\n"
     ]
    },
    {
     "data": {
      "text/html": [
       "<div>\n",
       "<style scoped>\n",
       "    .dataframe tbody tr th:only-of-type {\n",
       "        vertical-align: middle;\n",
       "    }\n",
       "\n",
       "    .dataframe tbody tr th {\n",
       "        vertical-align: top;\n",
       "    }\n",
       "\n",
       "    .dataframe thead th {\n",
       "        text-align: right;\n",
       "    }\n",
       "</style>\n",
       "<table border=\"1\" class=\"dataframe\">\n",
       "  <thead>\n",
       "    <tr style=\"text-align: right;\">\n",
       "      <th></th>\n",
       "      <th>FB</th>\n",
       "      <th>AMZN</th>\n",
       "      <th>GOOGL</th>\n",
       "      <th>AAPL</th>\n",
       "      <th>GME</th>\n",
       "      <th>BABA</th>\n",
       "      <th>VIXY</th>\n",
       "    </tr>\n",
       "    <tr>\n",
       "      <th>DateTime</th>\n",
       "      <th></th>\n",
       "      <th></th>\n",
       "      <th></th>\n",
       "      <th></th>\n",
       "      <th></th>\n",
       "      <th></th>\n",
       "      <th></th>\n",
       "    </tr>\n",
       "  </thead>\n",
       "  <tbody>\n",
       "    <tr>\n",
       "      <th>2019-12-23</th>\n",
       "      <td>NaN</td>\n",
       "      <td>NaN</td>\n",
       "      <td>1350.63</td>\n",
       "      <td>NaN</td>\n",
       "      <td>5.61</td>\n",
       "      <td>214.83</td>\n",
       "      <td>49.64</td>\n",
       "    </tr>\n",
       "    <tr>\n",
       "      <th>2019-12-24</th>\n",
       "      <td>NaN</td>\n",
       "      <td>NaN</td>\n",
       "      <td>1344.43</td>\n",
       "      <td>NaN</td>\n",
       "      <td>5.44</td>\n",
       "      <td>214.26</td>\n",
       "      <td>49.12</td>\n",
       "    </tr>\n",
       "    <tr>\n",
       "      <th>2019-12-26</th>\n",
       "      <td>NaN</td>\n",
       "      <td>NaN</td>\n",
       "      <td>1362.47</td>\n",
       "      <td>NaN</td>\n",
       "      <td>5.40</td>\n",
       "      <td>216.38</td>\n",
       "      <td>49.00</td>\n",
       "    </tr>\n",
       "    <tr>\n",
       "      <th>2019-12-27</th>\n",
       "      <td>NaN</td>\n",
       "      <td>NaN</td>\n",
       "      <td>1354.64</td>\n",
       "      <td>NaN</td>\n",
       "      <td>5.90</td>\n",
       "      <td>215.47</td>\n",
       "      <td>50.08</td>\n",
       "    </tr>\n",
       "    <tr>\n",
       "      <th>2019-12-30</th>\n",
       "      <td>NaN</td>\n",
       "      <td>NaN</td>\n",
       "      <td>1339.71</td>\n",
       "      <td>NaN</td>\n",
       "      <td>6.13</td>\n",
       "      <td>212.91</td>\n",
       "      <td>51.88</td>\n",
       "    </tr>\n",
       "  </tbody>\n",
       "</table>\n",
       "</div>"
      ],
      "text/plain": [
       "            FB  AMZN    GOOGL  AAPL   GME    BABA   VIXY\n",
       "DateTime                                                \n",
       "2019-12-23 NaN   NaN  1350.63   NaN  5.61  214.83  49.64\n",
       "2019-12-24 NaN   NaN  1344.43   NaN  5.44  214.26  49.12\n",
       "2019-12-26 NaN   NaN  1362.47   NaN  5.40  216.38  49.00\n",
       "2019-12-27 NaN   NaN  1354.64   NaN  5.90  215.47  50.08\n",
       "2019-12-30 NaN   NaN  1339.71   NaN  6.13  212.91  51.88"
      ]
     },
     "execution_count": 5,
     "metadata": {},
     "output_type": "execute_result"
    }
   ],
   "source": [
    "df = wdr_multi_ticker(symbols, s_d, end_date, source='stooq', price='Close')\n",
    "df.head()"
   ]
  },
  {
   "cell_type": "code",
   "execution_count": null,
   "metadata": {},
   "outputs": [],
   "source": [
    "# df = df.pct_change().fillna(0)\n",
    "df = df.pct_change()"
   ]
  },
  {
   "cell_type": "code",
   "execution_count": null,
   "metadata": {},
   "outputs": [],
   "source": [
    "df.columns.values.astype(str)"
   ]
  },
  {
   "cell_type": "code",
   "execution_count": 6,
   "metadata": {},
   "outputs": [
    {
     "data": {
      "text/plain": [
       "'FB, AMZN, GOOGL, AAPL, GME, BABA, VIXY'"
      ]
     },
     "execution_count": 6,
     "metadata": {},
     "output_type": "execute_result"
    }
   ],
   "source": [
    "def ext_str_lst(str_list):\n",
    "    return \", \".join(map(str, str_list))\n",
    "\n",
    "ext_str_lst(df.columns)"
   ]
  },
  {
   "cell_type": "code",
   "execution_count": null,
   "metadata": {},
   "outputs": [],
   "source": [
    "len(df.columns)"
   ]
  },
  {
   "cell_type": "code",
   "execution_count": 7,
   "metadata": {},
   "outputs": [
    {
     "name": "stdout",
     "output_type": "stream",
     "text": [
      "Checking if charts directory exists...\n",
      "charts folder already exists.\n"
     ]
    },
    {
     "data": {
      "application/vnd.plotly.v1+json": {
       "config": {
        "plotlyServerURL": "https://plot.ly"
       },
       "data": [
        {
         "boxpoints": false,
         "line": {
          "width": 1.3
         },
         "marker": {
          "color": "rgba(220, 187, 166, 1.0)"
         },
         "name": "FB",
         "orientation": "v",
         "type": "box",
         "y": [
          null,
          null,
          null,
          null,
          null,
          null,
          null,
          null,
          null,
          null,
          null,
          null,
          null,
          null,
          null,
          null,
          null,
          null,
          null,
          null,
          null,
          null,
          null,
          null,
          null,
          null,
          null,
          null,
          null,
          null,
          null,
          null,
          null,
          null,
          null,
          null,
          null,
          null,
          null,
          null,
          null,
          null,
          null,
          null,
          null,
          null,
          null,
          null,
          null,
          null,
          null,
          null,
          null,
          null,
          null,
          null,
          null,
          null,
          null,
          null,
          null,
          null,
          null,
          null,
          null,
          null,
          null,
          null,
          null,
          null,
          null,
          null,
          null,
          null,
          null,
          null,
          null,
          null,
          null,
          null,
          null,
          null,
          null,
          null,
          null,
          null,
          null,
          null,
          null,
          null,
          null,
          null,
          null,
          null,
          null,
          null,
          null,
          null,
          null,
          null,
          null,
          null,
          null,
          null,
          null,
          null,
          null,
          null,
          null,
          null,
          null,
          null,
          null,
          null,
          null,
          null,
          null,
          null,
          null,
          null,
          null,
          null,
          null,
          null,
          null,
          null,
          null,
          null,
          null,
          null,
          null,
          null,
          null,
          null,
          null,
          null,
          null,
          null,
          null,
          null,
          null,
          null,
          null,
          null,
          null,
          null,
          null,
          null,
          null,
          null,
          null,
          null,
          null,
          null,
          null,
          null,
          null,
          null,
          null,
          null,
          null,
          null,
          null,
          null,
          null,
          null,
          null,
          null,
          null,
          null,
          null,
          null,
          null,
          null,
          null,
          null,
          null,
          null,
          null,
          null,
          null,
          null,
          null,
          null,
          null,
          null,
          null,
          null,
          null,
          null,
          null,
          null,
          null,
          null,
          null,
          null,
          null,
          null,
          null,
          null,
          null,
          null,
          null,
          null,
          null,
          null,
          null,
          null,
          null,
          null,
          null,
          null,
          null,
          null,
          null,
          null,
          null,
          null,
          null,
          null,
          null,
          null,
          null,
          null,
          null,
          null,
          null,
          null,
          null,
          null,
          null,
          null,
          null,
          0.03162835748612314,
          -0.004802831142568409,
          0.008055444682318003,
          -0.0030236492566861894,
          0.034588583601111944,
          0.003385098586633939,
          -0.01972036727879789,
          -0.007628171012950324,
          0.021022524132999543,
          -0.007633587786259555,
          -0.019336626676076052,
          -0.0028785261945883933,
          -0.012882505773672004,
          0.0023396088466458576,
          0.004960064189065916,
          0.0004354926510614643,
          -0.004316755541045492,
          0.006995045176333203,
          -0.013060781476121441,
          -0.020895194105355896,
          0.0038189374368191586,
          -0.0026481667972102496,
          0.03590127150336575,
          -0.0007942238267149015,
          -0.017739721078112503,
          0.004744914849008852,
          -0.015448821203690288,
          0.007548152004164699,
          -0.028268812045614045,
          0.02062208043750724,
          -0.004353650368385864,
          -0.040101655641514466,
          -0.022387478585889964,
          0.00219044963957149,
          -0.023843586075345757,
          0.023286109754111717,
          0.03874920432845319,
          0.024435082343929437,
          0.020151039330043252,
          0.005973540513797726,
          0.012786885245901658,
          0.014531851372252769,
          -0.0351356142527921,
          -0.026236495921217018,
          -0.025169811320754798,
          0.014245345101227214,
          0.01935040647303543,
          -0.0016100044930358326,
          -0.0006000375023438309,
          0.00604150249540325,
          -0.005669526296158245,
          0.010765998949658684,
          0.008981258118389457,
          -0.005443778276382205,
          0.0004068197788380523,
          0.012828096118299603,
          -0.0014600138701318377,
          -0.015279453156413325,
          -0.029065666877018392,
          -0.004702553907325324,
          0.021223063035378242,
          -0.0058114385661357515,
          -0.036396655442472836,
          0.0115041815540462,
          0.028297492430712,
          -0.022309463591408507,
          -0.013861003861003862,
          0.008731059864531598,
          0.025772395590746733,
          -0.033941274405932975,
          0.040852297207316646,
          -0.003160984420862656,
          0.03389958474896204,
          -0.020008762961881144,
          0.01993293591654255,
          0.020200913242009122,
          0.016936407906044115,
          -0.01897820499278191,
          0.041238963462780776,
          0.011823101582158602,
          -0.0099134700551885,
          -0.029212400646870584,
          -0.012050754944353814,
          0.015354810934921304,
          0.027559889760440992,
          -0.009696719620383765,
          0.02267361111111099,
          0.01402234067836905,
          0.034319962499163026,
          -0.008578550386844186,
          0.02230131261020052,
          -0.00022357788495319664,
          -0.0017890230656187889,
          -0.002944376880240518,
          -0.005713552031841873,
          -0.022404442148760362,
          0.016511458952513047,
          -0.005327788967578462,
          -0.012868247436148672,
          0.0013565378507145454,
          -0.003898893110854007,
          -0.0164195442332572,
          0.015547012005935557,
          0.006342775545445489,
          0.001748944033790778,
          0.01162829001548249,
          0.0729729729729729,
          -0.01344420503171373,
          -0.007690414667158807,
          -0.013082026164052185,
          -0.010491267747204547,
          0.01587200812646805,
          -0.0029373164177238786,
          -0.0410868747649491,
          0.001830244795241187,
          -0.012984047238443042,
          0.008957197157494656,
          0.03498656882657403,
          -0.0015192758118630634,
          -0.017434857034172357,
          0.01171118854045683,
          0.016008163525622843,
          -0.007469947584821557,
          0.026562944692154478,
          0.009734158888580868,
          -0.0003965953811891909,
          0.015534395409876112,
          -0.012081141998497302,
          0.0012168040641256095,
          0.00006076626257089934,
          -0.009448579674920077,
          0.013219236903447396,
          0.018858786135916406,
          -0.00861607938677278,
          -0.010279309518101187,
          0.006691900075700197,
          -0.00360945677675506,
          0.016633460121958654,
          -0.00005938771268221288,
          -0.016837416481069067,
          0.016400869880391467,
          -0.02035600725089881,
          0.007977916641388028,
          0.020283487315296833,
          0.004601362711264434,
          0.007604451099562537,
          -0.005274200128212558,
          0.04180215015965083,
          -0.010544370711955908,
          -0.011878712097530553,
          0.019211411808691237,
          0.0008747425153079469,
          -0.0054130250916267775,
          -0.006491297692612807,
          -0.013809238494678966,
          0.013800086792998822,
          0.00781918840248852,
          -0.0030297881979840513,
          -0.01266721576869545,
          -0.009118890774674315,
          -0.009580212506531849,
          -0.01234025090866464,
          0.013978335064549707,
          0.013375870748697505,
          0.014325737226698942,
          0.05296278367835083,
          0.007220314232402103,
          -0.012484562100628205,
          0.014871808814333365,
          -0.04007715387912558,
          -0.0056374190667559665,
          -0.01220881279820385,
          -0.002017332007387407,
          0.021865391185514227,
          0.011283851554664048,
          0.0014877262583683493,
          -0.005226816318670724,
          -0.0013273969193330348,
          -0.0032398305319414344,
          0.007473052561395743,
          0.0014614642217014584,
          0.00930667988325351,
          -0.022124618070711533,
          -0.008369368112707498,
          -0.0009284006189337335,
          0.011967785537283282,
          0.011074936694771553,
          0.005944681436631294,
          0.007879401384367046,
          -0.010885203181410952,
          0.0226411987485593,
          0.021549526339800895,
          -0.003362580780749358,
          0.0070377985133640575,
          -0.017720193691925235,
          0.0026113835003198638,
          0.015733801094987454,
          -0.012062378983724975,
          0.0011388616680350072,
          0.00182539682539673,
          -0.005756687528057247,
          0.00005311943905872418,
          -0.006931718588160218,
          -0.0022999572100984578,
          -0.02235565324612654,
          -0.024731300723842997,
          0.005004217036828962,
          -0.03991831710864957,
          0.008012587045832076,
          0.020233553011908878,
          0.0017565729827742071,
          -0.036568810453079914,
          -0.0030529869367385,
          -0.0006478018904038096,
          0.010666195232623243,
          -0.04891985656394848,
          0.020629617141280532,
          0.0020422873618453075,
          -0.013247812012948001,
          0.0025211105036144765,
          -0.013937282229965264,
          -0.00516208326931944,
          0.002378231460604896,
          0.012294324274357393,
          -0.01147535993668758,
          0.0325779036827194,
          0.013866523528359487,
          0.0023235977528750507,
          0.0032278889606198735,
          -0.050514800514800506,
          0.01256892886848826,
          -0.03918585901609417,
          -0.011367594439694706,
          0.015053487925180908,
          0.020983213429256464,
          0.01981024198782344,
          -0.005757924722710528,
          0.0107900512070227,
          0.01275556359688812,
          0.015721304153639926,
          -0.007357898748277747,
          -0.009597779221546254,
          -0.02304916957390346,
          0.00030521303870112426,
          0.04012326844449854,
          0.019566429053360368,
          -0.013235124870526027,
          -0.006385584324702598,
          -0.006103823693400234,
          0.01951637190351052
         ]
        },
        {
         "boxpoints": false,
         "line": {
          "width": 1.3
         },
         "marker": {
          "color": "rgba(100, 100, 111, 1.0)"
         },
         "name": "AMZN",
         "orientation": "v",
         "type": "box",
         "y": [
          null,
          null,
          null,
          null,
          null,
          null,
          null,
          null,
          null,
          null,
          null,
          null,
          null,
          null,
          null,
          null,
          null,
          null,
          null,
          null,
          null,
          null,
          null,
          null,
          null,
          null,
          null,
          null,
          null,
          null,
          null,
          null,
          null,
          null,
          null,
          null,
          null,
          null,
          null,
          null,
          null,
          null,
          null,
          null,
          null,
          null,
          null,
          null,
          null,
          null,
          null,
          null,
          null,
          null,
          null,
          null,
          null,
          null,
          null,
          null,
          null,
          null,
          null,
          null,
          null,
          null,
          null,
          null,
          null,
          null,
          null,
          null,
          null,
          null,
          null,
          null,
          null,
          null,
          null,
          null,
          null,
          null,
          null,
          null,
          null,
          null,
          null,
          null,
          null,
          null,
          null,
          null,
          null,
          null,
          null,
          null,
          null,
          null,
          null,
          null,
          null,
          null,
          null,
          null,
          null,
          null,
          null,
          null,
          null,
          null,
          null,
          null,
          null,
          null,
          null,
          null,
          null,
          null,
          null,
          null,
          null,
          null,
          null,
          null,
          null,
          null,
          null,
          null,
          null,
          null,
          null,
          null,
          null,
          null,
          null,
          null,
          null,
          null,
          null,
          null,
          null,
          null,
          null,
          null,
          null,
          null,
          null,
          null,
          null,
          null,
          null,
          null,
          null,
          null,
          null,
          null,
          null,
          null,
          null,
          null,
          null,
          null,
          null,
          null,
          null,
          null,
          null,
          null,
          null,
          null,
          null,
          null,
          null,
          null,
          null,
          null,
          null,
          null,
          null,
          null,
          null,
          null,
          null,
          null,
          null,
          null,
          null,
          null,
          null,
          null,
          null,
          null,
          null,
          null,
          null,
          null,
          null,
          null,
          null,
          null,
          null,
          null,
          null,
          null,
          null,
          null,
          null,
          null,
          null,
          null,
          null,
          null,
          null,
          null,
          null,
          null,
          null,
          null,
          null,
          null,
          null,
          null,
          null,
          null,
          null,
          null,
          null,
          null,
          null,
          null,
          null,
          null,
          null,
          0.006348458392907208,
          0.021490927050794584,
          0.0032244189295682624,
          -0.008543691751112581,
          0.01642656027070366,
          -0.005139623860276665,
          -0.005244214975355321,
          -0.007578301268071019,
          -0.001448184709952005,
          0.006108296390120227,
          -0.023003880665598664,
          -0.0008730107596159886,
          0.0048138152952290625,
          0.01301172499213843,
          0.0025815893087359765,
          0.02396117682741883,
          -0.0015057266982623219,
          -0.010639415589231316,
          0.0014148954445363238,
          0.0001060452002070722,
          -0.006627122238439198,
          -0.003949429718673736,
          0.03507118565003209,
          0.011583575926625178,
          -0.010881998795906123,
          -0.008801375595355876,
          -0.02158474391528209,
          0.010004299212647894,
          -0.024896613650415955,
          0.007577157641840637,
          0.006495559996964051,
          -0.021519464605523564,
          0.002125739754223366,
          0.01443846668995108,
          -0.012135607996487607,
          -0.007424531650183641,
          0.005318514939196328,
          0.04570040631128314,
          0.013363445262273954,
          -0.004463273248482724,
          0.000537629509481441,
          0.00975409836065566,
          -0.028125779810169838,
          0.0015591261469167783,
          -0.00970465959562894,
          0.04262990455991522,
          0.011104197578136077,
          -0.019961538461538364,
          0.0055757985588054115,
          0.0063494446112279945,
          -0.008713810539504485,
          -0.005398833563049599,
          -0.005573373676248106,
          -0.007439344242343049,
          0.004776020575513629,
          -0.002672597636764751,
          0.012141513329968268,
          0.005920861743798023,
          -0.023535032134197387,
          -0.02128065478937824,
          0.004326037337223587,
          -0.010946940053216392,
          -0.032400388665402846,
          0.011700401679990646,
          0.0172037517822905,
          -0.016404228673866927,
          -0.028931695604825336,
          -0.009128119800332679,
          0.0076874767007995,
          -0.016167520980116423,
          0.03756838699842491,
          -0.001701030086357469,
          0.01829842623722877,
          -0.007740261241846347,
          -0.0025279253210076513,
          0.0033033929544925567,
          0.014188870129954179,
          -0.034358825536637494,
          0.015511940264003599,
          0.011678200692041507,
          0.00856030628087967,
          -0.016073306772908302,
          -0.013219654883109166,
          0.0018941259117737363,
          0.007765323407699087,
          -0.0066455768224129574,
          0.01269601248981278,
          0.021628400041369344,
          0.020794052515026973,
          -0.0009018418026918162,
          0.01723731473841572,
          0.006071251055836724,
          0.02209559603552247,
          0.00213213925627187,
          0.006098733795152356,
          -0.01970588235294113,
          0.013828382838283915,
          0.006022331456102092,
          -0.00806897606664625,
          -0.011067582836349898,
          0.008195664364603505,
          -0.01575838335286528,
          0.009622126054686708,
          0.020389837408107958,
          0.0024728659430917066,
          0.012017802851850723,
          0.0037039178834754605,
          -0.0011206144078171887,
          -0.02334012032000743,
          -0.02203461401037654,
          -0.012479354564037815,
          0.01095537739945085,
          -0.0044641101873050815,
          -0.030720528859737417,
          0.010474880034101464,
          -0.02232382417623313,
          0.003023534711955156,
          0.01943083439033111,
          0.01473517639393096,
          -0.011653044438124982,
          -0.00014850198621407795,
          0.004913670400396031,
          -0.013732880086708033,
          0.013084281379172502,
          0.004332833074986553,
          0.0018747794602720358,
          -0.01073454287079334,
          -0.0021794923392701726,
          -0.001371363327510755,
          0.004765973311792182,
          -0.014526946589197731,
          0.006027593261395348,
          -0.0025606477409534367,
          0.020669103598800476,
          0.00522041230228143,
          0.02087682672233826,
          -0.0008418790022838296,
          0.011067188951933593,
          -0.00021868452393258853,
          0.00949416664449787,
          0.02166459263597087,
          -0.0006706331464730875,
          -0.009446786543921504,
          0.014904631205920227,
          -0.00046213884704915387,
          -0.015622948667454395,
          -0.013806580305472771,
          0.012474055258624217,
          0.0012340696131409867,
          -0.002314291183072581,
          -0.002090019068880511,
          0.022723763971138844,
          0.04692706879560693,
          0.005669606664236326,
          0.009422222703147298,
          -0.0032347021635252826,
          -0.00021240327585003715,
          -0.011076898253351453,
          0.001174755803076133,
          -0.013711131874578952,
          -0.01585426305353599,
          -0.006727053444256947,
          0.0066486551967972485,
          0.0033611422846251404,
          0.014735579605043014,
          0.005115405865262046,
          0.01180865494005423,
          -0.019846911471368966,
          0.001083722379556562,
          -0.008373917450803292,
          -0.07564890330896235,
          0.0011690142114864077,
          0.010433801193463488,
          -0.003422215884785418,
          0.006340320503648522,
          -0.009197302124710038,
          -0.0009178042057556013,
          -0.006340761310284382,
          -0.008603659491429383,
          0.0034597871881558717,
          -0.002884819131224514,
          0.0015239968791458391,
          -0.01728710908490172,
          -0.012566472134141193,
          -0.0042077707873872106,
          0.00382715081170093,
          0.02060032188002947,
          0.012220327202246306,
          -0.0019965030945798823,
          0.005098236531501765,
          0.010141737032569376,
          0.021476998952123072,
          0.014385209129142318,
          0.002365455703168484,
          -0.0045645300373671205,
          0.004311141398507745,
          0.008982044536449907,
          0.004619167979847738,
          -0.011725996312579867,
          -0.0043080685157971255,
          -0.0034532954758370593,
          -0.002073950659065127,
          0.007475362318840606,
          0.00358191950606912,
          -0.007373345870696935,
          -0.03084169910931922,
          -0.003605772812472985,
          0.01089235351997675,
          0.010635937338205004,
          0.002786885245901649,
          -0.005756790209953455,
          -0.026378530741675954,
          -0.004475325395963847,
          -0.004871074059713099,
          -0.0005418503275453901,
          -0.02847170190603243,
          0.00978750885641011,
          0.01273207078547034,
          0.012391133074392657,
          -0.004181769182087125,
          -0.012868619664175185,
          0.0003172842928871322,
          0.011378578709278164,
          0.0047438099065852946,
          0.033080191280842275,
          0.011064763480413742,
          -0.0007514346890103996,
          -0.00844620588534184,
          0.005841771447646638,
          -0.0289547919802271,
          -0.004550973602554409,
          0.016775238904098044,
          0.0048636432301460975,
          0.015941093415161145,
          -0.021511241611225196,
          -0.016107080057999656,
          -0.0016153774287169798,
          0.02150781073126562,
          0.027482269503546153,
          0.01207650273224048,
          -0.00852801514070789,
          0.025007308726332722,
          -0.026334995232409453,
          -0.002742637239557255,
          0.015161987041036662,
          0.00582386565110693,
          -0.001404526071162704,
          0.0023441692320727014,
          0.041437024513947485,
          -0.005273182794651499
         ]
        },
        {
         "boxpoints": false,
         "line": {
          "width": 1.3
         },
         "marker": {
          "color": "rgba(0, 0, 0, 1.0)"
         },
         "name": "GOOGL",
         "orientation": "v",
         "type": "box",
         "y": [
          null,
          -0.004590450382414124,
          0.013418325982014645,
          -0.00574691552841522,
          -0.011021378373590074,
          -0.0002388576632256223,
          0.02186816386564039,
          -0.005231317766022814,
          0.026654033727010917,
          -0.001931592991894493,
          0.007117718316118404,
          0.010497921767351759,
          0.006458701638974773,
          0.0077468928451460695,
          -0.006555418984326766,
          0.006018495865342421,
          0.007615341856586966,
          0.020246041816075477,
          0.0018451930355791735,
          0.0012953280485747953,
          0.0003503641766104959,
          -0.012473984468138077,
          -0.023489772673018883,
          0.013110013759577654,
          0.004274388142019969,
          -0.0016818837097549721,
          -0.014763623861096753,
          0.034771562975474124,
          -0.025084311344934496,
          0.00044278094104788224,
          0.020690847481069197,
          0.0021274145138450162,
          0.0199782301519158,
          0.0009279758196014676,
          0.005675271181277752,
          -0.0034504783917083115,
          0.003528502236700426,
          0.0004674958682584496,
          0.0035736850418575106,
          -0.005167653636047542,
          -0.02210298024377222,
          -0.04287274345112113,
          -0.023622047244094446,
          0.002993536845749878,
          -0.05431257056966343,
          0.01847979010608758,
          0.03514653724099315,
          -0.03505684113336016,
          0.032802081153006535,
          -0.04837869137232187,
          -0.014466518604155931,
          -0.06170219334125682,
          0.048840671497544896,
          -0.050401122987523195,
          -0.08204641175984817,
          0.09241149745850397,
          -0.1163415055959548,
          0.04199440820130462,
          -0.024032699497343546,
          0.018768500444468872,
          -0.03909433554921882,
          -0.013180928843579354,
          0.07198353144299086,
          -0.02512367147193395,
          0.05564532234345809,
          -0.04528256457881885,
          0.0324698719218921,
          0.013643778733501533,
          -0.051508240457851184,
          0.013546865075764414,
          -0.021780972758117412,
          0.08281321497208749,
          -0.0005324588612142245,
          0.02066702746583693,
          -0.0003562551781276513,
          0.0031825753996868045,
          0.045290438776943276,
          -0.006267635133533123,
          0.00010339616638832538,
          0.017154036407593276,
          -0.013956215793588633,
          -0.03884549815644456,
          0.03815502903907064,
          0.010139779563099527,
          0.004271655246741002,
          -0.004496318345605488,
          -0.030113466471523243,
          0.08891034326093838,
          0.00336765560506036,
          -0.021816291675948674,
          0.004235872832721199,
          0.019744500718119173,
          -0.002661191086863024,
          0.017726674743390625,
          0.010998480953493761,
          0.013905543435861034,
          -0.020240953554812924,
          -0.01952471676435097,
          0.006326344440900966,
          0.011939330513096369,
          0.008826999548454006,
          -0.007782382073087901,
          0.02529103608847505,
          -0.0017102387237787342,
          0.0046134707659499785,
          0.005752738388383971,
          -0.0007668657703482351,
          -0.0014363364970286785,
          0.010773916967508956,
          0.0009417378201908022,
          0.005185138723368787,
          -0.0021215966054454194,
          -0.01733541775230163,
          0.01818567489217293,
          0.005569367092123745,
          0.0027899781773983445,
          0.008690981213156368,
          -0.042875674199494784,
          0.00786076039660455,
          0.005534637488322058,
          0.01811028055801911,
          0.004196423016032069,
          -0.012681234251724627,
          -0.0066103254957742275,
          0.01826426325247077,
          0.009182027490935107,
          -0.021366412109455002,
          0.005863055768827952,
          -0.05451391298313779,
          0.025415767610492246,
          0.014944494943349707,
          0.016889390360001366,
          0.01936893203883505,
          0.02021864986768085,
          -0.006488180575467628,
          0.009181701030927636,
          0.010015961691939523,
          0.013399971027089563,
          -0.017400796616006353,
          0.005706803859201193,
          -0.002616940415291258,
          -0.0012921259427245424,
          0.0012739946663848922,
          0.030978672907670424,
          -0.005064456721915134,
          0.005739369633400049,
          -0.030737770393328367,
          -0.005630459864842563,
          0.014069658734526369,
          -0.016855952871331126,
          0.013207860871878419,
          0.009753792229785008,
          -0.032774950109531464,
          -0.003488020430794103,
          -0.006379994065121797,
          0.003929953166361244,
          0.017483723100014226,
          -0.0043722382803416115,
          -0.001034457443755521,
          -0.010876391282853004,
          0.018033960581949948,
          0.006243199490459483,
          -0.007925361817162857,
          0.007716182716016595,
          0.026077665804885797,
          -0.007179678360693664,
          0.020484135153857608,
          -0.0004314036478985095,
          0.00608033917883688,
          0.013058701069299294,
          0.023837842886944793,
          -0.009494383047569332,
          0.006699334364944853,
          -0.0060386841768176325,
          0.015679367670432542,
          0.037647726998090825,
          -0.051170671775193854,
          -0.02964081226871884,
          -0.03643412323473805,
          0.015509320031504403,
          -0.013688979660425482,
          -0.006742898332295799,
          -0.004571963899298037,
          0.017424096816738732,
          -0.015002084527593884,
          -0.01656647421780444,
          -0.02417554336130845,
          -0.01443742290278327,
          0.020753212972156376,
          -0.03454535490676924,
          0.009557326219144402,
          0.011385519306186254,
          0.013620001945714666,
          0.005045726900031466,
          -0.0002864899523881137,
          0.015215611353711855,
          -0.02170844814839723,
          0.018707062379774708,
          -0.021452223113910485,
          0.005596063458808365,
          0.016646791945940764,
          0.01821454332189587,
          0.03584362276142872,
          0.0015850797972631891,
          -0.0023164249203927456,
          -0.0050977332037046574,
          0.007862575298784202,
          -0.02407986221853675,
          0.01381090885323033,
          0.022506898419166088,
          0.013032869059704133,
          0.016381810712907452,
          -0.029816654214993465,
          0.009209172563104051,
          -0.05508856199339551,
          0.030500397140587943,
          0.038044036791531566,
          0.0050800997456856845,
          0.013137805358550025,
          0.06088134851670435,
          0.009536901795687003,
          -0.001571631205673718,
          0.0009603746029220872,
          -0.013455053309261888,
          0.005472688350252053,
          -0.0025239951237101543,
          0.016892163275610717,
          0.0009987247920733022,
          -0.006972824585829929,
          -0.01193192784078656,
          0.010300808897876657,
          -0.012618206838510782,
          -0.005079533281885373,
          0.02103544884114017,
          0.00013039287941496447,
          0.012975234251443979,
          -0.01825385278284508,
          0.02334701322389421,
          0.016492514036182238,
          -0.0017150966865209227,
          0.0010538795942562906,
          -0.0036901785322630554,
          -0.003136987281442849,
          -0.018478134851186767,
          -0.005742859392752986,
          0.004044918394478403,
          -0.01270002253775071,
          0.005033499594808921,
          -0.0022088718286504827,
          -0.009492428251924978,
          -0.008210237229317796,
          0.004831365642849583,
          -0.008267226270639139,
          0.004656381160549117,
          0.0034312562564011717,
          0.02295059279420575,
          -0.009132111208820959,
          -0.012237165483342416,
          0.009439884809215426,
          -0.01512575314953446,
          0.008064282527967093,
          -0.009867532542168211,
          0.029868592124814075,
          0.013238725385213757,
          -0.023105632901887274,
          -0.0107385454566159,
          0.005652026268684107,
          -0.009346115324080695,
          -0.0019065005892821008,
          0.03290654194788223,
          0.053573329896271726,
          0.0021701319631717286,
          0.004463551203460314,
          0.0009088219131758724,
          0.0072164621914394544,
          -0.04665216593726251,
          0.018835145744224624,
          -0.013943449169005029,
          0.03595897907363632,
          0.013760716719402932,
          0.07282504481220564,
          -0.002549930059061234,
          0.017140380691750723,
          -0.0020633560414202723,
          -0.0043799052059947385,
          0.005343573978866756,
          0.001087956750124519,
          0.003006582884500286,
          0.007479606497281521,
          0.0037523096603022665,
          -0.00604638868697549,
          -0.008072903063429226,
          -0.016540518285530825,
          0.0028526087252829235,
          0.011499330136108599,
          -0.03256534904813779,
          0.0029564225303206904,
          0.02361628361301915,
          -0.002502826551220916,
          -0.025706231109044353,
          0.011196126100596171,
          0.03104334957446908,
          -0.042711974326083646,
          0.016368617683686137,
          -0.002043756984061562,
          0.03160314116069718,
          -0.024060479686175973,
          0.0021658536585367205,
          0.014334806565292624,
          -0.0008013858696956921,
          -0.029238024800453344,
          0.002780333837949067,
          0.0018401941824208734,
          0.005239598363117937,
          -0.0043109149427088544,
          -0.0000344398360663245,
          -0.0038032728811391303,
          0.010401386851580208,
          0.00033238993249562476,
          0.007842773165499528,
          0.03261059286697843,
          0.04187286949825797,
          -0.004371417240508935,
          0.013475100259815465,
          0.005091490511516028,
          0.008993836733424354,
          -0.011472384802723501,
          0.004370450232110468,
          -0.005553510199917455,
          0.01933173053334003,
          -0.0010939722131058094,
          0.003070857518344239,
          -0.0046948151771364355,
          -0.0002895994313321104,
          -0.01133715188623341,
          0.021047537868698063,
          0.004347958416125675,
          -0.008203711800790381,
          0.02970781063125827,
          0.014293950081389228,
          -0.01640783028803572,
          -0.004427448480985752,
          -0.015471089335404642,
          0.003441952809699833,
          0.009754748851937833,
          0.00623783344385731,
          -0.025587496226503248,
          -0.009464383113341301,
          -0.03075249112358258,
          0.013084876718554739,
          0.02213508954527521,
          0.004626093979055224,
          -0.011555668175384115,
          0.003991213143157868,
          0.015606427470834072,
          -0.0055571208738809386,
          0.029165740389603068,
          0.0007750821671805852,
          0.00738085463863869,
          -0.007406598300221501,
          -0.0024675368649160756,
          0.010323100748880876,
          -0.004447374830966022,
          -0.009706444387262314,
          0.019590386696087148,
          0.0036472716486253276,
          -0.0016067934895726,
          0.003960907923483692,
          0.011291809596584601,
          -0.0020245325711565343,
          0.007698954818533554,
          -0.008379238110016285,
          -0.005328633374375613,
          0.008039909747665996,
          -0.013409340129041825,
          0.014166063058337786,
          0.004252437147254984,
          -0.0016635262669572048,
          0.0030541976794649095,
          0.0000693877551021238,
          0.00022447422015603458,
          -0.0021503884572696697,
          -0.0014966570569833193,
          0.0029077029556185963,
          0.022973673786899518,
          0.007444663992176137,
          0.002250574530469951,
          -0.011306671726995288,
          0.003794664278174098,
          0.01160785063556391,
          0.002882445826163149,
          0.0070322714904409445,
          -0.009607211647184477,
          -0.00027557970158642586,
          -0.018839095849413345,
          0.013096212814461605,
          0.01061330565448726,
          0.0068405083536522415,
          0.035768932772160644,
          0.007668308085554187,
          -0.015928675345991627,
          0.03179681576952231,
          -0.0023255984834011922,
          -0.007740605033971004,
          0.0009500729255194074,
          0.005750642358986813,
          -0.00371967853719668,
          0.008332994142482342,
          -0.0037650961640790515,
          0.008652666708413692,
          -0.0007742142820624798,
          -0.00385945163624668,
          0.0067141672598125535,
          0.003888654022770721,
          0.004225735601096403,
          -0.011915305890050965,
          -0.008872286635226434,
          0.001705438947500415,
          0.012894310141509546,
          0.019006108586584247,
          0.008711703316516939,
          0.005787139454132895,
          -0.004493978701989754,
          0.018124228916045926,
          0.0040728035332351364,
          0.0007400209557335558,
          0.0035798821679711157,
          -0.01328026278186567,
          0.003157997585266026,
          0.00376375317849309,
          -0.004085791219187618,
          -0.0010439067164957905,
          -0.01856612396458157,
          0.010338879582043825,
          0.0014894700788645743,
          0.013223940593990013,
          -0.005674048584257463,
          -0.019566882529071683,
          -0.014776278409090904,
          0.002259956242633532,
          0.008994267547992374,
          0.006647253597179992,
          0.0070742692046226185,
          -0.008037126885349744,
          -0.03715833049790185,
          -0.010870205403813449,
          -0.005042667291883074,
          0.021447380232801683,
          -0.021117889602542794,
          0.01768299297842657,
          0.011336318122670441,
          0.01206702286191974,
          0.004025857425031365,
          -0.006234552224658407,
          -0.01774479174165322,
          0.008303468695263438,
          0.025940893430826728,
          0.0015373606988260402,
          0.009973968649199083,
          0.003214780988667565,
          -0.010248748577532218,
          0.0008252862050235343,
          -0.030443454604400677,
          -0.0008686707883096556,
          0.013543402184114539,
          0.049594963695682504,
          -0.002520218168139854,
          0.015063524604213896,
          -0.030726936222525425,
          0.013488086858958637,
          0.008014027125986312,
          0.011388286334056419,
          0.003942199065877672,
          0.0012025367479107096,
          -0.0007548765022042936,
          -0.02031312429281784,
          -0.0008704980002536278,
          0.01997372510144646,
          -0.001520063492917556,
          -0.0038800420337886665,
          0.0011563742595146476,
          0.012100886880517692,
          -0.0060865531889333635
         ]
        },
        {
         "boxpoints": false,
         "line": {
          "width": 1.3
         },
         "marker": {
          "color": "rgba(209, 211, 212, 1.0)"
         },
         "name": "AAPL",
         "orientation": "v",
         "type": "box",
         "y": [
          null,
          null,
          null,
          null,
          null,
          null,
          null,
          null,
          null,
          null,
          null,
          null,
          null,
          null,
          null,
          null,
          null,
          null,
          null,
          null,
          null,
          null,
          null,
          null,
          null,
          null,
          null,
          null,
          null,
          null,
          null,
          null,
          null,
          null,
          null,
          null,
          null,
          null,
          null,
          null,
          null,
          null,
          null,
          null,
          null,
          null,
          null,
          null,
          null,
          null,
          null,
          null,
          null,
          null,
          null,
          null,
          null,
          null,
          null,
          null,
          null,
          null,
          null,
          null,
          null,
          null,
          null,
          null,
          null,
          null,
          null,
          null,
          null,
          null,
          null,
          null,
          null,
          null,
          null,
          null,
          null,
          null,
          null,
          null,
          null,
          null,
          null,
          null,
          null,
          null,
          null,
          null,
          null,
          null,
          null,
          null,
          null,
          null,
          null,
          null,
          null,
          null,
          null,
          null,
          null,
          null,
          null,
          null,
          null,
          null,
          null,
          null,
          null,
          null,
          null,
          null,
          null,
          null,
          null,
          null,
          null,
          null,
          null,
          null,
          null,
          null,
          null,
          null,
          null,
          null,
          null,
          null,
          null,
          null,
          null,
          null,
          null,
          null,
          null,
          null,
          null,
          null,
          null,
          null,
          null,
          null,
          null,
          null,
          null,
          null,
          null,
          null,
          null,
          null,
          null,
          null,
          null,
          null,
          null,
          null,
          null,
          null,
          null,
          null,
          null,
          null,
          null,
          null,
          null,
          null,
          null,
          null,
          null,
          null,
          null,
          null,
          null,
          null,
          null,
          null,
          null,
          null,
          null,
          null,
          null,
          null,
          null,
          null,
          null,
          null,
          null,
          null,
          null,
          null,
          null,
          null,
          null,
          null,
          null,
          null,
          null,
          null,
          null,
          null,
          null,
          null,
          null,
          null,
          null,
          null,
          null,
          null,
          null,
          null,
          null,
          null,
          null,
          null,
          null,
          null,
          null,
          null,
          null,
          null,
          null,
          null,
          null,
          null,
          null,
          null,
          null,
          null,
          null,
          0.01157755192222698,
          0.007513541848680694,
          0.004856052722858051,
          0.021056265101829563,
          0.03084854631507783,
          0.002951545461998828,
          -0.0011444453527343912,
          -0.0056469432850478896,
          0.012345679012345734,
          0.004959349593495865,
          -0.02087209772672116,
          0.012063124845079765,
          -0.00677606335211034,
          -0.005178365937859586,
          0.05007023052135828,
          -0.0005507907781887589,
          0.007006770587309141,
          -0.01579235399890544,
          0.01231233616649452,
          0.02848399246704325,
          -0.007019150072480218,
          0.007760276603918426,
          0.035834095760902906,
          -0.013396143088473589,
          -0.008504923903312367,
          -0.007674943566591486,
          -0.024719441916894125,
          0.012284248172912404,
          -0.033563748079877054,
          0.034014146070094675,
          0.00868495888094678,
          -0.02323986589454441,
          -0.001404165691551662,
          0.016170611670963453,
          -0.015067650676506839,
          -0.01373712144864192,
          0.005381449825894391,
          0.032903022670025095,
          0.036732205456485145,
          0.015951190826227757,
          0.02778380724983731,
          0.001689545934529857,
          -0.007730690842645216,
          -0.03491748707415543,
          -0.03750183472772628,
          0.01654593976362939,
          0.006300630063006407,
          -0.007751937984496027,
          0.025766225961538547,
          -0.0030757964115709635,
          0.0011018879012709704,
          -0.00660405048429713,
          -0.004579701580735729,
          -0.001929355891955975,
          0.001784386617100342,
          -0.016105091286923057,
          -0.017651052274270218,
          -0.00860016893188953,
          0.0012392533498566394,
          -0.029782625512493333,
          -0.0011162494020092728,
          -0.004070881226053702,
          -0.034864150036066355,
          0.0022421524663676085,
          0.05385698898003155,
          -0.02083497130277534,
          -0.024490123655050655,
          -0.015721458556259726,
          0.010620505101187394,
          -0.04162184526272239,
          0.04058021067173212,
          -0.009044142051111814,
          0.01641128694632843,
          -0.00766125710519816,
          0.02448945708118888,
          0.01280285228101441,
          -0.006480518441475236,
          -0.033902399742309575,
          -0.00441777110944408,
          0.028298727394507672,
          -0.0069206969548932795,
          -0.019922931868492144,
          0.00409904634431979,
          0.005082062817628907,
          0.0014920424403181975,
          -0.012166859791425289,
          0.018684541265186372,
          0.006991281460766663,
          0.0236053254921178,
          0.0024736674114267387,
          0.01329300326355165,
          0.019324430479183086,
          0.020191122071516743,
          -0.013219519564888982,
          0.024267013702824913,
          -0.017787742899850745,
          0.018642520164358745,
          -0.0024650780608053147,
          0.005017223303879215,
          -0.01281573653230017,
          0.002943618386293201,
          -0.01166465984346765,
          0.01796999923855913,
          0.002991996409604347,
          -0.0024610336341264194,
          -0.005980861244018976,
          -0.0007521058965102023,
          -0.015128706909528944,
          0.008253725640045895,
          -0.03547335708330179,
          0.0019646365422396617,
          0.012862745098039197,
          0.005343038562800162,
          -0.02580297311869373,
          -0.0074320050600885645,
          -0.024932292496415598,
          0.01789069520464004,
          0.019823434991974365,
          -0.009207523412292362,
          -0.011278792692613226,
          -0.0012853470437018677,
          0.02099420849420852,
          -0.01473252974080208,
          0.013353590276667271,
          -0.0015781582892764323,
          -0.00039516320240251535,
          -0.012413029728020275,
          -0.005363861980626106,
          -0.0026561493882807374,
          0.006294891453474394,
          -0.012110032881546107,
          0.018996590355577103,
          0.00007966857871255506,
          0.006691627499402664,
          0.003086175516340939,
          -0.008046702429788666,
          0.009782090027040002,
          0.02457273371662594,
          -0.006380198324237196,
          0.0039455361287328294,
          0.01256068428758561,
          -0.010121765601217803,
          0.014146228953640483,
          0.01273595633386404,
          -0.0020959652668612883,
          -0.0021753806916209317,
          -0.002255299954894041,
          0.012507534659433439,
          0.011534454531924476,
          0.00463473846832918,
          0.002196836555360404,
          0.019655122022504745,
          0.014690075241848621,
          0.017937853107344637,
          -0.009157763285694398,
          0.013023386080381005,
          -0.004216201271772246,
          0.007912820156868339,
          0.024103023207768137,
          -0.004505413220361909,
          -0.01405025668738169,
          -0.02692518498218699,
          0.025980426670421775,
          -0.005146856986000592,
          0.00965717044905845,
          0.011956001912960312,
          0.0029030515798003087,
          -0.014877145742174358,
          -0.012231788984556458,
          0.004565894154271888,
          0.0015150471730596138,
          -0.0023378945197002343,
          0.012681783720449369,
          -0.0027904444293200825,
          0.0007507507507507061,
          -0.004773920752915384,
          -0.0003426300280957584,
          -0.0033589251439539725,
          0.00178829355526533,
          0.02073463783041518,
          0.0014125243828613243,
          0.013567974207415512,
          -0.006163021868787366,
          -0.025471761018870387,
          0.002326377009921332,
          0.01010307870844418,
          0.010272352503885918,
          -0.0006020469596629274,
          -0.008433734939759185,
          -0.005535304441744215,
          0.007195221286994347,
          0.030462326459091527,
          -0.008436886854153003,
          0.004485192269639171,
          0.007485718037953948,
          0.004236459623281119,
          0.015446521287642678,
          -0.010098427713153613,
          -0.006650309917355379,
          -0.03314917127071815,
          0.003899159663865559,
          -0.009576106609522572,
          0.006152805949966256,
          -0.0016127948390566305,
          -0.018307868344887956,
          -0.021391840932464934,
          0.003433055419323372,
          0.016897081413210335,
          0.006728920626201784,
          0.0006138316737143157,
          -0.010565060323086461,
          -0.02383576742904392,
          0.006492589978828622,
          -0.009325480297293631,
          0.008139287989242128,
          -0.024571749508565,
          0.014106808694400508,
          0.006316536550745155,
          0.009097961774455321,
          -0.0027257478333799767,
          -0.0006307379634171717,
          -0.009116409537166748,
          -0.004246284501061681,
          0.020255863539445862,
          0.007523510971786829,
          0.011823273179838223,
          0.015033483668170033,
          0.003366096674296548,
          0.0014761137949543812,
          -0.00529277770333636,
          -0.000336768370714724,
          0.004581592777253896,
          -0.003152246814218662,
          0.02502859449640038,
          -0.018181818181818077,
          -0.005615724027276392,
          0.007126529514589253,
          0.00981308411214954,
          -0.0035036689363390217,
          0.0035823271858830275,
          -0.005552617662612391,
          0.0024594522733316637,
          -0.01916318546515494,
          -0.0003380205516494428,
          0.01433691756272415,
          0.00006667111140745696,
          0.006666666666666599,
          0.01649006622516569,
          0.02853606098117134,
          0.016975992905555293
         ]
        },
        {
         "boxpoints": false,
         "line": {
          "width": 1.3
         },
         "marker": {
          "color": "rgba(164, 179, 193, 1.0)"
         },
         "name": "GME",
         "orientation": "v",
         "type": "box",
         "y": [
          null,
          -0.030303030303030276,
          -0.007352941176470562,
          0.09259259259259256,
          0.03898305084745757,
          -0.00815660685154973,
          0.03782894736842102,
          -0.06814580031695716,
          -0.005102040816326592,
          -0.05641025641025643,
          0.03623188405797095,
          -0.029720279720279685,
          -0.021621621621621623,
          0,
          -0.13259668508287292,
          -0.02123142250530774,
          0.002169197396963085,
          0.02813852813852802,
          -0.03368421052631587,
          -0.0065359477124183885,
          0.013157894736842257,
          -0.06493506493506485,
          -0.0092592592592593,
          -0.016355140186915973,
          -0.019002375296912177,
          -0.048426150121065326,
          -0.022900763358778664,
          0.02864583333333348,
          0.030379746835442978,
          0.027027027027026973,
          -0.009569377990430672,
          -0.07971014492753614,
          0.034120734908136496,
          0.02030456852791862,
          0.042288557213930655,
          -0.019093078758949944,
          -0.021897810218978297,
          0.00995024875621886,
          0.022167487684729315,
          -0.002409638554217053,
          -0.02415458937198056,
          -0.08415841584158412,
          -0.037837837837837895,
          -0.047752808988763995,
          0.02359882005899716,
          0.03746397694524495,
          0.06388888888888888,
          -0.052219321148825104,
          0.038567493112947604,
          0.05039787798408479,
          -0.010101010101010055,
          -0.05612244897959173,
          0.14324324324324333,
          -0.021276595744680993,
          -0.03864734299516903,
          0.1532663316582914,
          -0.04793028322440085,
          -0.03203661327231111,
          -0.10874704491725773,
          0.1114058355437666,
          -0.10262529832935574,
          0.013297872340425565,
          0.09186351706036744,
          0.0024038461538460343,
          0.05755395683453246,
          -0.043083900226757454,
          -0.13507109004739337,
          -0.041095890410958846,
          -0.0714285714285714,
          -0.12307692307692308,
          -0.01754385964912286,
          0.10357142857142865,
          0.058252427184465994,
          0.042813455657492394,
          0.1407624633431086,
          0.21850899742930596,
          0.2552742616033754,
          -0.11428571428571443,
          -0.04554079696394675,
          -0.02982107355864816,
          0.14959016393442637,
          -0.14795008912655971,
          0.023012552301255207,
          -0.03885480572597122,
          0.014893617021276562,
          0.22012578616352219,
          -0.030927835051546504,
          0.07092198581560294,
          -0.05132450331125826,
          0.055846422338568846,
          -0.09421487603305778,
          -0.01642335766423375,
          -0.0853432282003711,
          -0.012170385395537497,
          0.022587268993840004,
          -0.04417670682730934,
          -0.04621848739495793,
          -0.07268722466960353,
          -0.019002375296912177,
          0.021791767554479424,
          0.08530805687203791,
          -0.03056768558951961,
          -0.0022522522522524513,
          0.0022573363431153126,
          -0.05855855855855874,
          0.05741626794258381,
          0.06108597285067874,
          -0.07675906183368875,
          -0.06235565819861444,
          0.017241379310344973,
          0.012106537530266248,
          0.06220095693779926,
          0.006756756756756577,
          -0.0738255033557047,
          0.21014492753623193,
          -0.009980039920159611,
          0.022177419354838745,
          -0.13806706114398426,
          0.08009153318077789,
          -0.0063559322033897026,
          -0.0106609808102347,
          0.02586206896551735,
          0.0399159663865547,
          -0.014141414141414232,
          -0.002049180327868827,
          -0.008213552361396315,
          -0.08695652173913038,
          0.011337868480725488,
          -0.024663677130044914,
          0.006896551724137945,
          -0.0091324200913242,
          0.023041474654378113,
          -0.03378378378378388,
          -0.011655011655011593,
          -0.03537735849056611,
          0.041564792176039145,
          -0.011737089201877882,
          0.030878859857482066,
          -0.018433179723502335,
          -0.04225352112676051,
          0.026960784313725616,
          -0.004773269689737569,
          -0.05035971223021585,
          -0.02777777777777779,
          0.04155844155844157,
          0.02493765586034935,
          0,
          -0.019464720194647178,
          -0.004962779156327701,
          -0.0174563591022443,
          0.030456852791878042,
          0.009852216748768461,
          -0.02195121951219514,
          0.034912718204488824,
          0.06746987951807215,
          0.04514672686230248,
          -0.043196544276457916,
          -0.06094808126410822,
          0.04086538461538458,
          0.004618937644341736,
          0.03908045977011487,
          0.026548672566371723,
          0.0237068965517242,
          -0.025263157894736876,
          0.0388768898488121,
          -0.018711018711018657,
          -0.02330508474576254,
          0.09110629067245113,
          -0.031809145129224725,
          0.022587268993840004,
          0.02610441767068261,
          0.02739726027397249,
          0.026666666666666616,
          0.23933209647495368,
          0.14520958083832336,
          0.007843137254901933,
          0.014267185473411104,
          -0.021739130434782594,
          0.006535947712418277,
          -0.045454545454545525,
          -0.15238095238095228,
          -0.022471910112359605,
          0.1346469622331692,
          0.026049204052098318,
          0.2242595204513398,
          0.05990783410138234,
          0.02934782608695663,
          -0.07602956705385433,
          0.20685714285714285,
          -0.04924242424242442,
          -0.08964143426294813,
          0.09628008752735218,
          0.00698602794411185,
          0.025768087215064295,
          -0.01449275362318847,
          -0.042156862745098,
          -0.03889457523029671,
          0.007454739084132189,
          -0.03488372093023251,
          0.025191675794085322,
          0.44123931623931645,
          -0.1089696071163826,
          -0.01830282861896826,
          0.006779661016949268,
          0.031144781144781142,
          0.12897959183673469,
          -0.037599421547360734,
          0.04507888805409466,
          -0.0035945363048167644,
          0.017316017316017396,
          0.057446808510638325,
          0.006036217303822866,
          -0.10333333333333339,
          -0.05650557620817842,
          -0.0685579196217494,
          -0.0076142131979695105,
          -0.10741687979539638,
          0.026743075453677045,
          0.07627906976744181,
          -0.057044079515989665,
          0.04949587534372135,
          0.03580786026200866,
          -0.0311973018549746,
          -0.03394255874673635,
          0.05855855855855863,
          -0.052765957446808454,
          -0.010781671159029727,
          0.0953678474114441,
          -0.03565505804311775,
          -0.005159071367153989,
          0.07692307692307687,
          0.02006420545746379,
          0.09362706530291098,
          -0.016546762589928043,
          0.07900512070226773,
          0.09016949152542364,
          0.029850746268656803,
          -0.045893719806763156,
          0.049367088607594756,
          -0.0277442702050662,
          0.048387096774193505,
          -0.032544378698224685,
          0.036085626911315005,
          -0.19362455726092098,
          0.03367496339677878,
          -0.05736543909348435,
          -0.04432757325319303,
          0.08883647798742134,
          0,
          0.07075812274368243,
          0.05394470667565754,
          -0.0063979526551504184,
          0.25305859626529315,
          0.05704008221993839,
          -0.020418084589207686,
          0.0416873449131514,
          -0.07670319199618869,
          -0.006191950464396134,
          -0.02180685358255463,
          -0.08439490445859876,
          0.006956521739130528,
          0.05699481865284972,
          -0.015250544662309462,
          -0.02157079646017679,
          0.12719050310910118,
          0.0005015045135405849,
          0.5739348370927317,
          0.27101910828025466,
          -0.11049862189927329,
          0.10873239436619708,
          -0.0060975609756097615,
          0.0999488752556239,
          0.5108064141296771,
          0.18120289186279037,
          0.9270738377392886,
          1.348357886200838,
          -0.4428937296768438,
          0.678719008264463,
          -0.3076923076923077,
          -0.6,
          0.02677777777777779,
          -0.4210583270208852,
          0.19196261682243,
          -0.059118707856358865,
          -0.16149999999999998,
          0.017690320015901317,
          -0.001953125,
          0.02544031311154593,
          -0.05515267175572525,
          -0.07210664512219755,
          -0.11427949499346979,
          -0.0024576062914719587,
          0.13328406011332827,
          -0.022391304347826102,
          1.0393595730486989,
          0.18558499618362245,
          -0.06428768509151117,
          0.18340868881462558,
          -0.01843853820598007,
          0.050770011846336116,
          0.06579159284908997,
          0.04072534945221018,
          0.41208073181356175,
          0.26940874035989726,
          0.07330903199675975,
          -0.018867924528301883,
          0.017307692307692246,
          -0.16771266540642726,
          -0.05437448896156993,
          0.007878176490368594,
          -0.038415709451408375,
          -0.007335811648079282,
          -0.02886103759924108,
          -0.06550465319553711,
          -0.33788170563961484,
          0.5269237161376101,
          -0.014965986394557818,
          0.0016574585635360517,
          0.07258687258687258,
          -0.023860948266995807,
          0.008587082499209808,
          -0.023504831548707195,
          -0.013105108317731928,
          -0.03539295392953934,
          -0.04332190818677306,
          -0.06989310466345577,
          -0.10905531699924231,
          -0.00070876745339854,
          0.18114759912050493,
          -0.0605896835405032,
          -0.011186397340833598,
          0.06257676643609811,
          -0.03552959785848997,
          -0.00012615908660829067,
          -0.04630622673648355,
          0.00006615069127491324,
          0.11740971027913738,
          0.05232936719351211,
          0.0045564493446588195,
          -0.013383357598835355,
          -0.014756796639990855,
          -0.065614378708451,
          -0.00906288532675703,
          -0.007777017358302718,
          0.00959367945823919,
          0.0006210794360599348,
          -0.11104214511824229,
          0.025834380673090296,
          -0.014497685815409667,
          0.1361281856481802,
          -0.027841945288753833,
          0.12931465732866432,
          0.0003875968992248513,
          -0.06553384623899916,
          0.00983237576260132,
          0.036952313918704904,
          0.018213699869902067,
          0.16343536470196107,
          0.1581912810963091,
          0.0476995382585752,
          -0.12643135403140127,
          0.12171171171171169,
          0.13340293952292992,
          -0.08524659863945583,
          -0.03803547912309235,
          0.12743598002899015,
          0.07139030748901831,
          0.008533333333333282,
          -0.27158249603384454,
          0.05875947184536501,
          -0.01671380817690926,
          -0.030247559274755864,
          0.002112359550561882,
          0.0027806431358479156,
          -0.04369605080728123,
          -0.06290337667196699,
          0.09996506463043375,
          -0.004809437386569915,
          -0.032050697547187035,
          -0.013188262446422683,
          0.017851176554818382,
          -0.0111137162954279,
          0.015459028831563026,
          -0.045671056318296266,
          -0.0074867880211392235,
          -0.016121875462209778,
          -0.044598115854880716,
          0.0037763558166370448,
          -0.0007837809593479461,
          -0.010354023950217006,
          -0.04856010568031699,
          -0.06908808175052761,
          -0.004772700155112775,
          0.01330775686368546,
          0.026325130146710896,
          0.10196553115453333,
          -0.028088712208390043,
          -0.03745761799687852,
          0.008442829186469325,
          0.019849190507873038,
          -0.02935739915189739,
          -0.05276128598633356,
          -0.025189214758751133,
          -0.02268591532209152,
          -0.02153674280039719,
          -0.031081509673327012,
          -0.038952536824877204,
          0.045231607629427684,
          -0.010883733055265798,
          0.06167226724649133,
          -0.012908831378390051,
          -0.0016975793775543258,
          0.0224839400428265,
          0.0010471204188482464,
          0.00867585527935022,
          -0.002318062587689851,
          -0.03974319779883828,
          -0.026424705507800073,
          0.04185742315238716,
          0.03509102322661639,
          0.2753350718660925,
          -0.05059679490227775,
          0.027898822940145118,
          -0.0013156612415944346,
          0.020736765064649942,
          0.043212237093690264,
          -0.024147727272727293,
          0.002582523360097788,
          -0.05044023979018364,
          -0.018495684340320562,
          -0.0010050251256280562,
          0.0019114688128771817,
          -0.044030525153127886,
          0.06822120686938726,
          -0.020452310717797406,
          0.02650070267014648,
          0.009045570115392199,
          -0.0067839317730290505,
          -0.06230180026345322,
          -0.011706555671175845,
          0.0010002632271650658,
          0.005785210897233828,
          -0.03179251202677269,
          0.02333117303953336,
          -0.057420308211948434,
          -0.015005599104143341,
          -0.0025579809004092624,
          0.008206531030945374,
          -0.03137188400881796,
          0.004785247432306239,
          -0.0064467417818562245,
          0.006137838311802257,
          0.003253544039042433,
          0.03138753764188085,
          -0.012801796743402538,
          0.04686611307018551,
          -0.0012495925241768902,
          -0.0029918946853071393,
          0.014949803579223042,
          0.0041393398559292915,
          -0.012152684833235061,
          -0.015228701495772823,
          -0.06554399867921412,
          0.024558303886925703,
          0.02224521469218832,
          -0.024347728295096793,
          0.05382975044666005,
          0.0036095159967186596,
          0.09034929976568051,
          0.03448448198310761,
          0.05478525532634437,
          -0.0022443090734209914,
          -0.021070510466397407,
          0.025275498241500438,
          -0.0550676911818514,
          -0.03586640851887701,
          0.02575430493498665,
          -0.010865309318715766,
          0.03483424047501238,
          -0.009371712728315829,
          0.013611352447147285,
          0.0005714285714286671,
          0.08890158004949567
         ]
        },
        {
         "boxpoints": false,
         "line": {
          "width": 1.3
         },
         "marker": {
          "color": "rgba(88, 89, 91, 1.0)"
         },
         "name": "BABA",
         "orientation": "v",
         "type": "box",
         "y": [
          null,
          -0.0026532607177769396,
          0.009894520675814533,
          -0.004205564285054031,
          -0.011881004316146138,
          -0.0038044244046780973,
          0.03616218764733614,
          -0.012604086090003186,
          -0.0016589861751152846,
          0.004569793205317696,
          0.0017001332536874525,
          0.017339449541284413,
          0.009243394354766066,
          0.029710047804136996,
          -0.017311697327316855,
          -0.006313744536182608,
          -0.004976450724251347,
          0.015584531570956628,
          -0.02273226926966543,
          0.0004949158643030582,
          -0.014570310743355686,
          -0.024551636015150757,
          -0.03873684210526318,
          0.023166398987686687,
          0.008514484136422196,
          -0.016224884444863696,
          -0.009540703806692918,
          0.0315116898204173,
          0.0458939465039887,
          -0.011934673366834181,
          0.003087821269639468,
          -0.019782707107288355,
          -0.003509906248556738,
          0.006673772999026717,
          0.03268726117582066,
          -0.01760955820070431,
          -0.0033127609366492283,
          0.004052269726358082,
          0.007346272446943525,
          -0.01845682902673984,
          -0.02499541368556224,
          -0.03024601345312572,
          -0.0026678308110205107,
          0.015222994990516048,
          -0.01777330650570086,
          0.014485685021704109,
          0.01432692307692296,
          -0.016921035169210286,
          0.021937225784677716,
          -0.0023589356482355273,
          -0.03225196254610807,
          -0.03410867865519929,
          0.044166750986542436,
          -0.03624206599156932,
          -0.06942838469659651,
          0.04808211777417615,
          -0.0780927835051547,
          0.03332401453732192,
          -0.026026730155294664,
          0.004888888888888943,
          0.0023219814241486336,
          -0.027357970215113103,
          0.05336282182148122,
          0.015127860026918016,
          0.03585065761561301,
          -0.034456276878967795,
          0.014210721671350512,
          0.01678255868667322,
          -0.035582064993829654,
          0.007144380464917832,
          -0.009475913181577478,
          0.04991716102827204,
          0.007890048358361046,
          -0.010202020202020212,
          0.001989998979487817,
          0.0156337526098691,
          0.026774969915764224,
          0.016554351010840795,
          0.02156891002545991,
          -0.014859399981190569,
          0.012553699284009623,
          -0.022580493093857457,
          0.012636249638275254,
          -0.022480472470946866,
          -0.004287663223543126,
          -0.0032785280876884704,
          -0.012469929795277057,
          0.02759134973900057,
          -0.019496855345911945,
          -0.04041051956382291,
          -0.017122583299053806,
          0.020245880198796806,
          0.000769151881858221,
          0.0067633345288724556,
          0.02391979235584496,
          0.02092549331477711,
          -0.024780915287244465,
          -0.004243422694823029,
          0.00922490724957381,
          0.011823149528067622,
          0.05695208169677923,
          0.008918617614269708,
          -0.0018876611418047196,
          -0.021357073665759452,
          -0.0587292609351433,
          0.010115172759138868,
          -0.0026769779892920065,
          -0.00840043741922658,
          0.03960098250538868,
          -0.003953903274024784,
          0.03756595827080411,
          0.019969206364018,
          -0.002607383010841291,
          0.0069253348009541416,
          -0.0025051241175131356,
          0.007853881278538699,
          0.013410656034795299,
          -0.0377324749642346,
          0.011150343802267093,
          -0.0028027936041168378,
          0.02575680781458778,
          0.00732189381007986,
          -0.0031661092530658186,
          -0.012973069696698647,
          0.0034898477157361274,
          0.03315116751727576,
          -0.011060109289617537,
          -0.017947131111307635,
          -0.029033129276197278,
          -0.0031987390477956623,
          0.0031624965119523285,
          0.0011590171534539007,
          0.035424866867330485,
          0.07334525939177095,
          -0.014541666666666675,
          0.08950995729567457,
          0.015135051226327079,
          -0.002179065677804126,
          -0.03578406957587832,
          -0.012277983073071819,
          0.0025343953656771223,
          -0.026925083263111493,
          0.019134020618556624,
          0.03103504086752462,
          0.01212668262627048,
          -0.024040325707638588,
          0.0007151370679381319,
          -0.011434016198189623,
          0.00746987951807232,
          -0.007215179781551506,
          0.013651877133105783,
          0.0011487423252130036,
          -0.006805412677059475,
          0.027567524500039742,
          0.01651546871365439,
          0.010335621662852956,
          0.0029066475406740455,
          -0.051114122252333694,
          -0.01574771915906381,
          0.0011687421915931306,
          0.027252234119636176,
          -0.005760413809318576,
          0.0009853381680593465,
          0.011773044060322091,
          0.008717310087173136,
          0.005362654320987703,
          -0.01005410798572448,
          0.030352366554250443,
          0.038449962377727465,
          0.03615680023186729,
          0.02083916083916071,
          -0.026681737224277136,
          0.016996868071928795,
          -0.006816608996539908,
          0.038219001498101424,
          -0.0064765100671141385,
          -0.04583375553078661,
          -0.003929203539823067,
          -0.04040655318241593,
          0.011591733945633731,
          -0.02050155592165459,
          0.015174733694636622,
          0.009167556422812195,
          0.014082451659978013,
          0.0006475751906749316,
          -0.008700654346731729,
          -0.01200493254025825,
          0.005176021438273004,
          0.005368490249068936,
          -0.00850012713865389,
          -0.011797032423520704,
          0.005042079116152953,
          0.01814895422184515,
          0.003333212564762267,
          0.061567905246813215,
          -0.013368256343968987,
          -0.0064816410963627336,
          0.00034701738557085804,
          0.014292156658687993,
          0.01405656828208901,
          0.013625632377740393,
          -0.0026618752911427013,
          0.022019083205444545,
          0.007965006202258929,
          -0.02506639031025315,
          -0.005248471963858803,
          0.026213851599546034,
          -0.006573167160196514,
          0.014805594680467715,
          -0.005939123979213035,
          -0.005487547488391864,
          0.011884550084889867,
          -0.009841249354672232,
          0.033466940398214184,
          -0.029009270353786976,
          0.01500292264726899,
          -0.025179165600204723,
          0.02018444976861722,
          -0.08129584352078234,
          0.035507931505410095,
          -0.02691826451591084,
          0.04239791485664646,
          -0.03140523420570096,
          -0.08257322823804758,
          -0.0033390860658814026,
          -0.005044231131187571,
          -0.01312852332488379,
          -0.009699432602361502,
          -0.005845689288064726,
          -0.003777258566978192,
          0.015869913614509512,
          0.04174843202893541,
          -0.0023269557509049132,
          0.03646662470845197,
          -0.008001143020431312,
          -0.004464928705170679,
          -0.04745370370370372,
          0.002468104495747081,
          -0.010189007992121524,
          0.02139139752028174,
          0.0012738376231686832,
          -0.012160898035547207,
          0.007916666666666572,
          -0.008606110714419746,
          0.004056103108415421,
          -0.001245894212254961,
          -0.032169048159068736,
          -0.003593328906768556,
          0.02657677080475085,
          0.009698728473786833,
          -0.01675301592103773,
          0.001653846153846228,
          -0.017663095649502747,
          0.0013680960012507626,
          -0.13342181278788356,
          0.001621621621621605,
          0.06251124302932176,
          0.009015491407771137,
          -0.02374260665296357,
          -0.02096850427534047,
          0.05508009655475088,
          -0.05320299500831949,
          -0.003119370853653214,
          0.040943146760687554,
          -0.03734281722342181,
          -0.00778466816202672,
          0.042996453900709275,
          0.03263918402039945,
          0.00197547123220021,
          0.03364002300172508,
          0.05499701967017678,
          -0.0206787449621455,
          -0.0053076923076922355,
          0.010672028458742489,
          0.017369347310429273,
          -0.021322202166065063,
          0.001959654178674386,
          -0.02657616198803492,
          0.04278454083441674,
          -0.03849786542748124,
          0.03508840864440077,
          0.013400144250844459,
          -0.004832184596943234,
          -0.01159333007114105,
          0.014852050725465693,
          0.004878231828586488,
          0.0042570671048209885,
          -0.004015914922098629,
          0.010640283740899648,
          0.00048023642408567824,
          -0.023335671823653148,
          -0.0034781293712903283,
          -0.03638226032854042,
          -0.004921259842519676,
          -0.00953511374876359,
          -0.04058480466565473,
          -0.0100757765009577,
          0.016529273216689067,
          -0.03007985435888949,
          0.00789181810425732,
          -0.024421213019003685,
          0.01470715835141001,
          -0.03078370174013423,
          0.050509506374343704,
          -0.016124968505920823,
          0.027742210840802306,
          -0.037084717607973494,
          -0.006857290723250142,
          -0.014547507382317137,
          0.028246595866566748,
          0.013242478786320344,
          0.014211394493084617,
          -0.011134742900037464,
          0.0023195006747638303,
          -0.033996718138595505,
          -0.0299229060499151,
          0.020384339080459668,
          0.020241133503476227,
          -0.011256792892262668,
          -0.010992366412213794,
          -0.010452961672473782,
          0.004189695132822191,
          0.023391034176653225,
          -0.02233595003686517,
          0.012509981368112877,
          -0.02160007010164744,
          0.09269625184720787,
          -0.008688168517683725,
          -0.010996734052668544,
          -0.0005852108849223603,
          -0.0016730101635367145,
          -0.016381080062005116,
          -0.020870602265951166,
          -0.0019140421089264281,
          -0.00039225941422593724,
          0.011903204708960224,
          0.002671492588762314,
          0.013837559088955675,
          0.003390979993218135,
          -0.01072997634335926,
          -0.013792808950380153,
          -0.001039185970989287,
          -0.012179792813488799,
          -0.004914436156208901,
          -0.0015874415733310165,
          -0.004902393781467951,
          -0.025653544006036144,
          0.008427094246799882,
          -0.0066853374288553535,
          -0.0628467485220554,
          0.016644021739130377,
          0.007350484463748863,
          0.012651030561478205,
          -0.005521242747520194,
          0.020937235343935434,
          -0.02732844831559056,
          -0.0029375533023784373,
          0.0032788443261737577,
          0.00307867190830291,
          0.00453300594957029,
          0.005734699633355156,
          0.02579921480650582,
          0.0005011846181885993,
          -0.011612550662598475,
          0.009122742351640234,
          -0.009679481325906347,
          -0.004979253112033288,
          -0.011583727180057402,
          -0.0011719482467654752,
          -0.006711409395973145,
          0.010867510867510921,
          -0.018135925960549693,
          -0.0035228030086642548,
          0.010892413529524081,
          0.0033081285444234165,
          -0.005840791333019402,
          0.0012318771913200077,
          0.016751845542305688,
          0.016382760867541535,
          0.046341240040296716,
          0.0003938730853392247,
          0.003718447876110087,
          -0.011593444909344441,
          -0.021650939236264155,
          -0.018569432550592735,
          -0.028243398392652108,
          -0.017013232514177634,
          -0.039182692307692335,
          0.030472854640980707,
          -0.0022336602894047486,
          0.019612614366361747,
          0.009498353300558593,
          0.01541371158392435,
          -0.012385919165580184,
          -0.015040075436115075,
          0.008041740462400027,
          0.002326796144166421,
          0.014023119196513001,
          -0.03508689964492617,
          -0.07151503413547677,
          -0.029672507300792628,
          0.0534207556296018,
          0.007805724197744945,
          -0.011896324794978153,
          0.025103745068907335,
          -0.013543905242640819,
          0.01687101023406634,
          -0.007124707289123622,
          -0.01450220794861512,
          -0.00580477621060127,
          0.002458386683738656,
          -0.004444898584785029,
          -0.016422046597557305,
          -0.01586142126682666,
          -0.03133283851129254,
          -0.04914892452520392,
          -0.007943360386807097,
          -0.06846533217290385,
          -0.01613204609156027,
          0.019625221575082286,
          0.06606233701726061,
          -0.015142690739662124,
          -0.022826729745712537,
          -0.03491890583393853,
          0.0176835768483099,
          0.028960502803623278,
          0.037666926163243186,
          -0.007386888273314907,
          -0.009883720930232487,
          0.028537874339400915,
          -0.025405343685772963,
          -0.019858239118973775,
          0.004661726033946989,
          -0.016002379535990485,
          -0.03179977026781933,
          -0.014299094598813511,
          -0.010135563157228078,
          0.02425444771534635,
          -0.053483286472977176,
          -0.0086474354742887,
          0.011386336396324248,
          -0.004608598327737079,
          -0.040412725709372266,
          0.03515301902398682,
          0.014715674523904543,
          -0.03156375090229002,
          0.0031847133757960666,
          -0.026004728132387855,
          -0.031692094313453545,
          0.025137864355797346,
          0.006706720693027801,
          0.08258154059680778,
          0.03538461538461535,
          0.01504457652303115,
          -0.005794449527294798,
          0.026993865030674913,
          -0.0037037037037037646,
          0.007315025782467899,
          -0.007023809523809543,
          0.061023858050593516,
          0.0010169491525424679,
          0.0013545546901454486,
          0.0015781760793596167,
          -0.008610016882386051,
          -0.035079752511778306,
          -0.0044708512265428935,
          0.0033091059504815057,
          -0.028564697567583508,
          0.031708500060628086,
          -0.042721983898454385,
          0.02050337630448129,
          -0.008722329162656473,
          -0.03677407609685057,
          0.021609021609021672,
          -0.01214849531327089,
          0.023596978587926865,
          0.02366286515826066,
          -0.006196008340780379,
          -0.0016186079971225453,
          0.011348624954965914,
          -0.04066971442142131,
          -0.11127614803812358,
          -0.022701949860724158
         ]
        },
        {
         "boxpoints": false,
         "line": {
          "width": 1.3
         },
         "marker": {
          "color": "rgba(64, 61, 62, 1.0)"
         },
         "name": "VIXY",
         "orientation": "v",
         "type": "box",
         "y": [
          null,
          -0.010475423045930743,
          -0.002442996742671011,
          0.022040816326530654,
          0.03594249201277955,
          -0.041634541249036316,
          -0.0386162510056316,
          0.05020920502092063,
          -0.01195219123505975,
          -0.0040322580645162365,
          -0.019433198380566785,
          -0.03583815028901727,
          -0.005652620760534521,
          -0.02670111972437539,
          -0.005309734513274433,
          -0.004448398576512469,
          -0.0232350312779267,
          0.0027447392497714773,
          0.006386861313868453,
          0.006346328195829587,
          -0.002702702702702675,
          0.057813911472448076,
          0.10333048676344991,
          -0.056501547987616085,
          0.0008203445447088065,
          -0.015573770491803196,
          0.11323896752706064,
          -0.037397157816005944,
          -0.05439005439005429,
          -0.039441248972884146,
          -0.009409751924721932,
          0.012953367875647714,
          -0.011082693947144118,
          0.0017241379310344307,
          -0.04819277108433728,
          0.017179023508137492,
          -0.01333333333333342,
          0.017117117117117164,
          -0.012400354295836968,
          0.03228699551569503,
          0.06516072980017373,
          0.1835236541598695,
          0.09648518263266714,
          -0.023255813953488413,
          0.16216216216216206,
          0.04318936877076429,
          -0.04140127388535042,
          0.11351052048726462,
          -0.05420188960716066,
          0.15878023133543628,
          0.1039019963702359,
          0.27414714344430746,
          -0.097741935483871,
          0.12334644261708982,
          0.23997453851050277,
          -0.0888090349075975,
          0.3909859154929578,
          -0.024301336573511634,
          0.16853466168534648,
          -0.0941385435168739,
          -0.019215686274509758,
          -0.1567373050779689,
          -0.08771929824561409,
          0.08108108108108114,
          -0.08774038461538458,
          0.08853754940711456,
          -0.031953522149600566,
          -0.05151287821955497,
          0.08594779857632484,
          -0.05438213158533611,
          -0.043645699614890954,
          -0.07114093959731538,
          0.02919075144508665,
          -0.020780679584386452,
          -0.02150845999426443,
          -0.021101992966002348,
          -0.08023952095808384,
          0.08300781250000022,
          0.005710850616170715,
          -0.041243275552899084,
          0.09850374064837908,
          0.08115777525539158,
          -0.04829396325459323,
          -0.0005515719801433283,
          -0.05491169977924948,
          -0.07883211678832114,
          0.01711568938193353,
          -0.06263633530694934,
          0.03291223404255317,
          0.08690054715159334,
          -0.020432336393248596,
          -0.03839177750906886,
          0.011317195850361506,
          -0.0404103201740752,
          -0.06899902818270176,
          -0.06854558107167708,
          0.10085917071348516,
          0.10247709535120464,
          -0.048938134810711076,
          -0.027184466019417486,
          -0.06387225548902187,
          0.05046197583511014,
          -0.06055480378890388,
          0.021966150522146233,
          -0.007751937984496138,
          -0.01278409090909094,
          -0.02302158273381294,
          0.038659793814433074,
          -0.032258064516129004,
          0.004761904761904745,
          -0.026977761574917936,
          -0.04383664293742984,
          -0.00940438871473348,
          -0.05379746835443033,
          0.022157190635451407,
          0.0503067484662576,
          -0.006230529595015577,
          0.33581504702194365,
          -0.06922851276034037,
          -0.0242672549637567,
          -0.02034883720930236,
          -0.001978239366963397,
          -0.01684836471754203,
          0.016129032258064502,
          -0.049272486772486745,
          -0.019478260869565167,
          0.06917346576800276,
          -0.03915063039150635,
          0.0625,
          -0.04842378940526482,
          -0.051912568306010876,
          -0.02809798270893371,
          -0.017049666419570064,
          -0.0007541478129713397,
          0.02943396226415107,
          -0.022727272727272818,
          0.01650412603150797,
          -0.025461254612546225,
          0.09541840212040897,
          -0.05945385413066018,
          -0.026460859977949336,
          -0.01812004530011313,
          -0.0357554786620532,
          -0.046251993620414544,
          0.008779264214046734,
          -0.01077496891835883,
          0.03058232090490165,
          0.00406504065040636,
          -0.02793522267206472,
          -0.005830903790087438,
          -0.02052785923753675,
          0.023524379811804996,
          -0.020476389469285317,
          -0.005972696245733822,
          -0.030042918454935563,
          -0.019911504424778848,
          -0.011286681715575675,
          -0.006849315068493067,
          -0.029885057471264354,
          0.04691943127962084,
          -0.0543232231779085,
          0,
          0.0009573958831976537,
          -0.038259206121473044,
          -0.009448035803082955,
          0.019578313253011848,
          -0.010832102412604572,
          0.004479840716774541,
          -0.0034687809712586892,
          -0.00696171059174544,
          0.023034551827741723,
          0.03181595692608896,
          -0.005218216318785607,
          0.047687172150691515,
          0.01820664542558048,
          0.02682163611980326,
          0.13234653896386606,
          -0.0834294502114572,
          -0.028523489932885893,
          -0.050518134715025975,
          0.011368804001818944,
          -0.0611510791366906,
          -0.015804597701149392,
          -0.00048661800486626827,
          -0.0058422590068158975,
          -0.022037218413320403,
          0.0005007511266901243,
          0.033033033033033066,
          0.006782945736434121,
          0.05341674687199216,
          -0.01781635449977159,
          -0.026976744186046453,
          -0.0033460803059273125,
          -0.019664268585131928,
          -0.0014677103718200302,
          0.00489955903968653,
          0.028278888347147646,
          -0.029397818871503167,
          0.012701514411333825,
          -0.03135552339604453,
          -0.03934262948207168,
          -0.0528771384136858,
          -0.018609742747673796,
          0.010596765197992353,
          -0.008278145695364336,
          0.007790762381747474,
          0.00662617338487026,
          0.044432254525507364,
          -0.0005252100840335006,
          -0.024172359432475088,
          -0.022617124394184285,
          0.0011019283746558362,
          0.08750687947165647,
          0.0045546558704452345,
          0.14408060453400506,
          -0.08410391897842362,
          0.044711538461538414,
          -0.021629084215370353,
          -0.05268109125117593,
          -0.08788480635551144,
          -0.01905280348394134,
          -0.06492785793562694,
          -0.02255192878338297,
          -0.032179720704310855,
          -0.020075282308657516,
          0.06722151088348283,
          -0.06178764247150581,
          -0.025575447570332477,
          -0.015748031496062964,
          0.03733333333333344,
          -0.018637532133676138,
          -0.0032743942370661028,
          -0.012483574244415374,
          -0.015302727877578137,
          -0.03648648648648656,
          0.006311360448807868,
          -0.019512195121951126,
          0.00781805259417201,
          -0.004231311706629048,
          0.007790368271954673,
          -0.014757554462403455,
          0.005706134094151327,
          -0.034751773049645385,
          0.03600293901542995,
          0.008510638297872353,
          0.03797468354430378,
          0.02371273712737132,
          -0.04698874917273321,
          -0.03472222222222221,
          -0.010791366906474864,
          0.02400000000000002,
          0.07244318181818188,
          -0.019205298013244998,
          -0.03848750844024307,
          -0.0273876404494382,
          -0.0072202166064981865,
          0.039272727272727126,
          -0.03778866340097964,
          -0.0007272727272726875,
          0.09534206695778757,
          -0.0378737541528239,
          -0.006215469613259694,
          -0.06115357887421824,
          -0.00962250185048108,
          0.061285500747384036,
          -0.0341549295774648,
          -0.015676266861101018,
          0.012592592592592489,
          0.024871982443306573,
          -0.027837259100642386,
          -0.0205580029368575,
          -0.008245877061469176,
          0.014361300075585781,
          0.04023845007451565,
          -0.016475644699140424,
          0.20757465404224318,
          -0.020506634499396825,
          0.06527093596059119,
          -0.05838150289017352,
          -0.08348680171884593,
          -0.05358338914936367,
          -0.04387827317763626,
          -0.002590673575129543,
          -0.007792207792207795,
          0.005235602094240788,
          0.014136904761904878,
          -0.022743947175348556,
          -0.03228228228228225,
          0.0015515903801395226,
          -0.013942680092951187,
          0.008641005498821741,
          -0.0389408099688473,
          0.04213938411669371,
          -0.041213063763608004,
          -0.03811841038118413,
          0.15514333895446875,
          -0.04744525547445244,
          -0.07662835249042144,
          0.016597510373443924,
          0.04408163265306109,
          0.041438623924941353,
          -0.06906906906906907,
          0.024193548387096753,
          -0.04803149606299206,
          -0.011579818031430933,
          -0.025941422594142116,
          -0.01718213058419249,
          -0.05681818181818188,
          0,
          -0.04541241890639469,
          0.05728155339805818,
          -0.032139577594123225,
          -0.07495256166982911,
          0.05128205128205132,
          0.005853658536585371,
          -0.03103782735208538,
          -0.03903903903903905,
          0.028124999999999956,
          -0.04660587639311031,
          -0.006376195536663132,
          -0.031016042780748543,
          -0.02980132450331141,
          0.009101251422070522,
          -0.030439684329199523,
          -0.015116279069767313,
          -0.0023612750885479983,
          -0.015384615384615219,
          -0.008413461538461564,
          0.023030303030302957,
          -0.033175355450236865,
          -0.015931372549019662,
          0.03486924034869254,
          0.022864019253910906,
          -0.051764705882352935,
          0.06947890818858538,
          -0.04524361948955902,
          -0.007290400972053468,
          -0.022031823745410017,
          -0.003754693366708417,
          -0.006281407035175879,
          0.04045512010113783,
          -0.0376670716889429,
          0.03787878787878807,
          -0.02311435523114369,
          -0.0062266500622664145,
          -0.06015037593984962,
          0.04400000000000004,
          0.07790549169859506,
          0.17180094786729883,
          -0.09403437815975735,
          -0.11718750000000011,
          0.020227560050569027,
          0.027261462205699916,
          0.043425814234017146,
          -0.05317919075144517,
          -0.013431013431013383,
          -0.04579207920792083,
          0,
          -0.047016861219195794,
          -0.048656005444028594,
          0.014306151645207432,
          0.025035260930888592,
          -0.02442380460956317,
          0.01833568406205921,
          -0.052977839335179966,
          -0.017915904936014693,
          0.012285927029039634,
          0.015079073188672298,
          -0.06050724637681171,
          -0.026995757809487042,
          0.007530717399920839,
          0.02261998426435885,
          0.009809578765147098,
          -0.0060952380952381535,
          0.08700651590647746,
          -0.06558533145275036,
          -0.04641509433962265,
          -0.019786307874950504,
          -0.02180056519983853,
          -0.014857614527445273,
          0.0016757436112273538,
          0.017565872020075313,
          -0.01027538018906704,
          -0.013704318936876958,
          -0.00505263157894742,
          0.024121878967414245,
          0.002479338842975354,
          0.06677658697444344,
          -0.06993817619783615,
          -0.00540091400083087,
          0.012949039264828599,
          -0.02350515463917524,
          0.014780405405405483,
          0.038285476487723624,
          0.14468937875751497,
          -0.07983193277310918,
          -0.06811263318112648,
          0.01796651694569218,
          -0.006417970316887289,
          -0.013322567622123471,
          0.03314238952536819,
          -0.02534653465346537,
          -0.020316944331572495,
          0.02737453338863549,
          0.036737989503431656,
          -0.049844236760124616,
          -0.0008196721311475308,
          -0.02625102543068092,
          -0.025273799494523908,
          -0.011668107173725129,
          -0.013992129427197186,
          -0.02749445676274953,
          -0.02188782489740082,
          0,
          0.004662004662004726,
          0.03248259860788849,
          0.06831460674157297,
          0.032393773664282755,
          -0.0749796251018745,
          -0.03480176211453745,
          -0.0022820629849383822,
          -0.02287282708142724,
          0.0435393258426966,
          -0.05159264244055628,
          -0.010406811731314969,
          -0.0033460803059273125,
          -0.025899280575539696,
          -0.001969473165928104,
          0.009373458312777583,
          0.021994134897360684,
          -0.0014347202295552641,
          0.022030651340996243,
          0.03327085285848175,
          -0.0321995464852608,
          0.015932521087160145,
          -0.040590405904059046,
          -0.010096153846153921,
          0.0655658086449733,
          0.10893345487693695,
          -0.037402383888203716,
          -0.05636208368915463,
          -0.061990950226244346,
          -0.030390738060781408,
          0.008955223880596996,
          0.10650887573964507,
          0.013368983957219083,
          0.0026385224274407815,
          -0.03815789473684217,
          0.028727770177838563,
          -0.03679078014184389,
          -0.011504832029452405,
          -0.0377094972067038,
          -0.018867924528301883,
          0.011341222879684532,
          -0.019015114578254555,
          -0.018886679920477212,
          -0.054204660587639175,
          -0.0005356186395287788,
          -0.020364415862808127,
          -0.009299781181619338,
          -0.008282716731087714,
          -0.03285077951002224,
          0.02014968336211842,
          -0.02934537246049662,
          0.01918604651162803,
          0.0233884768967485,
          -0.031215161649944423,
          0.006329113924050667,
          -0.013722126929674006,
          -0.02608695652173909,
          -0.03630952380952379,
          0.014823965410747375,
          0.03408399269628726,
          0.002354326074161417,
          0.01644157369348198,
          0.017331022530329365,
          -0.01930721181147077,
          -0.03416328894035903,
          -0.013788968824940073,
          0.002431610942249085,
          0.0181928441479684,
          0.007147111375819026,
          0.013601419278533422
         ]
        }
       ],
       "layout": {
        "font": {
         "family": "Roboto"
        },
        "legend": {
         "bgcolor": "#FFFFFF",
         "font": {
          "color": "#4D5663"
         },
         "orientation": "h",
         "x": 0.3,
         "y": 0.95,
         "yanchor": "bottom"
        },
        "paper_bgcolor": "#FFFFFF",
        "plot_bgcolor": "#FFFFFF",
        "showlegend": false,
        "template": {
         "data": {
          "bar": [
           {
            "error_x": {
             "color": "#2a3f5f"
            },
            "error_y": {
             "color": "#2a3f5f"
            },
            "marker": {
             "line": {
              "color": "#E5ECF6",
              "width": 0.5
             },
             "pattern": {
              "fillmode": "overlay",
              "size": 10,
              "solidity": 0.2
             }
            },
            "type": "bar"
           }
          ],
          "barpolar": [
           {
            "marker": {
             "line": {
              "color": "#E5ECF6",
              "width": 0.5
             },
             "pattern": {
              "fillmode": "overlay",
              "size": 10,
              "solidity": 0.2
             }
            },
            "type": "barpolar"
           }
          ],
          "carpet": [
           {
            "aaxis": {
             "endlinecolor": "#2a3f5f",
             "gridcolor": "white",
             "linecolor": "white",
             "minorgridcolor": "white",
             "startlinecolor": "#2a3f5f"
            },
            "baxis": {
             "endlinecolor": "#2a3f5f",
             "gridcolor": "white",
             "linecolor": "white",
             "minorgridcolor": "white",
             "startlinecolor": "#2a3f5f"
            },
            "type": "carpet"
           }
          ],
          "choropleth": [
           {
            "colorbar": {
             "outlinewidth": 0,
             "ticks": ""
            },
            "type": "choropleth"
           }
          ],
          "contour": [
           {
            "colorbar": {
             "outlinewidth": 0,
             "ticks": ""
            },
            "colorscale": [
             [
              0,
              "#0d0887"
             ],
             [
              0.1111111111111111,
              "#46039f"
             ],
             [
              0.2222222222222222,
              "#7201a8"
             ],
             [
              0.3333333333333333,
              "#9c179e"
             ],
             [
              0.4444444444444444,
              "#bd3786"
             ],
             [
              0.5555555555555556,
              "#d8576b"
             ],
             [
              0.6666666666666666,
              "#ed7953"
             ],
             [
              0.7777777777777778,
              "#fb9f3a"
             ],
             [
              0.8888888888888888,
              "#fdca26"
             ],
             [
              1,
              "#f0f921"
             ]
            ],
            "type": "contour"
           }
          ],
          "contourcarpet": [
           {
            "colorbar": {
             "outlinewidth": 0,
             "ticks": ""
            },
            "type": "contourcarpet"
           }
          ],
          "heatmap": [
           {
            "colorbar": {
             "outlinewidth": 0,
             "ticks": ""
            },
            "colorscale": [
             [
              0,
              "#0d0887"
             ],
             [
              0.1111111111111111,
              "#46039f"
             ],
             [
              0.2222222222222222,
              "#7201a8"
             ],
             [
              0.3333333333333333,
              "#9c179e"
             ],
             [
              0.4444444444444444,
              "#bd3786"
             ],
             [
              0.5555555555555556,
              "#d8576b"
             ],
             [
              0.6666666666666666,
              "#ed7953"
             ],
             [
              0.7777777777777778,
              "#fb9f3a"
             ],
             [
              0.8888888888888888,
              "#fdca26"
             ],
             [
              1,
              "#f0f921"
             ]
            ],
            "type": "heatmap"
           }
          ],
          "heatmapgl": [
           {
            "colorbar": {
             "outlinewidth": 0,
             "ticks": ""
            },
            "colorscale": [
             [
              0,
              "#0d0887"
             ],
             [
              0.1111111111111111,
              "#46039f"
             ],
             [
              0.2222222222222222,
              "#7201a8"
             ],
             [
              0.3333333333333333,
              "#9c179e"
             ],
             [
              0.4444444444444444,
              "#bd3786"
             ],
             [
              0.5555555555555556,
              "#d8576b"
             ],
             [
              0.6666666666666666,
              "#ed7953"
             ],
             [
              0.7777777777777778,
              "#fb9f3a"
             ],
             [
              0.8888888888888888,
              "#fdca26"
             ],
             [
              1,
              "#f0f921"
             ]
            ],
            "type": "heatmapgl"
           }
          ],
          "histogram": [
           {
            "marker": {
             "pattern": {
              "fillmode": "overlay",
              "size": 10,
              "solidity": 0.2
             }
            },
            "type": "histogram"
           }
          ],
          "histogram2d": [
           {
            "colorbar": {
             "outlinewidth": 0,
             "ticks": ""
            },
            "colorscale": [
             [
              0,
              "#0d0887"
             ],
             [
              0.1111111111111111,
              "#46039f"
             ],
             [
              0.2222222222222222,
              "#7201a8"
             ],
             [
              0.3333333333333333,
              "#9c179e"
             ],
             [
              0.4444444444444444,
              "#bd3786"
             ],
             [
              0.5555555555555556,
              "#d8576b"
             ],
             [
              0.6666666666666666,
              "#ed7953"
             ],
             [
              0.7777777777777778,
              "#fb9f3a"
             ],
             [
              0.8888888888888888,
              "#fdca26"
             ],
             [
              1,
              "#f0f921"
             ]
            ],
            "type": "histogram2d"
           }
          ],
          "histogram2dcontour": [
           {
            "colorbar": {
             "outlinewidth": 0,
             "ticks": ""
            },
            "colorscale": [
             [
              0,
              "#0d0887"
             ],
             [
              0.1111111111111111,
              "#46039f"
             ],
             [
              0.2222222222222222,
              "#7201a8"
             ],
             [
              0.3333333333333333,
              "#9c179e"
             ],
             [
              0.4444444444444444,
              "#bd3786"
             ],
             [
              0.5555555555555556,
              "#d8576b"
             ],
             [
              0.6666666666666666,
              "#ed7953"
             ],
             [
              0.7777777777777778,
              "#fb9f3a"
             ],
             [
              0.8888888888888888,
              "#fdca26"
             ],
             [
              1,
              "#f0f921"
             ]
            ],
            "type": "histogram2dcontour"
           }
          ],
          "mesh3d": [
           {
            "colorbar": {
             "outlinewidth": 0,
             "ticks": ""
            },
            "type": "mesh3d"
           }
          ],
          "parcoords": [
           {
            "line": {
             "colorbar": {
              "outlinewidth": 0,
              "ticks": ""
             }
            },
            "type": "parcoords"
           }
          ],
          "pie": [
           {
            "automargin": true,
            "type": "pie"
           }
          ],
          "scatter": [
           {
            "marker": {
             "colorbar": {
              "outlinewidth": 0,
              "ticks": ""
             }
            },
            "type": "scatter"
           }
          ],
          "scatter3d": [
           {
            "line": {
             "colorbar": {
              "outlinewidth": 0,
              "ticks": ""
             }
            },
            "marker": {
             "colorbar": {
              "outlinewidth": 0,
              "ticks": ""
             }
            },
            "type": "scatter3d"
           }
          ],
          "scattercarpet": [
           {
            "marker": {
             "colorbar": {
              "outlinewidth": 0,
              "ticks": ""
             }
            },
            "type": "scattercarpet"
           }
          ],
          "scattergeo": [
           {
            "marker": {
             "colorbar": {
              "outlinewidth": 0,
              "ticks": ""
             }
            },
            "type": "scattergeo"
           }
          ],
          "scattergl": [
           {
            "marker": {
             "colorbar": {
              "outlinewidth": 0,
              "ticks": ""
             }
            },
            "type": "scattergl"
           }
          ],
          "scattermapbox": [
           {
            "marker": {
             "colorbar": {
              "outlinewidth": 0,
              "ticks": ""
             }
            },
            "type": "scattermapbox"
           }
          ],
          "scatterpolar": [
           {
            "marker": {
             "colorbar": {
              "outlinewidth": 0,
              "ticks": ""
             }
            },
            "type": "scatterpolar"
           }
          ],
          "scatterpolargl": [
           {
            "marker": {
             "colorbar": {
              "outlinewidth": 0,
              "ticks": ""
             }
            },
            "type": "scatterpolargl"
           }
          ],
          "scatterternary": [
           {
            "marker": {
             "colorbar": {
              "outlinewidth": 0,
              "ticks": ""
             }
            },
            "type": "scatterternary"
           }
          ],
          "surface": [
           {
            "colorbar": {
             "outlinewidth": 0,
             "ticks": ""
            },
            "colorscale": [
             [
              0,
              "#0d0887"
             ],
             [
              0.1111111111111111,
              "#46039f"
             ],
             [
              0.2222222222222222,
              "#7201a8"
             ],
             [
              0.3333333333333333,
              "#9c179e"
             ],
             [
              0.4444444444444444,
              "#bd3786"
             ],
             [
              0.5555555555555556,
              "#d8576b"
             ],
             [
              0.6666666666666666,
              "#ed7953"
             ],
             [
              0.7777777777777778,
              "#fb9f3a"
             ],
             [
              0.8888888888888888,
              "#fdca26"
             ],
             [
              1,
              "#f0f921"
             ]
            ],
            "type": "surface"
           }
          ],
          "table": [
           {
            "cells": {
             "fill": {
              "color": "#EBF0F8"
             },
             "line": {
              "color": "white"
             }
            },
            "header": {
             "fill": {
              "color": "#C8D4E3"
             },
             "line": {
              "color": "white"
             }
            },
            "type": "table"
           }
          ]
         },
         "layout": {
          "annotationdefaults": {
           "arrowcolor": "#2a3f5f",
           "arrowhead": 0,
           "arrowwidth": 1
          },
          "autotypenumbers": "strict",
          "coloraxis": {
           "colorbar": {
            "outlinewidth": 0,
            "ticks": ""
           }
          },
          "colorscale": {
           "diverging": [
            [
             0,
             "#8e0152"
            ],
            [
             0.1,
             "#c51b7d"
            ],
            [
             0.2,
             "#de77ae"
            ],
            [
             0.3,
             "#f1b6da"
            ],
            [
             0.4,
             "#fde0ef"
            ],
            [
             0.5,
             "#f7f7f7"
            ],
            [
             0.6,
             "#e6f5d0"
            ],
            [
             0.7,
             "#b8e186"
            ],
            [
             0.8,
             "#7fbc41"
            ],
            [
             0.9,
             "#4d9221"
            ],
            [
             1,
             "#276419"
            ]
           ],
           "sequential": [
            [
             0,
             "#0d0887"
            ],
            [
             0.1111111111111111,
             "#46039f"
            ],
            [
             0.2222222222222222,
             "#7201a8"
            ],
            [
             0.3333333333333333,
             "#9c179e"
            ],
            [
             0.4444444444444444,
             "#bd3786"
            ],
            [
             0.5555555555555556,
             "#d8576b"
            ],
            [
             0.6666666666666666,
             "#ed7953"
            ],
            [
             0.7777777777777778,
             "#fb9f3a"
            ],
            [
             0.8888888888888888,
             "#fdca26"
            ],
            [
             1,
             "#f0f921"
            ]
           ],
           "sequentialminus": [
            [
             0,
             "#0d0887"
            ],
            [
             0.1111111111111111,
             "#46039f"
            ],
            [
             0.2222222222222222,
             "#7201a8"
            ],
            [
             0.3333333333333333,
             "#9c179e"
            ],
            [
             0.4444444444444444,
             "#bd3786"
            ],
            [
             0.5555555555555556,
             "#d8576b"
            ],
            [
             0.6666666666666666,
             "#ed7953"
            ],
            [
             0.7777777777777778,
             "#fb9f3a"
            ],
            [
             0.8888888888888888,
             "#fdca26"
            ],
            [
             1,
             "#f0f921"
            ]
           ]
          },
          "colorway": [
           "#636efa",
           "#EF553B",
           "#00cc96",
           "#ab63fa",
           "#FFA15A",
           "#19d3f3",
           "#FF6692",
           "#B6E880",
           "#FF97FF",
           "#FECB52"
          ],
          "font": {
           "color": "#2a3f5f"
          },
          "geo": {
           "bgcolor": "white",
           "lakecolor": "white",
           "landcolor": "#E5ECF6",
           "showlakes": true,
           "showland": true,
           "subunitcolor": "white"
          },
          "hoverlabel": {
           "align": "left"
          },
          "hovermode": "closest",
          "mapbox": {
           "style": "light"
          },
          "paper_bgcolor": "white",
          "plot_bgcolor": "#E5ECF6",
          "polar": {
           "angularaxis": {
            "gridcolor": "white",
            "linecolor": "white",
            "ticks": ""
           },
           "bgcolor": "#E5ECF6",
           "radialaxis": {
            "gridcolor": "white",
            "linecolor": "white",
            "ticks": ""
           }
          },
          "scene": {
           "xaxis": {
            "backgroundcolor": "#E5ECF6",
            "gridcolor": "white",
            "gridwidth": 2,
            "linecolor": "white",
            "showbackground": true,
            "ticks": "",
            "zerolinecolor": "white"
           },
           "yaxis": {
            "backgroundcolor": "#E5ECF6",
            "gridcolor": "white",
            "gridwidth": 2,
            "linecolor": "white",
            "showbackground": true,
            "ticks": "",
            "zerolinecolor": "white"
           },
           "zaxis": {
            "backgroundcolor": "#E5ECF6",
            "gridcolor": "white",
            "gridwidth": 2,
            "linecolor": "white",
            "showbackground": true,
            "ticks": "",
            "zerolinecolor": "white"
           }
          },
          "shapedefaults": {
           "line": {
            "color": "#2a3f5f"
           }
          },
          "ternary": {
           "aaxis": {
            "gridcolor": "white",
            "linecolor": "white",
            "ticks": ""
           },
           "baxis": {
            "gridcolor": "white",
            "linecolor": "white",
            "ticks": ""
           },
           "bgcolor": "#E5ECF6",
           "caxis": {
            "gridcolor": "white",
            "linecolor": "white",
            "ticks": ""
           }
          },
          "title": {
           "x": 0.05
          },
          "xaxis": {
           "automargin": true,
           "gridcolor": "white",
           "linecolor": "white",
           "ticks": "",
           "title": {
            "standoff": 15
           },
           "zerolinecolor": "white",
           "zerolinewidth": 2
          },
          "yaxis": {
           "automargin": true,
           "gridcolor": "white",
           "linecolor": "white",
           "ticks": "",
           "title": {
            "standoff": 15
           },
           "zerolinecolor": "white",
           "zerolinewidth": 2
          }
         }
        },
        "title": {
         "font": {
          "color": "#4D5663"
         },
         "text": "Daily Returns - 2019-12-23 : 2021-11-19",
         "x": 0.5,
         "xanchor": "center",
         "y": 0.933,
         "yanchor": "top"
        },
        "xaxis": {
         "gridcolor": "#E1E5ED",
         "rangeslider": {
          "visible": false
         },
         "showgrid": true,
         "tickfont": {
          "color": "#4D5663"
         },
         "tickformat": ".2%",
         "title": {
          "font": {
           "color": "#4D5663"
          },
          "text": "Returns Distribution"
         },
         "zerolinecolor": "#E1E5ED"
        },
        "yaxis": {
         "gridcolor": "#E1E5ED",
         "showgrid": true,
         "tickfont": {
          "color": "#4D5663"
         },
         "tickformat": ".2%",
         "title": {
          "font": {
           "color": "#4D5663"
          },
          "text": "Returns (%)"
         },
         "zerolinecolor": "#E1E5ED"
        }
       }
      },
      "text/html": [
       "<div>                            <div id=\"662341fd-51d3-419e-8c24-ee0122ad97ba\" class=\"plotly-graph-div\" style=\"height:525px; width:100%;\"></div>            <script type=\"text/javascript\">                require([\"plotly\"], function(Plotly) {                    window.PLOTLYENV=window.PLOTLYENV || {};                                    if (document.getElementById(\"662341fd-51d3-419e-8c24-ee0122ad97ba\")) {                    Plotly.newPlot(                        \"662341fd-51d3-419e-8c24-ee0122ad97ba\",                        [{\"boxpoints\":false,\"line\":{\"width\":1.3},\"marker\":{\"color\":\"rgba(220, 187, 166, 1.0)\"},\"name\":\"FB\",\"orientation\":\"v\",\"y\":[null,null,null,null,null,null,null,null,null,null,null,null,null,null,null,null,null,null,null,null,null,null,null,null,null,null,null,null,null,null,null,null,null,null,null,null,null,null,null,null,null,null,null,null,null,null,null,null,null,null,null,null,null,null,null,null,null,null,null,null,null,null,null,null,null,null,null,null,null,null,null,null,null,null,null,null,null,null,null,null,null,null,null,null,null,null,null,null,null,null,null,null,null,null,null,null,null,null,null,null,null,null,null,null,null,null,null,null,null,null,null,null,null,null,null,null,null,null,null,null,null,null,null,null,null,null,null,null,null,null,null,null,null,null,null,null,null,null,null,null,null,null,null,null,null,null,null,null,null,null,null,null,null,null,null,null,null,null,null,null,null,null,null,null,null,null,null,null,null,null,null,null,null,null,null,null,null,null,null,null,null,null,null,null,null,null,null,null,null,null,null,null,null,null,null,null,null,null,null,null,null,null,null,null,null,null,null,null,null,null,null,null,null,null,null,null,null,null,null,null,null,null,null,null,null,null,null,null,null,null,null,null,null,0.03162835748612314,-0.004802831142568409,0.008055444682318003,-0.0030236492566861894,0.034588583601111944,0.003385098586633939,-0.01972036727879789,-0.007628171012950324,0.021022524132999543,-0.007633587786259555,-0.019336626676076052,-0.0028785261945883933,-0.012882505773672004,0.0023396088466458576,0.004960064189065916,0.0004354926510614643,-0.004316755541045492,0.006995045176333203,-0.013060781476121441,-0.020895194105355896,0.0038189374368191586,-0.0026481667972102496,0.03590127150336575,-0.0007942238267149015,-0.017739721078112503,0.004744914849008852,-0.015448821203690288,0.007548152004164699,-0.028268812045614045,0.02062208043750724,-0.004353650368385864,-0.040101655641514466,-0.022387478585889964,0.00219044963957149,-0.023843586075345757,0.023286109754111717,0.03874920432845319,0.024435082343929437,0.020151039330043252,0.005973540513797726,0.012786885245901658,0.014531851372252769,-0.0351356142527921,-0.026236495921217018,-0.025169811320754798,0.014245345101227214,0.01935040647303543,-0.0016100044930358326,-0.0006000375023438309,0.00604150249540325,-0.005669526296158245,0.010765998949658684,0.008981258118389457,-0.005443778276382205,0.0004068197788380523,0.012828096118299603,-0.0014600138701318377,-0.015279453156413325,-0.029065666877018392,-0.004702553907325324,0.021223063035378242,-0.0058114385661357515,-0.036396655442472836,0.0115041815540462,0.028297492430712,-0.022309463591408507,-0.013861003861003862,0.008731059864531598,0.025772395590746733,-0.033941274405932975,0.040852297207316646,-0.003160984420862656,0.03389958474896204,-0.020008762961881144,0.01993293591654255,0.020200913242009122,0.016936407906044115,-0.01897820499278191,0.041238963462780776,0.011823101582158602,-0.0099134700551885,-0.029212400646870584,-0.012050754944353814,0.015354810934921304,0.027559889760440992,-0.009696719620383765,0.02267361111111099,0.01402234067836905,0.034319962499163026,-0.008578550386844186,0.02230131261020052,-0.00022357788495319664,-0.0017890230656187889,-0.002944376880240518,-0.005713552031841873,-0.022404442148760362,0.016511458952513047,-0.005327788967578462,-0.012868247436148672,0.0013565378507145454,-0.003898893110854007,-0.0164195442332572,0.015547012005935557,0.006342775545445489,0.001748944033790778,0.01162829001548249,0.0729729729729729,-0.01344420503171373,-0.007690414667158807,-0.013082026164052185,-0.010491267747204547,0.01587200812646805,-0.0029373164177238786,-0.0410868747649491,0.001830244795241187,-0.012984047238443042,0.008957197157494656,0.03498656882657403,-0.0015192758118630634,-0.017434857034172357,0.01171118854045683,0.016008163525622843,-0.007469947584821557,0.026562944692154478,0.009734158888580868,-0.0003965953811891909,0.015534395409876112,-0.012081141998497302,0.0012168040641256095,6.076626257089934e-05,-0.009448579674920077,0.013219236903447396,0.018858786135916406,-0.00861607938677278,-0.010279309518101187,0.006691900075700197,-0.00360945677675506,0.016633460121958654,-5.938771268221288e-05,-0.016837416481069067,0.016400869880391467,-0.02035600725089881,0.007977916641388028,0.020283487315296833,0.004601362711264434,0.007604451099562537,-0.005274200128212558,0.04180215015965083,-0.010544370711955908,-0.011878712097530553,0.019211411808691237,0.0008747425153079469,-0.0054130250916267775,-0.006491297692612807,-0.013809238494678966,0.013800086792998822,0.00781918840248852,-0.0030297881979840513,-0.01266721576869545,-0.009118890774674315,-0.009580212506531849,-0.01234025090866464,0.013978335064549707,0.013375870748697505,0.014325737226698942,0.05296278367835083,0.007220314232402103,-0.012484562100628205,0.014871808814333365,-0.04007715387912558,-0.0056374190667559665,-0.01220881279820385,-0.002017332007387407,0.021865391185514227,0.011283851554664048,0.0014877262583683493,-0.005226816318670724,-0.0013273969193330348,-0.0032398305319414344,0.007473052561395743,0.0014614642217014584,0.00930667988325351,-0.022124618070711533,-0.008369368112707498,-0.0009284006189337335,0.011967785537283282,0.011074936694771553,0.005944681436631294,0.007879401384367046,-0.010885203181410952,0.0226411987485593,0.021549526339800895,-0.003362580780749358,0.0070377985133640575,-0.017720193691925235,0.0026113835003198638,0.015733801094987454,-0.012062378983724975,0.0011388616680350072,0.00182539682539673,-0.005756687528057247,5.311943905872418e-05,-0.006931718588160218,-0.0022999572100984578,-0.02235565324612654,-0.024731300723842997,0.005004217036828962,-0.03991831710864957,0.008012587045832076,0.020233553011908878,0.0017565729827742071,-0.036568810453079914,-0.0030529869367385,-0.0006478018904038096,0.010666195232623243,-0.04891985656394848,0.020629617141280532,0.0020422873618453075,-0.013247812012948001,0.0025211105036144765,-0.013937282229965264,-0.00516208326931944,0.002378231460604896,0.012294324274357393,-0.01147535993668758,0.0325779036827194,0.013866523528359487,0.0023235977528750507,0.0032278889606198735,-0.050514800514800506,0.01256892886848826,-0.03918585901609417,-0.011367594439694706,0.015053487925180908,0.020983213429256464,0.01981024198782344,-0.005757924722710528,0.0107900512070227,0.01275556359688812,0.015721304153639926,-0.007357898748277747,-0.009597779221546254,-0.02304916957390346,0.00030521303870112426,0.04012326844449854,0.019566429053360368,-0.013235124870526027,-0.006385584324702598,-0.006103823693400234,0.01951637190351052],\"type\":\"box\"},{\"boxpoints\":false,\"line\":{\"width\":1.3},\"marker\":{\"color\":\"rgba(100, 100, 111, 1.0)\"},\"name\":\"AMZN\",\"orientation\":\"v\",\"y\":[null,null,null,null,null,null,null,null,null,null,null,null,null,null,null,null,null,null,null,null,null,null,null,null,null,null,null,null,null,null,null,null,null,null,null,null,null,null,null,null,null,null,null,null,null,null,null,null,null,null,null,null,null,null,null,null,null,null,null,null,null,null,null,null,null,null,null,null,null,null,null,null,null,null,null,null,null,null,null,null,null,null,null,null,null,null,null,null,null,null,null,null,null,null,null,null,null,null,null,null,null,null,null,null,null,null,null,null,null,null,null,null,null,null,null,null,null,null,null,null,null,null,null,null,null,null,null,null,null,null,null,null,null,null,null,null,null,null,null,null,null,null,null,null,null,null,null,null,null,null,null,null,null,null,null,null,null,null,null,null,null,null,null,null,null,null,null,null,null,null,null,null,null,null,null,null,null,null,null,null,null,null,null,null,null,null,null,null,null,null,null,null,null,null,null,null,null,null,null,null,null,null,null,null,null,null,null,null,null,null,null,null,null,null,null,null,null,null,null,null,null,null,null,null,null,null,null,null,null,null,null,null,null,0.006348458392907208,0.021490927050794584,0.0032244189295682624,-0.008543691751112581,0.01642656027070366,-0.005139623860276665,-0.005244214975355321,-0.007578301268071019,-0.001448184709952005,0.006108296390120227,-0.023003880665598664,-0.0008730107596159886,0.0048138152952290625,0.01301172499213843,0.0025815893087359765,0.02396117682741883,-0.0015057266982623219,-0.010639415589231316,0.0014148954445363238,0.0001060452002070722,-0.006627122238439198,-0.003949429718673736,0.03507118565003209,0.011583575926625178,-0.010881998795906123,-0.008801375595355876,-0.02158474391528209,0.010004299212647894,-0.024896613650415955,0.007577157641840637,0.006495559996964051,-0.021519464605523564,0.002125739754223366,0.01443846668995108,-0.012135607996487607,-0.007424531650183641,0.005318514939196328,0.04570040631128314,0.013363445262273954,-0.004463273248482724,0.000537629509481441,0.00975409836065566,-0.028125779810169838,0.0015591261469167783,-0.00970465959562894,0.04262990455991522,0.011104197578136077,-0.019961538461538364,0.0055757985588054115,0.0063494446112279945,-0.008713810539504485,-0.005398833563049599,-0.005573373676248106,-0.007439344242343049,0.004776020575513629,-0.002672597636764751,0.012141513329968268,0.005920861743798023,-0.023535032134197387,-0.02128065478937824,0.004326037337223587,-0.010946940053216392,-0.032400388665402846,0.011700401679990646,0.0172037517822905,-0.016404228673866927,-0.028931695604825336,-0.009128119800332679,0.0076874767007995,-0.016167520980116423,0.03756838699842491,-0.001701030086357469,0.01829842623722877,-0.007740261241846347,-0.0025279253210076513,0.0033033929544925567,0.014188870129954179,-0.034358825536637494,0.015511940264003599,0.011678200692041507,0.00856030628087967,-0.016073306772908302,-0.013219654883109166,0.0018941259117737363,0.007765323407699087,-0.0066455768224129574,0.01269601248981278,0.021628400041369344,0.020794052515026973,-0.0009018418026918162,0.01723731473841572,0.006071251055836724,0.02209559603552247,0.00213213925627187,0.006098733795152356,-0.01970588235294113,0.013828382838283915,0.006022331456102092,-0.00806897606664625,-0.011067582836349898,0.008195664364603505,-0.01575838335286528,0.009622126054686708,0.020389837408107958,0.0024728659430917066,0.012017802851850723,0.0037039178834754605,-0.0011206144078171887,-0.02334012032000743,-0.02203461401037654,-0.012479354564037815,0.01095537739945085,-0.0044641101873050815,-0.030720528859737417,0.010474880034101464,-0.02232382417623313,0.003023534711955156,0.01943083439033111,0.01473517639393096,-0.011653044438124982,-0.00014850198621407795,0.004913670400396031,-0.013732880086708033,0.013084281379172502,0.004332833074986553,0.0018747794602720358,-0.01073454287079334,-0.0021794923392701726,-0.001371363327510755,0.004765973311792182,-0.014526946589197731,0.006027593261395348,-0.0025606477409534367,0.020669103598800476,0.00522041230228143,0.02087682672233826,-0.0008418790022838296,0.011067188951933593,-0.00021868452393258853,0.00949416664449787,0.02166459263597087,-0.0006706331464730875,-0.009446786543921504,0.014904631205920227,-0.00046213884704915387,-0.015622948667454395,-0.013806580305472771,0.012474055258624217,0.0012340696131409867,-0.002314291183072581,-0.002090019068880511,0.022723763971138844,0.04692706879560693,0.005669606664236326,0.009422222703147298,-0.0032347021635252826,-0.00021240327585003715,-0.011076898253351453,0.001174755803076133,-0.013711131874578952,-0.01585426305353599,-0.006727053444256947,0.0066486551967972485,0.0033611422846251404,0.014735579605043014,0.005115405865262046,0.01180865494005423,-0.019846911471368966,0.001083722379556562,-0.008373917450803292,-0.07564890330896235,0.0011690142114864077,0.010433801193463488,-0.003422215884785418,0.006340320503648522,-0.009197302124710038,-0.0009178042057556013,-0.006340761310284382,-0.008603659491429383,0.0034597871881558717,-0.002884819131224514,0.0015239968791458391,-0.01728710908490172,-0.012566472134141193,-0.0042077707873872106,0.00382715081170093,0.02060032188002947,0.012220327202246306,-0.0019965030945798823,0.005098236531501765,0.010141737032569376,0.021476998952123072,0.014385209129142318,0.002365455703168484,-0.0045645300373671205,0.004311141398507745,0.008982044536449907,0.004619167979847738,-0.011725996312579867,-0.0043080685157971255,-0.0034532954758370593,-0.002073950659065127,0.007475362318840606,0.00358191950606912,-0.007373345870696935,-0.03084169910931922,-0.003605772812472985,0.01089235351997675,0.010635937338205004,0.002786885245901649,-0.005756790209953455,-0.026378530741675954,-0.004475325395963847,-0.004871074059713099,-0.0005418503275453901,-0.02847170190603243,0.00978750885641011,0.01273207078547034,0.012391133074392657,-0.004181769182087125,-0.012868619664175185,0.0003172842928871322,0.011378578709278164,0.0047438099065852946,0.033080191280842275,0.011064763480413742,-0.0007514346890103996,-0.00844620588534184,0.005841771447646638,-0.0289547919802271,-0.004550973602554409,0.016775238904098044,0.0048636432301460975,0.015941093415161145,-0.021511241611225196,-0.016107080057999656,-0.0016153774287169798,0.02150781073126562,0.027482269503546153,0.01207650273224048,-0.00852801514070789,0.025007308726332722,-0.026334995232409453,-0.002742637239557255,0.015161987041036662,0.00582386565110693,-0.001404526071162704,0.0023441692320727014,0.041437024513947485,-0.005273182794651499],\"type\":\"box\"},{\"boxpoints\":false,\"line\":{\"width\":1.3},\"marker\":{\"color\":\"rgba(0, 0, 0, 1.0)\"},\"name\":\"GOOGL\",\"orientation\":\"v\",\"y\":[null,-0.004590450382414124,0.013418325982014645,-0.00574691552841522,-0.011021378373590074,-0.0002388576632256223,0.02186816386564039,-0.005231317766022814,0.026654033727010917,-0.001931592991894493,0.007117718316118404,0.010497921767351759,0.006458701638974773,0.0077468928451460695,-0.006555418984326766,0.006018495865342421,0.007615341856586966,0.020246041816075477,0.0018451930355791735,0.0012953280485747953,0.0003503641766104959,-0.012473984468138077,-0.023489772673018883,0.013110013759577654,0.004274388142019969,-0.0016818837097549721,-0.014763623861096753,0.034771562975474124,-0.025084311344934496,0.00044278094104788224,0.020690847481069197,0.0021274145138450162,0.0199782301519158,0.0009279758196014676,0.005675271181277752,-0.0034504783917083115,0.003528502236700426,0.0004674958682584496,0.0035736850418575106,-0.005167653636047542,-0.02210298024377222,-0.04287274345112113,-0.023622047244094446,0.002993536845749878,-0.05431257056966343,0.01847979010608758,0.03514653724099315,-0.03505684113336016,0.032802081153006535,-0.04837869137232187,-0.014466518604155931,-0.06170219334125682,0.048840671497544896,-0.050401122987523195,-0.08204641175984817,0.09241149745850397,-0.1163415055959548,0.04199440820130462,-0.024032699497343546,0.018768500444468872,-0.03909433554921882,-0.013180928843579354,0.07198353144299086,-0.02512367147193395,0.05564532234345809,-0.04528256457881885,0.0324698719218921,0.013643778733501533,-0.051508240457851184,0.013546865075764414,-0.021780972758117412,0.08281321497208749,-0.0005324588612142245,0.02066702746583693,-0.0003562551781276513,0.0031825753996868045,0.045290438776943276,-0.006267635133533123,0.00010339616638832538,0.017154036407593276,-0.013956215793588633,-0.03884549815644456,0.03815502903907064,0.010139779563099527,0.004271655246741002,-0.004496318345605488,-0.030113466471523243,0.08891034326093838,0.00336765560506036,-0.021816291675948674,0.004235872832721199,0.019744500718119173,-0.002661191086863024,0.017726674743390625,0.010998480953493761,0.013905543435861034,-0.020240953554812924,-0.01952471676435097,0.006326344440900966,0.011939330513096369,0.008826999548454006,-0.007782382073087901,0.02529103608847505,-0.0017102387237787342,0.0046134707659499785,0.005752738388383971,-0.0007668657703482351,-0.0014363364970286785,0.010773916967508956,0.0009417378201908022,0.005185138723368787,-0.0021215966054454194,-0.01733541775230163,0.01818567489217293,0.005569367092123745,0.0027899781773983445,0.008690981213156368,-0.042875674199494784,0.00786076039660455,0.005534637488322058,0.01811028055801911,0.004196423016032069,-0.012681234251724627,-0.0066103254957742275,0.01826426325247077,0.009182027490935107,-0.021366412109455002,0.005863055768827952,-0.05451391298313779,0.025415767610492246,0.014944494943349707,0.016889390360001366,0.01936893203883505,0.02021864986768085,-0.006488180575467628,0.009181701030927636,0.010015961691939523,0.013399971027089563,-0.017400796616006353,0.005706803859201193,-0.002616940415291258,-0.0012921259427245424,0.0012739946663848922,0.030978672907670424,-0.005064456721915134,0.005739369633400049,-0.030737770393328367,-0.005630459864842563,0.014069658734526369,-0.016855952871331126,0.013207860871878419,0.009753792229785008,-0.032774950109531464,-0.003488020430794103,-0.006379994065121797,0.003929953166361244,0.017483723100014226,-0.0043722382803416115,-0.001034457443755521,-0.010876391282853004,0.018033960581949948,0.006243199490459483,-0.007925361817162857,0.007716182716016595,0.026077665804885797,-0.007179678360693664,0.020484135153857608,-0.0004314036478985095,0.00608033917883688,0.013058701069299294,0.023837842886944793,-0.009494383047569332,0.006699334364944853,-0.0060386841768176325,0.015679367670432542,0.037647726998090825,-0.051170671775193854,-0.02964081226871884,-0.03643412323473805,0.015509320031504403,-0.013688979660425482,-0.006742898332295799,-0.004571963899298037,0.017424096816738732,-0.015002084527593884,-0.01656647421780444,-0.02417554336130845,-0.01443742290278327,0.020753212972156376,-0.03454535490676924,0.009557326219144402,0.011385519306186254,0.013620001945714666,0.005045726900031466,-0.0002864899523881137,0.015215611353711855,-0.02170844814839723,0.018707062379774708,-0.021452223113910485,0.005596063458808365,0.016646791945940764,0.01821454332189587,0.03584362276142872,0.0015850797972631891,-0.0023164249203927456,-0.0050977332037046574,0.007862575298784202,-0.02407986221853675,0.01381090885323033,0.022506898419166088,0.013032869059704133,0.016381810712907452,-0.029816654214993465,0.009209172563104051,-0.05508856199339551,0.030500397140587943,0.038044036791531566,0.0050800997456856845,0.013137805358550025,0.06088134851670435,0.009536901795687003,-0.001571631205673718,0.0009603746029220872,-0.013455053309261888,0.005472688350252053,-0.0025239951237101543,0.016892163275610717,0.0009987247920733022,-0.006972824585829929,-0.01193192784078656,0.010300808897876657,-0.012618206838510782,-0.005079533281885373,0.02103544884114017,0.00013039287941496447,0.012975234251443979,-0.01825385278284508,0.02334701322389421,0.016492514036182238,-0.0017150966865209227,0.0010538795942562906,-0.0036901785322630554,-0.003136987281442849,-0.018478134851186767,-0.005742859392752986,0.004044918394478403,-0.01270002253775071,0.005033499594808921,-0.0022088718286504827,-0.009492428251924978,-0.008210237229317796,0.004831365642849583,-0.008267226270639139,0.004656381160549117,0.0034312562564011717,0.02295059279420575,-0.009132111208820959,-0.012237165483342416,0.009439884809215426,-0.01512575314953446,0.008064282527967093,-0.009867532542168211,0.029868592124814075,0.013238725385213757,-0.023105632901887274,-0.0107385454566159,0.005652026268684107,-0.009346115324080695,-0.0019065005892821008,0.03290654194788223,0.053573329896271726,0.0021701319631717286,0.004463551203460314,0.0009088219131758724,0.0072164621914394544,-0.04665216593726251,0.018835145744224624,-0.013943449169005029,0.03595897907363632,0.013760716719402932,0.07282504481220564,-0.002549930059061234,0.017140380691750723,-0.0020633560414202723,-0.0043799052059947385,0.005343573978866756,0.001087956750124519,0.003006582884500286,0.007479606497281521,0.0037523096603022665,-0.00604638868697549,-0.008072903063429226,-0.016540518285530825,0.0028526087252829235,0.011499330136108599,-0.03256534904813779,0.0029564225303206904,0.02361628361301915,-0.002502826551220916,-0.025706231109044353,0.011196126100596171,0.03104334957446908,-0.042711974326083646,0.016368617683686137,-0.002043756984061562,0.03160314116069718,-0.024060479686175973,0.0021658536585367205,0.014334806565292624,-0.0008013858696956921,-0.029238024800453344,0.002780333837949067,0.0018401941824208734,0.005239598363117937,-0.0043109149427088544,-3.44398360663245e-05,-0.0038032728811391303,0.010401386851580208,0.00033238993249562476,0.007842773165499528,0.03261059286697843,0.04187286949825797,-0.004371417240508935,0.013475100259815465,0.005091490511516028,0.008993836733424354,-0.011472384802723501,0.004370450232110468,-0.005553510199917455,0.01933173053334003,-0.0010939722131058094,0.003070857518344239,-0.0046948151771364355,-0.0002895994313321104,-0.01133715188623341,0.021047537868698063,0.004347958416125675,-0.008203711800790381,0.02970781063125827,0.014293950081389228,-0.01640783028803572,-0.004427448480985752,-0.015471089335404642,0.003441952809699833,0.009754748851937833,0.00623783344385731,-0.025587496226503248,-0.009464383113341301,-0.03075249112358258,0.013084876718554739,0.02213508954527521,0.004626093979055224,-0.011555668175384115,0.003991213143157868,0.015606427470834072,-0.0055571208738809386,0.029165740389603068,0.0007750821671805852,0.00738085463863869,-0.007406598300221501,-0.0024675368649160756,0.010323100748880876,-0.004447374830966022,-0.009706444387262314,0.019590386696087148,0.0036472716486253276,-0.0016067934895726,0.003960907923483692,0.011291809596584601,-0.0020245325711565343,0.007698954818533554,-0.008379238110016285,-0.005328633374375613,0.008039909747665996,-0.013409340129041825,0.014166063058337786,0.004252437147254984,-0.0016635262669572048,0.0030541976794649095,6.93877551021238e-05,0.00022447422015603458,-0.0021503884572696697,-0.0014966570569833193,0.0029077029556185963,0.022973673786899518,0.007444663992176137,0.002250574530469951,-0.011306671726995288,0.003794664278174098,0.01160785063556391,0.002882445826163149,0.0070322714904409445,-0.009607211647184477,-0.00027557970158642586,-0.018839095849413345,0.013096212814461605,0.01061330565448726,0.0068405083536522415,0.035768932772160644,0.007668308085554187,-0.015928675345991627,0.03179681576952231,-0.0023255984834011922,-0.007740605033971004,0.0009500729255194074,0.005750642358986813,-0.00371967853719668,0.008332994142482342,-0.0037650961640790515,0.008652666708413692,-0.0007742142820624798,-0.00385945163624668,0.0067141672598125535,0.003888654022770721,0.004225735601096403,-0.011915305890050965,-0.008872286635226434,0.001705438947500415,0.012894310141509546,0.019006108586584247,0.008711703316516939,0.005787139454132895,-0.004493978701989754,0.018124228916045926,0.0040728035332351364,0.0007400209557335558,0.0035798821679711157,-0.01328026278186567,0.003157997585266026,0.00376375317849309,-0.004085791219187618,-0.0010439067164957905,-0.01856612396458157,0.010338879582043825,0.0014894700788645743,0.013223940593990013,-0.005674048584257463,-0.019566882529071683,-0.014776278409090904,0.002259956242633532,0.008994267547992374,0.006647253597179992,0.0070742692046226185,-0.008037126885349744,-0.03715833049790185,-0.010870205403813449,-0.005042667291883074,0.021447380232801683,-0.021117889602542794,0.01768299297842657,0.011336318122670441,0.01206702286191974,0.004025857425031365,-0.006234552224658407,-0.01774479174165322,0.008303468695263438,0.025940893430826728,0.0015373606988260402,0.009973968649199083,0.003214780988667565,-0.010248748577532218,0.0008252862050235343,-0.030443454604400677,-0.0008686707883096556,0.013543402184114539,0.049594963695682504,-0.002520218168139854,0.015063524604213896,-0.030726936222525425,0.013488086858958637,0.008014027125986312,0.011388286334056419,0.003942199065877672,0.0012025367479107096,-0.0007548765022042936,-0.02031312429281784,-0.0008704980002536278,0.01997372510144646,-0.001520063492917556,-0.0038800420337886665,0.0011563742595146476,0.012100886880517692,-0.0060865531889333635],\"type\":\"box\"},{\"boxpoints\":false,\"line\":{\"width\":1.3},\"marker\":{\"color\":\"rgba(209, 211, 212, 1.0)\"},\"name\":\"AAPL\",\"orientation\":\"v\",\"y\":[null,null,null,null,null,null,null,null,null,null,null,null,null,null,null,null,null,null,null,null,null,null,null,null,null,null,null,null,null,null,null,null,null,null,null,null,null,null,null,null,null,null,null,null,null,null,null,null,null,null,null,null,null,null,null,null,null,null,null,null,null,null,null,null,null,null,null,null,null,null,null,null,null,null,null,null,null,null,null,null,null,null,null,null,null,null,null,null,null,null,null,null,null,null,null,null,null,null,null,null,null,null,null,null,null,null,null,null,null,null,null,null,null,null,null,null,null,null,null,null,null,null,null,null,null,null,null,null,null,null,null,null,null,null,null,null,null,null,null,null,null,null,null,null,null,null,null,null,null,null,null,null,null,null,null,null,null,null,null,null,null,null,null,null,null,null,null,null,null,null,null,null,null,null,null,null,null,null,null,null,null,null,null,null,null,null,null,null,null,null,null,null,null,null,null,null,null,null,null,null,null,null,null,null,null,null,null,null,null,null,null,null,null,null,null,null,null,null,null,null,null,null,null,null,null,null,null,null,null,null,null,null,null,0.01157755192222698,0.007513541848680694,0.004856052722858051,0.021056265101829563,0.03084854631507783,0.002951545461998828,-0.0011444453527343912,-0.0056469432850478896,0.012345679012345734,0.004959349593495865,-0.02087209772672116,0.012063124845079765,-0.00677606335211034,-0.005178365937859586,0.05007023052135828,-0.0005507907781887589,0.007006770587309141,-0.01579235399890544,0.01231233616649452,0.02848399246704325,-0.007019150072480218,0.007760276603918426,0.035834095760902906,-0.013396143088473589,-0.008504923903312367,-0.007674943566591486,-0.024719441916894125,0.012284248172912404,-0.033563748079877054,0.034014146070094675,0.00868495888094678,-0.02323986589454441,-0.001404165691551662,0.016170611670963453,-0.015067650676506839,-0.01373712144864192,0.005381449825894391,0.032903022670025095,0.036732205456485145,0.015951190826227757,0.02778380724983731,0.001689545934529857,-0.007730690842645216,-0.03491748707415543,-0.03750183472772628,0.01654593976362939,0.006300630063006407,-0.007751937984496027,0.025766225961538547,-0.0030757964115709635,0.0011018879012709704,-0.00660405048429713,-0.004579701580735729,-0.001929355891955975,0.001784386617100342,-0.016105091286923057,-0.017651052274270218,-0.00860016893188953,0.0012392533498566394,-0.029782625512493333,-0.0011162494020092728,-0.004070881226053702,-0.034864150036066355,0.0022421524663676085,0.05385698898003155,-0.02083497130277534,-0.024490123655050655,-0.015721458556259726,0.010620505101187394,-0.04162184526272239,0.04058021067173212,-0.009044142051111814,0.01641128694632843,-0.00766125710519816,0.02448945708118888,0.01280285228101441,-0.006480518441475236,-0.033902399742309575,-0.00441777110944408,0.028298727394507672,-0.0069206969548932795,-0.019922931868492144,0.00409904634431979,0.005082062817628907,0.0014920424403181975,-0.012166859791425289,0.018684541265186372,0.006991281460766663,0.0236053254921178,0.0024736674114267387,0.01329300326355165,0.019324430479183086,0.020191122071516743,-0.013219519564888982,0.024267013702824913,-0.017787742899850745,0.018642520164358745,-0.0024650780608053147,0.005017223303879215,-0.01281573653230017,0.002943618386293201,-0.01166465984346765,0.01796999923855913,0.002991996409604347,-0.0024610336341264194,-0.005980861244018976,-0.0007521058965102023,-0.015128706909528944,0.008253725640045895,-0.03547335708330179,0.0019646365422396617,0.012862745098039197,0.005343038562800162,-0.02580297311869373,-0.0074320050600885645,-0.024932292496415598,0.01789069520464004,0.019823434991974365,-0.009207523412292362,-0.011278792692613226,-0.0012853470437018677,0.02099420849420852,-0.01473252974080208,0.013353590276667271,-0.0015781582892764323,-0.00039516320240251535,-0.012413029728020275,-0.005363861980626106,-0.0026561493882807374,0.006294891453474394,-0.012110032881546107,0.018996590355577103,7.966857871255506e-05,0.006691627499402664,0.003086175516340939,-0.008046702429788666,0.009782090027040002,0.02457273371662594,-0.006380198324237196,0.0039455361287328294,0.01256068428758561,-0.010121765601217803,0.014146228953640483,0.01273595633386404,-0.0020959652668612883,-0.0021753806916209317,-0.002255299954894041,0.012507534659433439,0.011534454531924476,0.00463473846832918,0.002196836555360404,0.019655122022504745,0.014690075241848621,0.017937853107344637,-0.009157763285694398,0.013023386080381005,-0.004216201271772246,0.007912820156868339,0.024103023207768137,-0.004505413220361909,-0.01405025668738169,-0.02692518498218699,0.025980426670421775,-0.005146856986000592,0.00965717044905845,0.011956001912960312,0.0029030515798003087,-0.014877145742174358,-0.012231788984556458,0.004565894154271888,0.0015150471730596138,-0.0023378945197002343,0.012681783720449369,-0.0027904444293200825,0.0007507507507507061,-0.004773920752915384,-0.0003426300280957584,-0.0033589251439539725,0.00178829355526533,0.02073463783041518,0.0014125243828613243,0.013567974207415512,-0.006163021868787366,-0.025471761018870387,0.002326377009921332,0.01010307870844418,0.010272352503885918,-0.0006020469596629274,-0.008433734939759185,-0.005535304441744215,0.007195221286994347,0.030462326459091527,-0.008436886854153003,0.004485192269639171,0.007485718037953948,0.004236459623281119,0.015446521287642678,-0.010098427713153613,-0.006650309917355379,-0.03314917127071815,0.003899159663865559,-0.009576106609522572,0.006152805949966256,-0.0016127948390566305,-0.018307868344887956,-0.021391840932464934,0.003433055419323372,0.016897081413210335,0.006728920626201784,0.0006138316737143157,-0.010565060323086461,-0.02383576742904392,0.006492589978828622,-0.009325480297293631,0.008139287989242128,-0.024571749508565,0.014106808694400508,0.006316536550745155,0.009097961774455321,-0.0027257478333799767,-0.0006307379634171717,-0.009116409537166748,-0.004246284501061681,0.020255863539445862,0.007523510971786829,0.011823273179838223,0.015033483668170033,0.003366096674296548,0.0014761137949543812,-0.00529277770333636,-0.000336768370714724,0.004581592777253896,-0.003152246814218662,0.02502859449640038,-0.018181818181818077,-0.005615724027276392,0.007126529514589253,0.00981308411214954,-0.0035036689363390217,0.0035823271858830275,-0.005552617662612391,0.0024594522733316637,-0.01916318546515494,-0.0003380205516494428,0.01433691756272415,6.667111140745696e-05,0.006666666666666599,0.01649006622516569,0.02853606098117134,0.016975992905555293],\"type\":\"box\"},{\"boxpoints\":false,\"line\":{\"width\":1.3},\"marker\":{\"color\":\"rgba(164, 179, 193, 1.0)\"},\"name\":\"GME\",\"orientation\":\"v\",\"y\":[null,-0.030303030303030276,-0.007352941176470562,0.09259259259259256,0.03898305084745757,-0.00815660685154973,0.03782894736842102,-0.06814580031695716,-0.005102040816326592,-0.05641025641025643,0.03623188405797095,-0.029720279720279685,-0.021621621621621623,0.0,-0.13259668508287292,-0.02123142250530774,0.002169197396963085,0.02813852813852802,-0.03368421052631587,-0.0065359477124183885,0.013157894736842257,-0.06493506493506485,-0.0092592592592593,-0.016355140186915973,-0.019002375296912177,-0.048426150121065326,-0.022900763358778664,0.02864583333333348,0.030379746835442978,0.027027027027026973,-0.009569377990430672,-0.07971014492753614,0.034120734908136496,0.02030456852791862,0.042288557213930655,-0.019093078758949944,-0.021897810218978297,0.00995024875621886,0.022167487684729315,-0.002409638554217053,-0.02415458937198056,-0.08415841584158412,-0.037837837837837895,-0.047752808988763995,0.02359882005899716,0.03746397694524495,0.06388888888888888,-0.052219321148825104,0.038567493112947604,0.05039787798408479,-0.010101010101010055,-0.05612244897959173,0.14324324324324333,-0.021276595744680993,-0.03864734299516903,0.1532663316582914,-0.04793028322440085,-0.03203661327231111,-0.10874704491725773,0.1114058355437666,-0.10262529832935574,0.013297872340425565,0.09186351706036744,0.0024038461538460343,0.05755395683453246,-0.043083900226757454,-0.13507109004739337,-0.041095890410958846,-0.0714285714285714,-0.12307692307692308,-0.01754385964912286,0.10357142857142865,0.058252427184465994,0.042813455657492394,0.1407624633431086,0.21850899742930596,0.2552742616033754,-0.11428571428571443,-0.04554079696394675,-0.02982107355864816,0.14959016393442637,-0.14795008912655971,0.023012552301255207,-0.03885480572597122,0.014893617021276562,0.22012578616352219,-0.030927835051546504,0.07092198581560294,-0.05132450331125826,0.055846422338568846,-0.09421487603305778,-0.01642335766423375,-0.0853432282003711,-0.012170385395537497,0.022587268993840004,-0.04417670682730934,-0.04621848739495793,-0.07268722466960353,-0.019002375296912177,0.021791767554479424,0.08530805687203791,-0.03056768558951961,-0.0022522522522524513,0.0022573363431153126,-0.05855855855855874,0.05741626794258381,0.06108597285067874,-0.07675906183368875,-0.06235565819861444,0.017241379310344973,0.012106537530266248,0.06220095693779926,0.006756756756756577,-0.0738255033557047,0.21014492753623193,-0.009980039920159611,0.022177419354838745,-0.13806706114398426,0.08009153318077789,-0.0063559322033897026,-0.0106609808102347,0.02586206896551735,0.0399159663865547,-0.014141414141414232,-0.002049180327868827,-0.008213552361396315,-0.08695652173913038,0.011337868480725488,-0.024663677130044914,0.006896551724137945,-0.0091324200913242,0.023041474654378113,-0.03378378378378388,-0.011655011655011593,-0.03537735849056611,0.041564792176039145,-0.011737089201877882,0.030878859857482066,-0.018433179723502335,-0.04225352112676051,0.026960784313725616,-0.004773269689737569,-0.05035971223021585,-0.02777777777777779,0.04155844155844157,0.02493765586034935,0.0,-0.019464720194647178,-0.004962779156327701,-0.0174563591022443,0.030456852791878042,0.009852216748768461,-0.02195121951219514,0.034912718204488824,0.06746987951807215,0.04514672686230248,-0.043196544276457916,-0.06094808126410822,0.04086538461538458,0.004618937644341736,0.03908045977011487,0.026548672566371723,0.0237068965517242,-0.025263157894736876,0.0388768898488121,-0.018711018711018657,-0.02330508474576254,0.09110629067245113,-0.031809145129224725,0.022587268993840004,0.02610441767068261,0.02739726027397249,0.026666666666666616,0.23933209647495368,0.14520958083832336,0.007843137254901933,0.014267185473411104,-0.021739130434782594,0.006535947712418277,-0.045454545454545525,-0.15238095238095228,-0.022471910112359605,0.1346469622331692,0.026049204052098318,0.2242595204513398,0.05990783410138234,0.02934782608695663,-0.07602956705385433,0.20685714285714285,-0.04924242424242442,-0.08964143426294813,0.09628008752735218,0.00698602794411185,0.025768087215064295,-0.01449275362318847,-0.042156862745098,-0.03889457523029671,0.007454739084132189,-0.03488372093023251,0.025191675794085322,0.44123931623931645,-0.1089696071163826,-0.01830282861896826,0.006779661016949268,0.031144781144781142,0.12897959183673469,-0.037599421547360734,0.04507888805409466,-0.0035945363048167644,0.017316017316017396,0.057446808510638325,0.006036217303822866,-0.10333333333333339,-0.05650557620817842,-0.0685579196217494,-0.0076142131979695105,-0.10741687979539638,0.026743075453677045,0.07627906976744181,-0.057044079515989665,0.04949587534372135,0.03580786026200866,-0.0311973018549746,-0.03394255874673635,0.05855855855855863,-0.052765957446808454,-0.010781671159029727,0.0953678474114441,-0.03565505804311775,-0.005159071367153989,0.07692307692307687,0.02006420545746379,0.09362706530291098,-0.016546762589928043,0.07900512070226773,0.09016949152542364,0.029850746268656803,-0.045893719806763156,0.049367088607594756,-0.0277442702050662,0.048387096774193505,-0.032544378698224685,0.036085626911315005,-0.19362455726092098,0.03367496339677878,-0.05736543909348435,-0.04432757325319303,0.08883647798742134,0.0,0.07075812274368243,0.05394470667565754,-0.0063979526551504184,0.25305859626529315,0.05704008221993839,-0.020418084589207686,0.0416873449131514,-0.07670319199618869,-0.006191950464396134,-0.02180685358255463,-0.08439490445859876,0.006956521739130528,0.05699481865284972,-0.015250544662309462,-0.02157079646017679,0.12719050310910118,0.0005015045135405849,0.5739348370927317,0.27101910828025466,-0.11049862189927329,0.10873239436619708,-0.0060975609756097615,0.0999488752556239,0.5108064141296771,0.18120289186279037,0.9270738377392886,1.348357886200838,-0.4428937296768438,0.678719008264463,-0.3076923076923077,-0.6,0.02677777777777779,-0.4210583270208852,0.19196261682243,-0.059118707856358865,-0.16149999999999998,0.017690320015901317,-0.001953125,0.02544031311154593,-0.05515267175572525,-0.07210664512219755,-0.11427949499346979,-0.0024576062914719587,0.13328406011332827,-0.022391304347826102,1.0393595730486989,0.18558499618362245,-0.06428768509151117,0.18340868881462558,-0.01843853820598007,0.050770011846336116,0.06579159284908997,0.04072534945221018,0.41208073181356175,0.26940874035989726,0.07330903199675975,-0.018867924528301883,0.017307692307692246,-0.16771266540642726,-0.05437448896156993,0.007878176490368594,-0.038415709451408375,-0.007335811648079282,-0.02886103759924108,-0.06550465319553711,-0.33788170563961484,0.5269237161376101,-0.014965986394557818,0.0016574585635360517,0.07258687258687258,-0.023860948266995807,0.008587082499209808,-0.023504831548707195,-0.013105108317731928,-0.03539295392953934,-0.04332190818677306,-0.06989310466345577,-0.10905531699924231,-0.00070876745339854,0.18114759912050493,-0.0605896835405032,-0.011186397340833598,0.06257676643609811,-0.03552959785848997,-0.00012615908660829067,-0.04630622673648355,6.615069127491324e-05,0.11740971027913738,0.05232936719351211,0.0045564493446588195,-0.013383357598835355,-0.014756796639990855,-0.065614378708451,-0.00906288532675703,-0.007777017358302718,0.00959367945823919,0.0006210794360599348,-0.11104214511824229,0.025834380673090296,-0.014497685815409667,0.1361281856481802,-0.027841945288753833,0.12931465732866432,0.0003875968992248513,-0.06553384623899916,0.00983237576260132,0.036952313918704904,0.018213699869902067,0.16343536470196107,0.1581912810963091,0.0476995382585752,-0.12643135403140127,0.12171171171171169,0.13340293952292992,-0.08524659863945583,-0.03803547912309235,0.12743598002899015,0.07139030748901831,0.008533333333333282,-0.27158249603384454,0.05875947184536501,-0.01671380817690926,-0.030247559274755864,0.002112359550561882,0.0027806431358479156,-0.04369605080728123,-0.06290337667196699,0.09996506463043375,-0.004809437386569915,-0.032050697547187035,-0.013188262446422683,0.017851176554818382,-0.0111137162954279,0.015459028831563026,-0.045671056318296266,-0.0074867880211392235,-0.016121875462209778,-0.044598115854880716,0.0037763558166370448,-0.0007837809593479461,-0.010354023950217006,-0.04856010568031699,-0.06908808175052761,-0.004772700155112775,0.01330775686368546,0.026325130146710896,0.10196553115453333,-0.028088712208390043,-0.03745761799687852,0.008442829186469325,0.019849190507873038,-0.02935739915189739,-0.05276128598633356,-0.025189214758751133,-0.02268591532209152,-0.02153674280039719,-0.031081509673327012,-0.038952536824877204,0.045231607629427684,-0.010883733055265798,0.06167226724649133,-0.012908831378390051,-0.0016975793775543258,0.0224839400428265,0.0010471204188482464,0.00867585527935022,-0.002318062587689851,-0.03974319779883828,-0.026424705507800073,0.04185742315238716,0.03509102322661639,0.2753350718660925,-0.05059679490227775,0.027898822940145118,-0.0013156612415944346,0.020736765064649942,0.043212237093690264,-0.024147727272727293,0.002582523360097788,-0.05044023979018364,-0.018495684340320562,-0.0010050251256280562,0.0019114688128771817,-0.044030525153127886,0.06822120686938726,-0.020452310717797406,0.02650070267014648,0.009045570115392199,-0.0067839317730290505,-0.06230180026345322,-0.011706555671175845,0.0010002632271650658,0.005785210897233828,-0.03179251202677269,0.02333117303953336,-0.057420308211948434,-0.015005599104143341,-0.0025579809004092624,0.008206531030945374,-0.03137188400881796,0.004785247432306239,-0.0064467417818562245,0.006137838311802257,0.003253544039042433,0.03138753764188085,-0.012801796743402538,0.04686611307018551,-0.0012495925241768902,-0.0029918946853071393,0.014949803579223042,0.0041393398559292915,-0.012152684833235061,-0.015228701495772823,-0.06554399867921412,0.024558303886925703,0.02224521469218832,-0.024347728295096793,0.05382975044666005,0.0036095159967186596,0.09034929976568051,0.03448448198310761,0.05478525532634437,-0.0022443090734209914,-0.021070510466397407,0.025275498241500438,-0.0550676911818514,-0.03586640851887701,0.02575430493498665,-0.010865309318715766,0.03483424047501238,-0.009371712728315829,0.013611352447147285,0.0005714285714286671,0.08890158004949567],\"type\":\"box\"},{\"boxpoints\":false,\"line\":{\"width\":1.3},\"marker\":{\"color\":\"rgba(88, 89, 91, 1.0)\"},\"name\":\"BABA\",\"orientation\":\"v\",\"y\":[null,-0.0026532607177769396,0.009894520675814533,-0.004205564285054031,-0.011881004316146138,-0.0038044244046780973,0.03616218764733614,-0.012604086090003186,-0.0016589861751152846,0.004569793205317696,0.0017001332536874525,0.017339449541284413,0.009243394354766066,0.029710047804136996,-0.017311697327316855,-0.006313744536182608,-0.004976450724251347,0.015584531570956628,-0.02273226926966543,0.0004949158643030582,-0.014570310743355686,-0.024551636015150757,-0.03873684210526318,0.023166398987686687,0.008514484136422196,-0.016224884444863696,-0.009540703806692918,0.0315116898204173,0.0458939465039887,-0.011934673366834181,0.003087821269639468,-0.019782707107288355,-0.003509906248556738,0.006673772999026717,0.03268726117582066,-0.01760955820070431,-0.0033127609366492283,0.004052269726358082,0.007346272446943525,-0.01845682902673984,-0.02499541368556224,-0.03024601345312572,-0.0026678308110205107,0.015222994990516048,-0.01777330650570086,0.014485685021704109,0.01432692307692296,-0.016921035169210286,0.021937225784677716,-0.0023589356482355273,-0.03225196254610807,-0.03410867865519929,0.044166750986542436,-0.03624206599156932,-0.06942838469659651,0.04808211777417615,-0.0780927835051547,0.03332401453732192,-0.026026730155294664,0.004888888888888943,0.0023219814241486336,-0.027357970215113103,0.05336282182148122,0.015127860026918016,0.03585065761561301,-0.034456276878967795,0.014210721671350512,0.01678255868667322,-0.035582064993829654,0.007144380464917832,-0.009475913181577478,0.04991716102827204,0.007890048358361046,-0.010202020202020212,0.001989998979487817,0.0156337526098691,0.026774969915764224,0.016554351010840795,0.02156891002545991,-0.014859399981190569,0.012553699284009623,-0.022580493093857457,0.012636249638275254,-0.022480472470946866,-0.004287663223543126,-0.0032785280876884704,-0.012469929795277057,0.02759134973900057,-0.019496855345911945,-0.04041051956382291,-0.017122583299053806,0.020245880198796806,0.000769151881858221,0.0067633345288724556,0.02391979235584496,0.02092549331477711,-0.024780915287244465,-0.004243422694823029,0.00922490724957381,0.011823149528067622,0.05695208169677923,0.008918617614269708,-0.0018876611418047196,-0.021357073665759452,-0.0587292609351433,0.010115172759138868,-0.0026769779892920065,-0.00840043741922658,0.03960098250538868,-0.003953903274024784,0.03756595827080411,0.019969206364018,-0.002607383010841291,0.0069253348009541416,-0.0025051241175131356,0.007853881278538699,0.013410656034795299,-0.0377324749642346,0.011150343802267093,-0.0028027936041168378,0.02575680781458778,0.00732189381007986,-0.0031661092530658186,-0.012973069696698647,0.0034898477157361274,0.03315116751727576,-0.011060109289617537,-0.017947131111307635,-0.029033129276197278,-0.0031987390477956623,0.0031624965119523285,0.0011590171534539007,0.035424866867330485,0.07334525939177095,-0.014541666666666675,0.08950995729567457,0.015135051226327079,-0.002179065677804126,-0.03578406957587832,-0.012277983073071819,0.0025343953656771223,-0.026925083263111493,0.019134020618556624,0.03103504086752462,0.01212668262627048,-0.024040325707638588,0.0007151370679381319,-0.011434016198189623,0.00746987951807232,-0.007215179781551506,0.013651877133105783,0.0011487423252130036,-0.006805412677059475,0.027567524500039742,0.01651546871365439,0.010335621662852956,0.0029066475406740455,-0.051114122252333694,-0.01574771915906381,0.0011687421915931306,0.027252234119636176,-0.005760413809318576,0.0009853381680593465,0.011773044060322091,0.008717310087173136,0.005362654320987703,-0.01005410798572448,0.030352366554250443,0.038449962377727465,0.03615680023186729,0.02083916083916071,-0.026681737224277136,0.016996868071928795,-0.006816608996539908,0.038219001498101424,-0.0064765100671141385,-0.04583375553078661,-0.003929203539823067,-0.04040655318241593,0.011591733945633731,-0.02050155592165459,0.015174733694636622,0.009167556422812195,0.014082451659978013,0.0006475751906749316,-0.008700654346731729,-0.01200493254025825,0.005176021438273004,0.005368490249068936,-0.00850012713865389,-0.011797032423520704,0.005042079116152953,0.01814895422184515,0.003333212564762267,0.061567905246813215,-0.013368256343968987,-0.0064816410963627336,0.00034701738557085804,0.014292156658687993,0.01405656828208901,0.013625632377740393,-0.0026618752911427013,0.022019083205444545,0.007965006202258929,-0.02506639031025315,-0.005248471963858803,0.026213851599546034,-0.006573167160196514,0.014805594680467715,-0.005939123979213035,-0.005487547488391864,0.011884550084889867,-0.009841249354672232,0.033466940398214184,-0.029009270353786976,0.01500292264726899,-0.025179165600204723,0.02018444976861722,-0.08129584352078234,0.035507931505410095,-0.02691826451591084,0.04239791485664646,-0.03140523420570096,-0.08257322823804758,-0.0033390860658814026,-0.005044231131187571,-0.01312852332488379,-0.009699432602361502,-0.005845689288064726,-0.003777258566978192,0.015869913614509512,0.04174843202893541,-0.0023269557509049132,0.03646662470845197,-0.008001143020431312,-0.004464928705170679,-0.04745370370370372,0.002468104495747081,-0.010189007992121524,0.02139139752028174,0.0012738376231686832,-0.012160898035547207,0.007916666666666572,-0.008606110714419746,0.004056103108415421,-0.001245894212254961,-0.032169048159068736,-0.003593328906768556,0.02657677080475085,0.009698728473786833,-0.01675301592103773,0.001653846153846228,-0.017663095649502747,0.0013680960012507626,-0.13342181278788356,0.001621621621621605,0.06251124302932176,0.009015491407771137,-0.02374260665296357,-0.02096850427534047,0.05508009655475088,-0.05320299500831949,-0.003119370853653214,0.040943146760687554,-0.03734281722342181,-0.00778466816202672,0.042996453900709275,0.03263918402039945,0.00197547123220021,0.03364002300172508,0.05499701967017678,-0.0206787449621455,-0.0053076923076922355,0.010672028458742489,0.017369347310429273,-0.021322202166065063,0.001959654178674386,-0.02657616198803492,0.04278454083441674,-0.03849786542748124,0.03508840864440077,0.013400144250844459,-0.004832184596943234,-0.01159333007114105,0.014852050725465693,0.004878231828586488,0.0042570671048209885,-0.004015914922098629,0.010640283740899648,0.00048023642408567824,-0.023335671823653148,-0.0034781293712903283,-0.03638226032854042,-0.004921259842519676,-0.00953511374876359,-0.04058480466565473,-0.0100757765009577,0.016529273216689067,-0.03007985435888949,0.00789181810425732,-0.024421213019003685,0.01470715835141001,-0.03078370174013423,0.050509506374343704,-0.016124968505920823,0.027742210840802306,-0.037084717607973494,-0.006857290723250142,-0.014547507382317137,0.028246595866566748,0.013242478786320344,0.014211394493084617,-0.011134742900037464,0.0023195006747638303,-0.033996718138595505,-0.0299229060499151,0.020384339080459668,0.020241133503476227,-0.011256792892262668,-0.010992366412213794,-0.010452961672473782,0.004189695132822191,0.023391034176653225,-0.02233595003686517,0.012509981368112877,-0.02160007010164744,0.09269625184720787,-0.008688168517683725,-0.010996734052668544,-0.0005852108849223603,-0.0016730101635367145,-0.016381080062005116,-0.020870602265951166,-0.0019140421089264281,-0.00039225941422593724,0.011903204708960224,0.002671492588762314,0.013837559088955675,0.003390979993218135,-0.01072997634335926,-0.013792808950380153,-0.001039185970989287,-0.012179792813488799,-0.004914436156208901,-0.0015874415733310165,-0.004902393781467951,-0.025653544006036144,0.008427094246799882,-0.0066853374288553535,-0.0628467485220554,0.016644021739130377,0.007350484463748863,0.012651030561478205,-0.005521242747520194,0.020937235343935434,-0.02732844831559056,-0.0029375533023784373,0.0032788443261737577,0.00307867190830291,0.00453300594957029,0.005734699633355156,0.02579921480650582,0.0005011846181885993,-0.011612550662598475,0.009122742351640234,-0.009679481325906347,-0.004979253112033288,-0.011583727180057402,-0.0011719482467654752,-0.006711409395973145,0.010867510867510921,-0.018135925960549693,-0.0035228030086642548,0.010892413529524081,0.0033081285444234165,-0.005840791333019402,0.0012318771913200077,0.016751845542305688,0.016382760867541535,0.046341240040296716,0.0003938730853392247,0.003718447876110087,-0.011593444909344441,-0.021650939236264155,-0.018569432550592735,-0.028243398392652108,-0.017013232514177634,-0.039182692307692335,0.030472854640980707,-0.0022336602894047486,0.019612614366361747,0.009498353300558593,0.01541371158392435,-0.012385919165580184,-0.015040075436115075,0.008041740462400027,0.002326796144166421,0.014023119196513001,-0.03508689964492617,-0.07151503413547677,-0.029672507300792628,0.0534207556296018,0.007805724197744945,-0.011896324794978153,0.025103745068907335,-0.013543905242640819,0.01687101023406634,-0.007124707289123622,-0.01450220794861512,-0.00580477621060127,0.002458386683738656,-0.004444898584785029,-0.016422046597557305,-0.01586142126682666,-0.03133283851129254,-0.04914892452520392,-0.007943360386807097,-0.06846533217290385,-0.01613204609156027,0.019625221575082286,0.06606233701726061,-0.015142690739662124,-0.022826729745712537,-0.03491890583393853,0.0176835768483099,0.028960502803623278,0.037666926163243186,-0.007386888273314907,-0.009883720930232487,0.028537874339400915,-0.025405343685772963,-0.019858239118973775,0.004661726033946989,-0.016002379535990485,-0.03179977026781933,-0.014299094598813511,-0.010135563157228078,0.02425444771534635,-0.053483286472977176,-0.0086474354742887,0.011386336396324248,-0.004608598327737079,-0.040412725709372266,0.03515301902398682,0.014715674523904543,-0.03156375090229002,0.0031847133757960666,-0.026004728132387855,-0.031692094313453545,0.025137864355797346,0.006706720693027801,0.08258154059680778,0.03538461538461535,0.01504457652303115,-0.005794449527294798,0.026993865030674913,-0.0037037037037037646,0.007315025782467899,-0.007023809523809543,0.061023858050593516,0.0010169491525424679,0.0013545546901454486,0.0015781760793596167,-0.008610016882386051,-0.035079752511778306,-0.0044708512265428935,0.0033091059504815057,-0.028564697567583508,0.031708500060628086,-0.042721983898454385,0.02050337630448129,-0.008722329162656473,-0.03677407609685057,0.021609021609021672,-0.01214849531327089,0.023596978587926865,0.02366286515826066,-0.006196008340780379,-0.0016186079971225453,0.011348624954965914,-0.04066971442142131,-0.11127614803812358,-0.022701949860724158],\"type\":\"box\"},{\"boxpoints\":false,\"line\":{\"width\":1.3},\"marker\":{\"color\":\"rgba(64, 61, 62, 1.0)\"},\"name\":\"VIXY\",\"orientation\":\"v\",\"y\":[null,-0.010475423045930743,-0.002442996742671011,0.022040816326530654,0.03594249201277955,-0.041634541249036316,-0.0386162510056316,0.05020920502092063,-0.01195219123505975,-0.0040322580645162365,-0.019433198380566785,-0.03583815028901727,-0.005652620760534521,-0.02670111972437539,-0.005309734513274433,-0.004448398576512469,-0.0232350312779267,0.0027447392497714773,0.006386861313868453,0.006346328195829587,-0.002702702702702675,0.057813911472448076,0.10333048676344991,-0.056501547987616085,0.0008203445447088065,-0.015573770491803196,0.11323896752706064,-0.037397157816005944,-0.05439005439005429,-0.039441248972884146,-0.009409751924721932,0.012953367875647714,-0.011082693947144118,0.0017241379310344307,-0.04819277108433728,0.017179023508137492,-0.01333333333333342,0.017117117117117164,-0.012400354295836968,0.03228699551569503,0.06516072980017373,0.1835236541598695,0.09648518263266714,-0.023255813953488413,0.16216216216216206,0.04318936877076429,-0.04140127388535042,0.11351052048726462,-0.05420188960716066,0.15878023133543628,0.1039019963702359,0.27414714344430746,-0.097741935483871,0.12334644261708982,0.23997453851050277,-0.0888090349075975,0.3909859154929578,-0.024301336573511634,0.16853466168534648,-0.0941385435168739,-0.019215686274509758,-0.1567373050779689,-0.08771929824561409,0.08108108108108114,-0.08774038461538458,0.08853754940711456,-0.031953522149600566,-0.05151287821955497,0.08594779857632484,-0.05438213158533611,-0.043645699614890954,-0.07114093959731538,0.02919075144508665,-0.020780679584386452,-0.02150845999426443,-0.021101992966002348,-0.08023952095808384,0.08300781250000022,0.005710850616170715,-0.041243275552899084,0.09850374064837908,0.08115777525539158,-0.04829396325459323,-0.0005515719801433283,-0.05491169977924948,-0.07883211678832114,0.01711568938193353,-0.06263633530694934,0.03291223404255317,0.08690054715159334,-0.020432336393248596,-0.03839177750906886,0.011317195850361506,-0.0404103201740752,-0.06899902818270176,-0.06854558107167708,0.10085917071348516,0.10247709535120464,-0.048938134810711076,-0.027184466019417486,-0.06387225548902187,0.05046197583511014,-0.06055480378890388,0.021966150522146233,-0.007751937984496138,-0.01278409090909094,-0.02302158273381294,0.038659793814433074,-0.032258064516129004,0.004761904761904745,-0.026977761574917936,-0.04383664293742984,-0.00940438871473348,-0.05379746835443033,0.022157190635451407,0.0503067484662576,-0.006230529595015577,0.33581504702194365,-0.06922851276034037,-0.0242672549637567,-0.02034883720930236,-0.001978239366963397,-0.01684836471754203,0.016129032258064502,-0.049272486772486745,-0.019478260869565167,0.06917346576800276,-0.03915063039150635,0.0625,-0.04842378940526482,-0.051912568306010876,-0.02809798270893371,-0.017049666419570064,-0.0007541478129713397,0.02943396226415107,-0.022727272727272818,0.01650412603150797,-0.025461254612546225,0.09541840212040897,-0.05945385413066018,-0.026460859977949336,-0.01812004530011313,-0.0357554786620532,-0.046251993620414544,0.008779264214046734,-0.01077496891835883,0.03058232090490165,0.00406504065040636,-0.02793522267206472,-0.005830903790087438,-0.02052785923753675,0.023524379811804996,-0.020476389469285317,-0.005972696245733822,-0.030042918454935563,-0.019911504424778848,-0.011286681715575675,-0.006849315068493067,-0.029885057471264354,0.04691943127962084,-0.0543232231779085,0.0,0.0009573958831976537,-0.038259206121473044,-0.009448035803082955,0.019578313253011848,-0.010832102412604572,0.004479840716774541,-0.0034687809712586892,-0.00696171059174544,0.023034551827741723,0.03181595692608896,-0.005218216318785607,0.047687172150691515,0.01820664542558048,0.02682163611980326,0.13234653896386606,-0.0834294502114572,-0.028523489932885893,-0.050518134715025975,0.011368804001818944,-0.0611510791366906,-0.015804597701149392,-0.00048661800486626827,-0.0058422590068158975,-0.022037218413320403,0.0005007511266901243,0.033033033033033066,0.006782945736434121,0.05341674687199216,-0.01781635449977159,-0.026976744186046453,-0.0033460803059273125,-0.019664268585131928,-0.0014677103718200302,0.00489955903968653,0.028278888347147646,-0.029397818871503167,0.012701514411333825,-0.03135552339604453,-0.03934262948207168,-0.0528771384136858,-0.018609742747673796,0.010596765197992353,-0.008278145695364336,0.007790762381747474,0.00662617338487026,0.044432254525507364,-0.0005252100840335006,-0.024172359432475088,-0.022617124394184285,0.0011019283746558362,0.08750687947165647,0.0045546558704452345,0.14408060453400506,-0.08410391897842362,0.044711538461538414,-0.021629084215370353,-0.05268109125117593,-0.08788480635551144,-0.01905280348394134,-0.06492785793562694,-0.02255192878338297,-0.032179720704310855,-0.020075282308657516,0.06722151088348283,-0.06178764247150581,-0.025575447570332477,-0.015748031496062964,0.03733333333333344,-0.018637532133676138,-0.0032743942370661028,-0.012483574244415374,-0.015302727877578137,-0.03648648648648656,0.006311360448807868,-0.019512195121951126,0.00781805259417201,-0.004231311706629048,0.007790368271954673,-0.014757554462403455,0.005706134094151327,-0.034751773049645385,0.03600293901542995,0.008510638297872353,0.03797468354430378,0.02371273712737132,-0.04698874917273321,-0.03472222222222221,-0.010791366906474864,0.02400000000000002,0.07244318181818188,-0.019205298013244998,-0.03848750844024307,-0.0273876404494382,-0.0072202166064981865,0.039272727272727126,-0.03778866340097964,-0.0007272727272726875,0.09534206695778757,-0.0378737541528239,-0.006215469613259694,-0.06115357887421824,-0.00962250185048108,0.061285500747384036,-0.0341549295774648,-0.015676266861101018,0.012592592592592489,0.024871982443306573,-0.027837259100642386,-0.0205580029368575,-0.008245877061469176,0.014361300075585781,0.04023845007451565,-0.016475644699140424,0.20757465404224318,-0.020506634499396825,0.06527093596059119,-0.05838150289017352,-0.08348680171884593,-0.05358338914936367,-0.04387827317763626,-0.002590673575129543,-0.007792207792207795,0.005235602094240788,0.014136904761904878,-0.022743947175348556,-0.03228228228228225,0.0015515903801395226,-0.013942680092951187,0.008641005498821741,-0.0389408099688473,0.04213938411669371,-0.041213063763608004,-0.03811841038118413,0.15514333895446875,-0.04744525547445244,-0.07662835249042144,0.016597510373443924,0.04408163265306109,0.041438623924941353,-0.06906906906906907,0.024193548387096753,-0.04803149606299206,-0.011579818031430933,-0.025941422594142116,-0.01718213058419249,-0.05681818181818188,0.0,-0.04541241890639469,0.05728155339805818,-0.032139577594123225,-0.07495256166982911,0.05128205128205132,0.005853658536585371,-0.03103782735208538,-0.03903903903903905,0.028124999999999956,-0.04660587639311031,-0.006376195536663132,-0.031016042780748543,-0.02980132450331141,0.009101251422070522,-0.030439684329199523,-0.015116279069767313,-0.0023612750885479983,-0.015384615384615219,-0.008413461538461564,0.023030303030302957,-0.033175355450236865,-0.015931372549019662,0.03486924034869254,0.022864019253910906,-0.051764705882352935,0.06947890818858538,-0.04524361948955902,-0.007290400972053468,-0.022031823745410017,-0.003754693366708417,-0.006281407035175879,0.04045512010113783,-0.0376670716889429,0.03787878787878807,-0.02311435523114369,-0.0062266500622664145,-0.06015037593984962,0.04400000000000004,0.07790549169859506,0.17180094786729883,-0.09403437815975735,-0.11718750000000011,0.020227560050569027,0.027261462205699916,0.043425814234017146,-0.05317919075144517,-0.013431013431013383,-0.04579207920792083,0.0,-0.047016861219195794,-0.048656005444028594,0.014306151645207432,0.025035260930888592,-0.02442380460956317,0.01833568406205921,-0.052977839335179966,-0.017915904936014693,0.012285927029039634,0.015079073188672298,-0.06050724637681171,-0.026995757809487042,0.007530717399920839,0.02261998426435885,0.009809578765147098,-0.0060952380952381535,0.08700651590647746,-0.06558533145275036,-0.04641509433962265,-0.019786307874950504,-0.02180056519983853,-0.014857614527445273,0.0016757436112273538,0.017565872020075313,-0.01027538018906704,-0.013704318936876958,-0.00505263157894742,0.024121878967414245,0.002479338842975354,0.06677658697444344,-0.06993817619783615,-0.00540091400083087,0.012949039264828599,-0.02350515463917524,0.014780405405405483,0.038285476487723624,0.14468937875751497,-0.07983193277310918,-0.06811263318112648,0.01796651694569218,-0.006417970316887289,-0.013322567622123471,0.03314238952536819,-0.02534653465346537,-0.020316944331572495,0.02737453338863549,0.036737989503431656,-0.049844236760124616,-0.0008196721311475308,-0.02625102543068092,-0.025273799494523908,-0.011668107173725129,-0.013992129427197186,-0.02749445676274953,-0.02188782489740082,0.0,0.004662004662004726,0.03248259860788849,0.06831460674157297,0.032393773664282755,-0.0749796251018745,-0.03480176211453745,-0.0022820629849383822,-0.02287282708142724,0.0435393258426966,-0.05159264244055628,-0.010406811731314969,-0.0033460803059273125,-0.025899280575539696,-0.001969473165928104,0.009373458312777583,0.021994134897360684,-0.0014347202295552641,0.022030651340996243,0.03327085285848175,-0.0321995464852608,0.015932521087160145,-0.040590405904059046,-0.010096153846153921,0.0655658086449733,0.10893345487693695,-0.037402383888203716,-0.05636208368915463,-0.061990950226244346,-0.030390738060781408,0.008955223880596996,0.10650887573964507,0.013368983957219083,0.0026385224274407815,-0.03815789473684217,0.028727770177838563,-0.03679078014184389,-0.011504832029452405,-0.0377094972067038,-0.018867924528301883,0.011341222879684532,-0.019015114578254555,-0.018886679920477212,-0.054204660587639175,-0.0005356186395287788,-0.020364415862808127,-0.009299781181619338,-0.008282716731087714,-0.03285077951002224,0.02014968336211842,-0.02934537246049662,0.01918604651162803,0.0233884768967485,-0.031215161649944423,0.006329113924050667,-0.013722126929674006,-0.02608695652173909,-0.03630952380952379,0.014823965410747375,0.03408399269628726,0.002354326074161417,0.01644157369348198,0.017331022530329365,-0.01930721181147077,-0.03416328894035903,-0.013788968824940073,0.002431610942249085,0.0181928441479684,0.007147111375819026,0.013601419278533422],\"type\":\"box\"}],                        {\"font\":{\"family\":\"Roboto\"},\"legend\":{\"bgcolor\":\"#FFFFFF\",\"font\":{\"color\":\"#4D5663\"},\"orientation\":\"h\",\"x\":0.3,\"y\":0.95,\"yanchor\":\"bottom\"},\"paper_bgcolor\":\"#FFFFFF\",\"plot_bgcolor\":\"#FFFFFF\",\"showlegend\":false,\"title\":{\"text\":\"Daily Returns - 2019-12-23 : 2021-11-19\",\"x\":0.5,\"xanchor\":\"center\",\"y\":0.933,\"yanchor\":\"top\",\"font\":{\"color\":\"#4D5663\"}},\"xaxis\":{\"gridcolor\":\"#E1E5ED\",\"rangeslider\":{\"visible\":false},\"showgrid\":true,\"tickfont\":{\"color\":\"#4D5663\"},\"tickformat\":\".2%\",\"title\":{\"text\":\"Returns Distribution\",\"font\":{\"color\":\"#4D5663\"}},\"zerolinecolor\":\"#E1E5ED\"},\"yaxis\":{\"gridcolor\":\"#E1E5ED\",\"showgrid\":true,\"tickfont\":{\"color\":\"#4D5663\"},\"tickformat\":\".2%\",\"title\":{\"text\":\"Returns (%)\",\"font\":{\"color\":\"#4D5663\"}},\"zerolinecolor\":\"#E1E5ED\"},\"template\":{\"data\":{\"bar\":[{\"error_x\":{\"color\":\"#2a3f5f\"},\"error_y\":{\"color\":\"#2a3f5f\"},\"marker\":{\"line\":{\"color\":\"#E5ECF6\",\"width\":0.5},\"pattern\":{\"fillmode\":\"overlay\",\"size\":10,\"solidity\":0.2}},\"type\":\"bar\"}],\"barpolar\":[{\"marker\":{\"line\":{\"color\":\"#E5ECF6\",\"width\":0.5},\"pattern\":{\"fillmode\":\"overlay\",\"size\":10,\"solidity\":0.2}},\"type\":\"barpolar\"}],\"carpet\":[{\"aaxis\":{\"endlinecolor\":\"#2a3f5f\",\"gridcolor\":\"white\",\"linecolor\":\"white\",\"minorgridcolor\":\"white\",\"startlinecolor\":\"#2a3f5f\"},\"baxis\":{\"endlinecolor\":\"#2a3f5f\",\"gridcolor\":\"white\",\"linecolor\":\"white\",\"minorgridcolor\":\"white\",\"startlinecolor\":\"#2a3f5f\"},\"type\":\"carpet\"}],\"choropleth\":[{\"colorbar\":{\"outlinewidth\":0,\"ticks\":\"\"},\"type\":\"choropleth\"}],\"contour\":[{\"colorbar\":{\"outlinewidth\":0,\"ticks\":\"\"},\"colorscale\":[[0.0,\"#0d0887\"],[0.1111111111111111,\"#46039f\"],[0.2222222222222222,\"#7201a8\"],[0.3333333333333333,\"#9c179e\"],[0.4444444444444444,\"#bd3786\"],[0.5555555555555556,\"#d8576b\"],[0.6666666666666666,\"#ed7953\"],[0.7777777777777778,\"#fb9f3a\"],[0.8888888888888888,\"#fdca26\"],[1.0,\"#f0f921\"]],\"type\":\"contour\"}],\"contourcarpet\":[{\"colorbar\":{\"outlinewidth\":0,\"ticks\":\"\"},\"type\":\"contourcarpet\"}],\"heatmap\":[{\"colorbar\":{\"outlinewidth\":0,\"ticks\":\"\"},\"colorscale\":[[0.0,\"#0d0887\"],[0.1111111111111111,\"#46039f\"],[0.2222222222222222,\"#7201a8\"],[0.3333333333333333,\"#9c179e\"],[0.4444444444444444,\"#bd3786\"],[0.5555555555555556,\"#d8576b\"],[0.6666666666666666,\"#ed7953\"],[0.7777777777777778,\"#fb9f3a\"],[0.8888888888888888,\"#fdca26\"],[1.0,\"#f0f921\"]],\"type\":\"heatmap\"}],\"heatmapgl\":[{\"colorbar\":{\"outlinewidth\":0,\"ticks\":\"\"},\"colorscale\":[[0.0,\"#0d0887\"],[0.1111111111111111,\"#46039f\"],[0.2222222222222222,\"#7201a8\"],[0.3333333333333333,\"#9c179e\"],[0.4444444444444444,\"#bd3786\"],[0.5555555555555556,\"#d8576b\"],[0.6666666666666666,\"#ed7953\"],[0.7777777777777778,\"#fb9f3a\"],[0.8888888888888888,\"#fdca26\"],[1.0,\"#f0f921\"]],\"type\":\"heatmapgl\"}],\"histogram\":[{\"marker\":{\"pattern\":{\"fillmode\":\"overlay\",\"size\":10,\"solidity\":0.2}},\"type\":\"histogram\"}],\"histogram2d\":[{\"colorbar\":{\"outlinewidth\":0,\"ticks\":\"\"},\"colorscale\":[[0.0,\"#0d0887\"],[0.1111111111111111,\"#46039f\"],[0.2222222222222222,\"#7201a8\"],[0.3333333333333333,\"#9c179e\"],[0.4444444444444444,\"#bd3786\"],[0.5555555555555556,\"#d8576b\"],[0.6666666666666666,\"#ed7953\"],[0.7777777777777778,\"#fb9f3a\"],[0.8888888888888888,\"#fdca26\"],[1.0,\"#f0f921\"]],\"type\":\"histogram2d\"}],\"histogram2dcontour\":[{\"colorbar\":{\"outlinewidth\":0,\"ticks\":\"\"},\"colorscale\":[[0.0,\"#0d0887\"],[0.1111111111111111,\"#46039f\"],[0.2222222222222222,\"#7201a8\"],[0.3333333333333333,\"#9c179e\"],[0.4444444444444444,\"#bd3786\"],[0.5555555555555556,\"#d8576b\"],[0.6666666666666666,\"#ed7953\"],[0.7777777777777778,\"#fb9f3a\"],[0.8888888888888888,\"#fdca26\"],[1.0,\"#f0f921\"]],\"type\":\"histogram2dcontour\"}],\"mesh3d\":[{\"colorbar\":{\"outlinewidth\":0,\"ticks\":\"\"},\"type\":\"mesh3d\"}],\"parcoords\":[{\"line\":{\"colorbar\":{\"outlinewidth\":0,\"ticks\":\"\"}},\"type\":\"parcoords\"}],\"pie\":[{\"automargin\":true,\"type\":\"pie\"}],\"scatter\":[{\"marker\":{\"colorbar\":{\"outlinewidth\":0,\"ticks\":\"\"}},\"type\":\"scatter\"}],\"scatter3d\":[{\"line\":{\"colorbar\":{\"outlinewidth\":0,\"ticks\":\"\"}},\"marker\":{\"colorbar\":{\"outlinewidth\":0,\"ticks\":\"\"}},\"type\":\"scatter3d\"}],\"scattercarpet\":[{\"marker\":{\"colorbar\":{\"outlinewidth\":0,\"ticks\":\"\"}},\"type\":\"scattercarpet\"}],\"scattergeo\":[{\"marker\":{\"colorbar\":{\"outlinewidth\":0,\"ticks\":\"\"}},\"type\":\"scattergeo\"}],\"scattergl\":[{\"marker\":{\"colorbar\":{\"outlinewidth\":0,\"ticks\":\"\"}},\"type\":\"scattergl\"}],\"scattermapbox\":[{\"marker\":{\"colorbar\":{\"outlinewidth\":0,\"ticks\":\"\"}},\"type\":\"scattermapbox\"}],\"scatterpolar\":[{\"marker\":{\"colorbar\":{\"outlinewidth\":0,\"ticks\":\"\"}},\"type\":\"scatterpolar\"}],\"scatterpolargl\":[{\"marker\":{\"colorbar\":{\"outlinewidth\":0,\"ticks\":\"\"}},\"type\":\"scatterpolargl\"}],\"scatterternary\":[{\"marker\":{\"colorbar\":{\"outlinewidth\":0,\"ticks\":\"\"}},\"type\":\"scatterternary\"}],\"surface\":[{\"colorbar\":{\"outlinewidth\":0,\"ticks\":\"\"},\"colorscale\":[[0.0,\"#0d0887\"],[0.1111111111111111,\"#46039f\"],[0.2222222222222222,\"#7201a8\"],[0.3333333333333333,\"#9c179e\"],[0.4444444444444444,\"#bd3786\"],[0.5555555555555556,\"#d8576b\"],[0.6666666666666666,\"#ed7953\"],[0.7777777777777778,\"#fb9f3a\"],[0.8888888888888888,\"#fdca26\"],[1.0,\"#f0f921\"]],\"type\":\"surface\"}],\"table\":[{\"cells\":{\"fill\":{\"color\":\"#EBF0F8\"},\"line\":{\"color\":\"white\"}},\"header\":{\"fill\":{\"color\":\"#C8D4E3\"},\"line\":{\"color\":\"white\"}},\"type\":\"table\"}]},\"layout\":{\"annotationdefaults\":{\"arrowcolor\":\"#2a3f5f\",\"arrowhead\":0,\"arrowwidth\":1},\"autotypenumbers\":\"strict\",\"coloraxis\":{\"colorbar\":{\"outlinewidth\":0,\"ticks\":\"\"}},\"colorscale\":{\"diverging\":[[0,\"#8e0152\"],[0.1,\"#c51b7d\"],[0.2,\"#de77ae\"],[0.3,\"#f1b6da\"],[0.4,\"#fde0ef\"],[0.5,\"#f7f7f7\"],[0.6,\"#e6f5d0\"],[0.7,\"#b8e186\"],[0.8,\"#7fbc41\"],[0.9,\"#4d9221\"],[1,\"#276419\"]],\"sequential\":[[0.0,\"#0d0887\"],[0.1111111111111111,\"#46039f\"],[0.2222222222222222,\"#7201a8\"],[0.3333333333333333,\"#9c179e\"],[0.4444444444444444,\"#bd3786\"],[0.5555555555555556,\"#d8576b\"],[0.6666666666666666,\"#ed7953\"],[0.7777777777777778,\"#fb9f3a\"],[0.8888888888888888,\"#fdca26\"],[1.0,\"#f0f921\"]],\"sequentialminus\":[[0.0,\"#0d0887\"],[0.1111111111111111,\"#46039f\"],[0.2222222222222222,\"#7201a8\"],[0.3333333333333333,\"#9c179e\"],[0.4444444444444444,\"#bd3786\"],[0.5555555555555556,\"#d8576b\"],[0.6666666666666666,\"#ed7953\"],[0.7777777777777778,\"#fb9f3a\"],[0.8888888888888888,\"#fdca26\"],[1.0,\"#f0f921\"]]},\"colorway\":[\"#636efa\",\"#EF553B\",\"#00cc96\",\"#ab63fa\",\"#FFA15A\",\"#19d3f3\",\"#FF6692\",\"#B6E880\",\"#FF97FF\",\"#FECB52\"],\"font\":{\"color\":\"#2a3f5f\"},\"geo\":{\"bgcolor\":\"white\",\"lakecolor\":\"white\",\"landcolor\":\"#E5ECF6\",\"showlakes\":true,\"showland\":true,\"subunitcolor\":\"white\"},\"hoverlabel\":{\"align\":\"left\"},\"hovermode\":\"closest\",\"mapbox\":{\"style\":\"light\"},\"paper_bgcolor\":\"white\",\"plot_bgcolor\":\"#E5ECF6\",\"polar\":{\"angularaxis\":{\"gridcolor\":\"white\",\"linecolor\":\"white\",\"ticks\":\"\"},\"bgcolor\":\"#E5ECF6\",\"radialaxis\":{\"gridcolor\":\"white\",\"linecolor\":\"white\",\"ticks\":\"\"}},\"scene\":{\"xaxis\":{\"backgroundcolor\":\"#E5ECF6\",\"gridcolor\":\"white\",\"gridwidth\":2,\"linecolor\":\"white\",\"showbackground\":true,\"ticks\":\"\",\"zerolinecolor\":\"white\"},\"yaxis\":{\"backgroundcolor\":\"#E5ECF6\",\"gridcolor\":\"white\",\"gridwidth\":2,\"linecolor\":\"white\",\"showbackground\":true,\"ticks\":\"\",\"zerolinecolor\":\"white\"},\"zaxis\":{\"backgroundcolor\":\"#E5ECF6\",\"gridcolor\":\"white\",\"gridwidth\":2,\"linecolor\":\"white\",\"showbackground\":true,\"ticks\":\"\",\"zerolinecolor\":\"white\"}},\"shapedefaults\":{\"line\":{\"color\":\"#2a3f5f\"}},\"ternary\":{\"aaxis\":{\"gridcolor\":\"white\",\"linecolor\":\"white\",\"ticks\":\"\"},\"baxis\":{\"gridcolor\":\"white\",\"linecolor\":\"white\",\"ticks\":\"\"},\"bgcolor\":\"#E5ECF6\",\"caxis\":{\"gridcolor\":\"white\",\"linecolor\":\"white\",\"ticks\":\"\"}},\"title\":{\"x\":0.05},\"xaxis\":{\"automargin\":true,\"gridcolor\":\"white\",\"linecolor\":\"white\",\"ticks\":\"\",\"title\":{\"standoff\":15},\"zerolinecolor\":\"white\",\"zerolinewidth\":2},\"yaxis\":{\"automargin\":true,\"gridcolor\":\"white\",\"linecolor\":\"white\",\"ticks\":\"\",\"title\":{\"standoff\":15},\"zerolinecolor\":\"white\",\"zerolinewidth\":2}}}},                        {\"responsive\": true}                    ).then(function(){\n",
       "                            \n",
       "var gd = document.getElementById('662341fd-51d3-419e-8c24-ee0122ad97ba');\n",
       "var x = new MutationObserver(function (mutations, observer) {{\n",
       "        var display = window.getComputedStyle(gd).display;\n",
       "        if (!display || display === 'none') {{\n",
       "            console.log([gd, 'removed!']);\n",
       "            Plotly.purge(gd);\n",
       "            observer.disconnect();\n",
       "        }}\n",
       "}});\n",
       "\n",
       "// Listen for the removal of the full notebook cells\n",
       "var notebookContainer = gd.closest('#notebook-container');\n",
       "if (notebookContainer) {{\n",
       "    x.observe(notebookContainer, {childList: true});\n",
       "}}\n",
       "\n",
       "// Listen for the clearing of the current output cell\n",
       "var outputEl = gd.closest('.output');\n",
       "if (outputEl) {{\n",
       "    x.observe(outputEl, {childList: true});\n",
       "}}\n",
       "\n",
       "                        })                };                });            </script>        </div>"
      ]
     },
     "metadata": {},
     "output_type": "display_data"
    }
   ],
   "source": [
    "df = df.pct_change()\n",
    "chart_interval, interval = calc_interval(df)\n",
    "if interval in ['hourly', 'minutes', 'seconds']:\n",
    "    title_time = True\n",
    "else:\n",
    "    title_time = False\n",
    "if len(df.columns) < 4:\n",
    "    ticker = ext_str_lst(df.columns)\n",
    "    chart_ticker = True\n",
    "else:\n",
    "    ticker = ''\n",
    "    chart_ticker = False\n",
    "\n",
    "\n",
    "pwe_box(df, title=f'{chart_interval} Returns', ticker=ticker, yTitle='Returns (%)', xTitle='Returns Distribution', asPlot=True, theme='white',\n",
    "        showlegend=False, decimals=2, orientation='v', textangle=0, file_tag=None, chart_ticker=chart_ticker,\n",
    "        interval='Daily', yaxis_tickformat='.2%', xaxis_tickformat='.2%', linecolor=None, title_dates='Yes', title_time=title_time)\n"
   ]
  },
  {
   "cell_type": "code",
   "execution_count": null,
   "metadata": {},
   "outputs": [],
   "source": [
    "import cufflinks as cf"
   ]
  },
  {
   "cell_type": "code",
   "execution_count": null,
   "metadata": {},
   "outputs": [],
   "source": [
    "df.corr().iplot(kind='heatmap',colorscale=\"Blues\",title=\"Feature Correlation Matrix\")"
   ]
  },
  {
   "cell_type": "code",
   "execution_count": 6,
   "metadata": {},
   "outputs": [],
   "source": [
    "from fidash.d_charts import pwe_heatmap"
   ]
  },
  {
   "cell_type": "code",
   "execution_count": 10,
   "metadata": {},
   "outputs": [],
   "source": [
    "df_corr = df.pct_change().corr()\n",
    "chart_interval, interval = calc_interval(df)\n",
    "if interval in ['hourly', 'minutes', 'seconds']:\n",
    "    title_time = True\n",
    "else:\n",
    "    title_time = False\n",
    "if len(df.columns) < 4:\n",
    "    ticker = ext_str_lst(df.columns)\n",
    "    chart_ticker = True\n",
    "else:\n",
    "    ticker = ''\n",
    "    chart_ticker = False"
   ]
  },
  {
   "cell_type": "code",
   "execution_count": 11,
   "metadata": {},
   "outputs": [
    {
     "name": "stdout",
     "output_type": "stream",
     "text": [
      "Checking if charts directory exists...\n",
      "charts folder already exists.\n"
     ]
    },
    {
     "data": {
      "application/vnd.plotly.v1+json": {
       "config": {
        "plotlyServerURL": "https://plot.ly"
       },
       "data": [
        {
         "colorscale": [
          [
           0,
           "rgb(100, 100, 111)"
          ],
          [
           0.5,
           "rgb(255, 255, 255)"
          ],
          [
           1,
           "rgb(220, 187, 166)"
          ]
         ],
         "type": "heatmap",
         "x": [
          "FB",
          "AMZN",
          "GOOGL",
          "AAPL",
          "GME",
          "BABA",
          "VIXY"
         ],
         "y": [
          "FB",
          "AMZN",
          "GOOGL",
          "AAPL",
          "GME",
          "BABA",
          "VIXY"
         ],
         "z": [
          [
           1,
           0.49643502171948684,
           0.587850985964609,
           0.5042132458124614,
           -0.07089846557500584,
           0.19245338351214772,
           -0.4455303277105733
          ],
          [
           0.49643502171948684,
           1,
           0.5606175444212468,
           0.5859691811931598,
           -0.08741380829639593,
           0.17542417087173168,
           -0.39560206737546566
          ],
          [
           0.587850985964609,
           0.5606175444212468,
           1,
           0.5302283382572173,
           0.022671748101939598,
           0.38776220278593077,
           -0.6638011575755967
          ],
          [
           0.5042132458124614,
           0.5859691811931598,
           0.5302283382572173,
           1,
           -0.0008899751600423185,
           0.11260983257220131,
           -0.522681694236223
          ],
          [
           -0.07089846557500584,
           -0.08741380829639593,
           0.022671748101939598,
           -0.0008899751600423185,
           1,
           0.05788671292967108,
           -0.004007178825771632
          ],
          [
           0.19245338351214772,
           0.17542417087173168,
           0.38776220278593077,
           0.11260983257220131,
           0.05788671292967108,
           1,
           -0.3358938652952281
          ],
          [
           -0.4455303277105733,
           -0.39560206737546566,
           -0.6638011575755967,
           -0.522681694236223,
           -0.004007178825771632,
           -0.3358938652952281,
           1
          ]
         ],
         "zmax": 1,
         "zmin": -0.6638011575755967
        }
       ],
       "layout": {
        "font": {
         "family": "Roboto"
        },
        "legend": {
         "bgcolor": "#FFFFFF",
         "font": {
          "color": "#4D5663"
         },
         "orientation": "h",
         "x": 0.3,
         "y": 0.95,
         "yanchor": "bottom"
        },
        "paper_bgcolor": "#FFFFFF",
        "plot_bgcolor": "#FFFFFF",
        "showlegend": false,
        "template": {
         "data": {
          "bar": [
           {
            "error_x": {
             "color": "#2a3f5f"
            },
            "error_y": {
             "color": "#2a3f5f"
            },
            "marker": {
             "line": {
              "color": "#E5ECF6",
              "width": 0.5
             },
             "pattern": {
              "fillmode": "overlay",
              "size": 10,
              "solidity": 0.2
             }
            },
            "type": "bar"
           }
          ],
          "barpolar": [
           {
            "marker": {
             "line": {
              "color": "#E5ECF6",
              "width": 0.5
             },
             "pattern": {
              "fillmode": "overlay",
              "size": 10,
              "solidity": 0.2
             }
            },
            "type": "barpolar"
           }
          ],
          "carpet": [
           {
            "aaxis": {
             "endlinecolor": "#2a3f5f",
             "gridcolor": "white",
             "linecolor": "white",
             "minorgridcolor": "white",
             "startlinecolor": "#2a3f5f"
            },
            "baxis": {
             "endlinecolor": "#2a3f5f",
             "gridcolor": "white",
             "linecolor": "white",
             "minorgridcolor": "white",
             "startlinecolor": "#2a3f5f"
            },
            "type": "carpet"
           }
          ],
          "choropleth": [
           {
            "colorbar": {
             "outlinewidth": 0,
             "ticks": ""
            },
            "type": "choropleth"
           }
          ],
          "contour": [
           {
            "colorbar": {
             "outlinewidth": 0,
             "ticks": ""
            },
            "colorscale": [
             [
              0,
              "#0d0887"
             ],
             [
              0.1111111111111111,
              "#46039f"
             ],
             [
              0.2222222222222222,
              "#7201a8"
             ],
             [
              0.3333333333333333,
              "#9c179e"
             ],
             [
              0.4444444444444444,
              "#bd3786"
             ],
             [
              0.5555555555555556,
              "#d8576b"
             ],
             [
              0.6666666666666666,
              "#ed7953"
             ],
             [
              0.7777777777777778,
              "#fb9f3a"
             ],
             [
              0.8888888888888888,
              "#fdca26"
             ],
             [
              1,
              "#f0f921"
             ]
            ],
            "type": "contour"
           }
          ],
          "contourcarpet": [
           {
            "colorbar": {
             "outlinewidth": 0,
             "ticks": ""
            },
            "type": "contourcarpet"
           }
          ],
          "heatmap": [
           {
            "colorbar": {
             "outlinewidth": 0,
             "ticks": ""
            },
            "colorscale": [
             [
              0,
              "#0d0887"
             ],
             [
              0.1111111111111111,
              "#46039f"
             ],
             [
              0.2222222222222222,
              "#7201a8"
             ],
             [
              0.3333333333333333,
              "#9c179e"
             ],
             [
              0.4444444444444444,
              "#bd3786"
             ],
             [
              0.5555555555555556,
              "#d8576b"
             ],
             [
              0.6666666666666666,
              "#ed7953"
             ],
             [
              0.7777777777777778,
              "#fb9f3a"
             ],
             [
              0.8888888888888888,
              "#fdca26"
             ],
             [
              1,
              "#f0f921"
             ]
            ],
            "type": "heatmap"
           }
          ],
          "heatmapgl": [
           {
            "colorbar": {
             "outlinewidth": 0,
             "ticks": ""
            },
            "colorscale": [
             [
              0,
              "#0d0887"
             ],
             [
              0.1111111111111111,
              "#46039f"
             ],
             [
              0.2222222222222222,
              "#7201a8"
             ],
             [
              0.3333333333333333,
              "#9c179e"
             ],
             [
              0.4444444444444444,
              "#bd3786"
             ],
             [
              0.5555555555555556,
              "#d8576b"
             ],
             [
              0.6666666666666666,
              "#ed7953"
             ],
             [
              0.7777777777777778,
              "#fb9f3a"
             ],
             [
              0.8888888888888888,
              "#fdca26"
             ],
             [
              1,
              "#f0f921"
             ]
            ],
            "type": "heatmapgl"
           }
          ],
          "histogram": [
           {
            "marker": {
             "pattern": {
              "fillmode": "overlay",
              "size": 10,
              "solidity": 0.2
             }
            },
            "type": "histogram"
           }
          ],
          "histogram2d": [
           {
            "colorbar": {
             "outlinewidth": 0,
             "ticks": ""
            },
            "colorscale": [
             [
              0,
              "#0d0887"
             ],
             [
              0.1111111111111111,
              "#46039f"
             ],
             [
              0.2222222222222222,
              "#7201a8"
             ],
             [
              0.3333333333333333,
              "#9c179e"
             ],
             [
              0.4444444444444444,
              "#bd3786"
             ],
             [
              0.5555555555555556,
              "#d8576b"
             ],
             [
              0.6666666666666666,
              "#ed7953"
             ],
             [
              0.7777777777777778,
              "#fb9f3a"
             ],
             [
              0.8888888888888888,
              "#fdca26"
             ],
             [
              1,
              "#f0f921"
             ]
            ],
            "type": "histogram2d"
           }
          ],
          "histogram2dcontour": [
           {
            "colorbar": {
             "outlinewidth": 0,
             "ticks": ""
            },
            "colorscale": [
             [
              0,
              "#0d0887"
             ],
             [
              0.1111111111111111,
              "#46039f"
             ],
             [
              0.2222222222222222,
              "#7201a8"
             ],
             [
              0.3333333333333333,
              "#9c179e"
             ],
             [
              0.4444444444444444,
              "#bd3786"
             ],
             [
              0.5555555555555556,
              "#d8576b"
             ],
             [
              0.6666666666666666,
              "#ed7953"
             ],
             [
              0.7777777777777778,
              "#fb9f3a"
             ],
             [
              0.8888888888888888,
              "#fdca26"
             ],
             [
              1,
              "#f0f921"
             ]
            ],
            "type": "histogram2dcontour"
           }
          ],
          "mesh3d": [
           {
            "colorbar": {
             "outlinewidth": 0,
             "ticks": ""
            },
            "type": "mesh3d"
           }
          ],
          "parcoords": [
           {
            "line": {
             "colorbar": {
              "outlinewidth": 0,
              "ticks": ""
             }
            },
            "type": "parcoords"
           }
          ],
          "pie": [
           {
            "automargin": true,
            "type": "pie"
           }
          ],
          "scatter": [
           {
            "marker": {
             "colorbar": {
              "outlinewidth": 0,
              "ticks": ""
             }
            },
            "type": "scatter"
           }
          ],
          "scatter3d": [
           {
            "line": {
             "colorbar": {
              "outlinewidth": 0,
              "ticks": ""
             }
            },
            "marker": {
             "colorbar": {
              "outlinewidth": 0,
              "ticks": ""
             }
            },
            "type": "scatter3d"
           }
          ],
          "scattercarpet": [
           {
            "marker": {
             "colorbar": {
              "outlinewidth": 0,
              "ticks": ""
             }
            },
            "type": "scattercarpet"
           }
          ],
          "scattergeo": [
           {
            "marker": {
             "colorbar": {
              "outlinewidth": 0,
              "ticks": ""
             }
            },
            "type": "scattergeo"
           }
          ],
          "scattergl": [
           {
            "marker": {
             "colorbar": {
              "outlinewidth": 0,
              "ticks": ""
             }
            },
            "type": "scattergl"
           }
          ],
          "scattermapbox": [
           {
            "marker": {
             "colorbar": {
              "outlinewidth": 0,
              "ticks": ""
             }
            },
            "type": "scattermapbox"
           }
          ],
          "scatterpolar": [
           {
            "marker": {
             "colorbar": {
              "outlinewidth": 0,
              "ticks": ""
             }
            },
            "type": "scatterpolar"
           }
          ],
          "scatterpolargl": [
           {
            "marker": {
             "colorbar": {
              "outlinewidth": 0,
              "ticks": ""
             }
            },
            "type": "scatterpolargl"
           }
          ],
          "scatterternary": [
           {
            "marker": {
             "colorbar": {
              "outlinewidth": 0,
              "ticks": ""
             }
            },
            "type": "scatterternary"
           }
          ],
          "surface": [
           {
            "colorbar": {
             "outlinewidth": 0,
             "ticks": ""
            },
            "colorscale": [
             [
              0,
              "#0d0887"
             ],
             [
              0.1111111111111111,
              "#46039f"
             ],
             [
              0.2222222222222222,
              "#7201a8"
             ],
             [
              0.3333333333333333,
              "#9c179e"
             ],
             [
              0.4444444444444444,
              "#bd3786"
             ],
             [
              0.5555555555555556,
              "#d8576b"
             ],
             [
              0.6666666666666666,
              "#ed7953"
             ],
             [
              0.7777777777777778,
              "#fb9f3a"
             ],
             [
              0.8888888888888888,
              "#fdca26"
             ],
             [
              1,
              "#f0f921"
             ]
            ],
            "type": "surface"
           }
          ],
          "table": [
           {
            "cells": {
             "fill": {
              "color": "#EBF0F8"
             },
             "line": {
              "color": "white"
             }
            },
            "header": {
             "fill": {
              "color": "#C8D4E3"
             },
             "line": {
              "color": "white"
             }
            },
            "type": "table"
           }
          ]
         },
         "layout": {
          "annotationdefaults": {
           "arrowcolor": "#2a3f5f",
           "arrowhead": 0,
           "arrowwidth": 1
          },
          "autotypenumbers": "strict",
          "coloraxis": {
           "colorbar": {
            "outlinewidth": 0,
            "ticks": ""
           }
          },
          "colorscale": {
           "diverging": [
            [
             0,
             "#8e0152"
            ],
            [
             0.1,
             "#c51b7d"
            ],
            [
             0.2,
             "#de77ae"
            ],
            [
             0.3,
             "#f1b6da"
            ],
            [
             0.4,
             "#fde0ef"
            ],
            [
             0.5,
             "#f7f7f7"
            ],
            [
             0.6,
             "#e6f5d0"
            ],
            [
             0.7,
             "#b8e186"
            ],
            [
             0.8,
             "#7fbc41"
            ],
            [
             0.9,
             "#4d9221"
            ],
            [
             1,
             "#276419"
            ]
           ],
           "sequential": [
            [
             0,
             "#0d0887"
            ],
            [
             0.1111111111111111,
             "#46039f"
            ],
            [
             0.2222222222222222,
             "#7201a8"
            ],
            [
             0.3333333333333333,
             "#9c179e"
            ],
            [
             0.4444444444444444,
             "#bd3786"
            ],
            [
             0.5555555555555556,
             "#d8576b"
            ],
            [
             0.6666666666666666,
             "#ed7953"
            ],
            [
             0.7777777777777778,
             "#fb9f3a"
            ],
            [
             0.8888888888888888,
             "#fdca26"
            ],
            [
             1,
             "#f0f921"
            ]
           ],
           "sequentialminus": [
            [
             0,
             "#0d0887"
            ],
            [
             0.1111111111111111,
             "#46039f"
            ],
            [
             0.2222222222222222,
             "#7201a8"
            ],
            [
             0.3333333333333333,
             "#9c179e"
            ],
            [
             0.4444444444444444,
             "#bd3786"
            ],
            [
             0.5555555555555556,
             "#d8576b"
            ],
            [
             0.6666666666666666,
             "#ed7953"
            ],
            [
             0.7777777777777778,
             "#fb9f3a"
            ],
            [
             0.8888888888888888,
             "#fdca26"
            ],
            [
             1,
             "#f0f921"
            ]
           ]
          },
          "colorway": [
           "#636efa",
           "#EF553B",
           "#00cc96",
           "#ab63fa",
           "#FFA15A",
           "#19d3f3",
           "#FF6692",
           "#B6E880",
           "#FF97FF",
           "#FECB52"
          ],
          "font": {
           "color": "#2a3f5f"
          },
          "geo": {
           "bgcolor": "white",
           "lakecolor": "white",
           "landcolor": "#E5ECF6",
           "showlakes": true,
           "showland": true,
           "subunitcolor": "white"
          },
          "hoverlabel": {
           "align": "left"
          },
          "hovermode": "closest",
          "mapbox": {
           "style": "light"
          },
          "paper_bgcolor": "white",
          "plot_bgcolor": "#E5ECF6",
          "polar": {
           "angularaxis": {
            "gridcolor": "white",
            "linecolor": "white",
            "ticks": ""
           },
           "bgcolor": "#E5ECF6",
           "radialaxis": {
            "gridcolor": "white",
            "linecolor": "white",
            "ticks": ""
           }
          },
          "scene": {
           "xaxis": {
            "backgroundcolor": "#E5ECF6",
            "gridcolor": "white",
            "gridwidth": 2,
            "linecolor": "white",
            "showbackground": true,
            "ticks": "",
            "zerolinecolor": "white"
           },
           "yaxis": {
            "backgroundcolor": "#E5ECF6",
            "gridcolor": "white",
            "gridwidth": 2,
            "linecolor": "white",
            "showbackground": true,
            "ticks": "",
            "zerolinecolor": "white"
           },
           "zaxis": {
            "backgroundcolor": "#E5ECF6",
            "gridcolor": "white",
            "gridwidth": 2,
            "linecolor": "white",
            "showbackground": true,
            "ticks": "",
            "zerolinecolor": "white"
           }
          },
          "shapedefaults": {
           "line": {
            "color": "#2a3f5f"
           }
          },
          "ternary": {
           "aaxis": {
            "gridcolor": "white",
            "linecolor": "white",
            "ticks": ""
           },
           "baxis": {
            "gridcolor": "white",
            "linecolor": "white",
            "ticks": ""
           },
           "bgcolor": "#E5ECF6",
           "caxis": {
            "gridcolor": "white",
            "linecolor": "white",
            "ticks": ""
           }
          },
          "title": {
           "x": 0.05
          },
          "xaxis": {
           "automargin": true,
           "gridcolor": "white",
           "linecolor": "white",
           "ticks": "",
           "title": {
            "standoff": 15
           },
           "zerolinecolor": "white",
           "zerolinewidth": 2
          },
          "yaxis": {
           "automargin": true,
           "gridcolor": "white",
           "linecolor": "white",
           "ticks": "",
           "title": {
            "standoff": 15
           },
           "zerolinecolor": "white",
           "zerolinewidth": 2
          }
         }
        },
        "title": {
         "font": {
          "color": "#4D5663"
         },
         "text": "2021-10-23 : 2021-11-22",
         "x": 0.5,
         "xanchor": "center",
         "y": 0.933,
         "yanchor": "top"
        },
        "xaxis": {
         "gridcolor": "#E1E5ED",
         "rangeslider": {
          "visible": false
         },
         "showgrid": true,
         "tickfont": {
          "color": "#4D5663"
         },
         "title": {
          "font": {
           "color": "#4D5663"
          },
          "text": "Daily Return (%)"
         },
         "zerolinecolor": "#E1E5ED"
        },
        "yaxis": {
         "gridcolor": "#E1E5ED",
         "showgrid": true,
         "tickfont": {
          "color": "#4D5663"
         },
         "title": {
          "font": {
           "color": "#4D5663"
          }
         },
         "zerolinecolor": "#E1E5ED"
        }
       }
      },
      "text/html": [
       "<div>                            <div id=\"f86abc95-918d-41ea-9b1a-da8bee792f60\" class=\"plotly-graph-div\" style=\"height:525px; width:100%;\"></div>            <script type=\"text/javascript\">                require([\"plotly\"], function(Plotly) {                    window.PLOTLYENV=window.PLOTLYENV || {};                                    if (document.getElementById(\"f86abc95-918d-41ea-9b1a-da8bee792f60\")) {                    Plotly.newPlot(                        \"f86abc95-918d-41ea-9b1a-da8bee792f60\",                        [{\"colorscale\":[[0.0,\"rgb(100, 100, 111)\"],[0.5,\"rgb(255, 255, 255)\"],[1.0,\"rgb(220, 187, 166)\"]],\"x\":[\"FB\",\"AMZN\",\"GOOGL\",\"AAPL\",\"GME\",\"BABA\",\"VIXY\"],\"y\":[\"FB\",\"AMZN\",\"GOOGL\",\"AAPL\",\"GME\",\"BABA\",\"VIXY\"],\"z\":[[1.0,0.49643502171948684,0.587850985964609,0.5042132458124614,-0.07089846557500584,0.19245338351214772,-0.4455303277105733],[0.49643502171948684,1.0,0.5606175444212468,0.5859691811931598,-0.08741380829639593,0.17542417087173168,-0.39560206737546566],[0.587850985964609,0.5606175444212468,1.0,0.5302283382572173,0.022671748101939598,0.38776220278593077,-0.6638011575755967],[0.5042132458124614,0.5859691811931598,0.5302283382572173,1.0,-0.0008899751600423185,0.11260983257220131,-0.522681694236223],[-0.07089846557500584,-0.08741380829639593,0.022671748101939598,-0.0008899751600423185,1.0,0.05788671292967108,-0.004007178825771632],[0.19245338351214772,0.17542417087173168,0.38776220278593077,0.11260983257220131,0.05788671292967108,1.0,-0.3358938652952281],[-0.4455303277105733,-0.39560206737546566,-0.6638011575755967,-0.522681694236223,-0.004007178825771632,-0.3358938652952281,1.0]],\"zmax\":1.0,\"zmin\":-0.6638011575755967,\"type\":\"heatmap\"}],                        {\"font\":{\"family\":\"Roboto\"},\"legend\":{\"bgcolor\":\"#FFFFFF\",\"font\":{\"color\":\"#4D5663\"},\"orientation\":\"h\",\"x\":0.3,\"y\":0.95,\"yanchor\":\"bottom\"},\"paper_bgcolor\":\"#FFFFFF\",\"plot_bgcolor\":\"#FFFFFF\",\"showlegend\":false,\"title\":{\"text\":\"2021-10-23 : 2021-11-22\",\"x\":0.5,\"xanchor\":\"center\",\"y\":0.933,\"yanchor\":\"top\",\"font\":{\"color\":\"#4D5663\"}},\"xaxis\":{\"gridcolor\":\"#E1E5ED\",\"rangeslider\":{\"visible\":false},\"showgrid\":true,\"tickfont\":{\"color\":\"#4D5663\"},\"title\":{\"text\":\"Daily Return (%)\",\"font\":{\"color\":\"#4D5663\"}},\"zerolinecolor\":\"#E1E5ED\"},\"yaxis\":{\"gridcolor\":\"#E1E5ED\",\"showgrid\":true,\"tickfont\":{\"color\":\"#4D5663\"},\"title\":{\"font\":{\"color\":\"#4D5663\"}},\"zerolinecolor\":\"#E1E5ED\"},\"template\":{\"data\":{\"bar\":[{\"error_x\":{\"color\":\"#2a3f5f\"},\"error_y\":{\"color\":\"#2a3f5f\"},\"marker\":{\"line\":{\"color\":\"#E5ECF6\",\"width\":0.5},\"pattern\":{\"fillmode\":\"overlay\",\"size\":10,\"solidity\":0.2}},\"type\":\"bar\"}],\"barpolar\":[{\"marker\":{\"line\":{\"color\":\"#E5ECF6\",\"width\":0.5},\"pattern\":{\"fillmode\":\"overlay\",\"size\":10,\"solidity\":0.2}},\"type\":\"barpolar\"}],\"carpet\":[{\"aaxis\":{\"endlinecolor\":\"#2a3f5f\",\"gridcolor\":\"white\",\"linecolor\":\"white\",\"minorgridcolor\":\"white\",\"startlinecolor\":\"#2a3f5f\"},\"baxis\":{\"endlinecolor\":\"#2a3f5f\",\"gridcolor\":\"white\",\"linecolor\":\"white\",\"minorgridcolor\":\"white\",\"startlinecolor\":\"#2a3f5f\"},\"type\":\"carpet\"}],\"choropleth\":[{\"colorbar\":{\"outlinewidth\":0,\"ticks\":\"\"},\"type\":\"choropleth\"}],\"contour\":[{\"colorbar\":{\"outlinewidth\":0,\"ticks\":\"\"},\"colorscale\":[[0.0,\"#0d0887\"],[0.1111111111111111,\"#46039f\"],[0.2222222222222222,\"#7201a8\"],[0.3333333333333333,\"#9c179e\"],[0.4444444444444444,\"#bd3786\"],[0.5555555555555556,\"#d8576b\"],[0.6666666666666666,\"#ed7953\"],[0.7777777777777778,\"#fb9f3a\"],[0.8888888888888888,\"#fdca26\"],[1.0,\"#f0f921\"]],\"type\":\"contour\"}],\"contourcarpet\":[{\"colorbar\":{\"outlinewidth\":0,\"ticks\":\"\"},\"type\":\"contourcarpet\"}],\"heatmap\":[{\"colorbar\":{\"outlinewidth\":0,\"ticks\":\"\"},\"colorscale\":[[0.0,\"#0d0887\"],[0.1111111111111111,\"#46039f\"],[0.2222222222222222,\"#7201a8\"],[0.3333333333333333,\"#9c179e\"],[0.4444444444444444,\"#bd3786\"],[0.5555555555555556,\"#d8576b\"],[0.6666666666666666,\"#ed7953\"],[0.7777777777777778,\"#fb9f3a\"],[0.8888888888888888,\"#fdca26\"],[1.0,\"#f0f921\"]],\"type\":\"heatmap\"}],\"heatmapgl\":[{\"colorbar\":{\"outlinewidth\":0,\"ticks\":\"\"},\"colorscale\":[[0.0,\"#0d0887\"],[0.1111111111111111,\"#46039f\"],[0.2222222222222222,\"#7201a8\"],[0.3333333333333333,\"#9c179e\"],[0.4444444444444444,\"#bd3786\"],[0.5555555555555556,\"#d8576b\"],[0.6666666666666666,\"#ed7953\"],[0.7777777777777778,\"#fb9f3a\"],[0.8888888888888888,\"#fdca26\"],[1.0,\"#f0f921\"]],\"type\":\"heatmapgl\"}],\"histogram\":[{\"marker\":{\"pattern\":{\"fillmode\":\"overlay\",\"size\":10,\"solidity\":0.2}},\"type\":\"histogram\"}],\"histogram2d\":[{\"colorbar\":{\"outlinewidth\":0,\"ticks\":\"\"},\"colorscale\":[[0.0,\"#0d0887\"],[0.1111111111111111,\"#46039f\"],[0.2222222222222222,\"#7201a8\"],[0.3333333333333333,\"#9c179e\"],[0.4444444444444444,\"#bd3786\"],[0.5555555555555556,\"#d8576b\"],[0.6666666666666666,\"#ed7953\"],[0.7777777777777778,\"#fb9f3a\"],[0.8888888888888888,\"#fdca26\"],[1.0,\"#f0f921\"]],\"type\":\"histogram2d\"}],\"histogram2dcontour\":[{\"colorbar\":{\"outlinewidth\":0,\"ticks\":\"\"},\"colorscale\":[[0.0,\"#0d0887\"],[0.1111111111111111,\"#46039f\"],[0.2222222222222222,\"#7201a8\"],[0.3333333333333333,\"#9c179e\"],[0.4444444444444444,\"#bd3786\"],[0.5555555555555556,\"#d8576b\"],[0.6666666666666666,\"#ed7953\"],[0.7777777777777778,\"#fb9f3a\"],[0.8888888888888888,\"#fdca26\"],[1.0,\"#f0f921\"]],\"type\":\"histogram2dcontour\"}],\"mesh3d\":[{\"colorbar\":{\"outlinewidth\":0,\"ticks\":\"\"},\"type\":\"mesh3d\"}],\"parcoords\":[{\"line\":{\"colorbar\":{\"outlinewidth\":0,\"ticks\":\"\"}},\"type\":\"parcoords\"}],\"pie\":[{\"automargin\":true,\"type\":\"pie\"}],\"scatter\":[{\"marker\":{\"colorbar\":{\"outlinewidth\":0,\"ticks\":\"\"}},\"type\":\"scatter\"}],\"scatter3d\":[{\"line\":{\"colorbar\":{\"outlinewidth\":0,\"ticks\":\"\"}},\"marker\":{\"colorbar\":{\"outlinewidth\":0,\"ticks\":\"\"}},\"type\":\"scatter3d\"}],\"scattercarpet\":[{\"marker\":{\"colorbar\":{\"outlinewidth\":0,\"ticks\":\"\"}},\"type\":\"scattercarpet\"}],\"scattergeo\":[{\"marker\":{\"colorbar\":{\"outlinewidth\":0,\"ticks\":\"\"}},\"type\":\"scattergeo\"}],\"scattergl\":[{\"marker\":{\"colorbar\":{\"outlinewidth\":0,\"ticks\":\"\"}},\"type\":\"scattergl\"}],\"scattermapbox\":[{\"marker\":{\"colorbar\":{\"outlinewidth\":0,\"ticks\":\"\"}},\"type\":\"scattermapbox\"}],\"scatterpolar\":[{\"marker\":{\"colorbar\":{\"outlinewidth\":0,\"ticks\":\"\"}},\"type\":\"scatterpolar\"}],\"scatterpolargl\":[{\"marker\":{\"colorbar\":{\"outlinewidth\":0,\"ticks\":\"\"}},\"type\":\"scatterpolargl\"}],\"scatterternary\":[{\"marker\":{\"colorbar\":{\"outlinewidth\":0,\"ticks\":\"\"}},\"type\":\"scatterternary\"}],\"surface\":[{\"colorbar\":{\"outlinewidth\":0,\"ticks\":\"\"},\"colorscale\":[[0.0,\"#0d0887\"],[0.1111111111111111,\"#46039f\"],[0.2222222222222222,\"#7201a8\"],[0.3333333333333333,\"#9c179e\"],[0.4444444444444444,\"#bd3786\"],[0.5555555555555556,\"#d8576b\"],[0.6666666666666666,\"#ed7953\"],[0.7777777777777778,\"#fb9f3a\"],[0.8888888888888888,\"#fdca26\"],[1.0,\"#f0f921\"]],\"type\":\"surface\"}],\"table\":[{\"cells\":{\"fill\":{\"color\":\"#EBF0F8\"},\"line\":{\"color\":\"white\"}},\"header\":{\"fill\":{\"color\":\"#C8D4E3\"},\"line\":{\"color\":\"white\"}},\"type\":\"table\"}]},\"layout\":{\"annotationdefaults\":{\"arrowcolor\":\"#2a3f5f\",\"arrowhead\":0,\"arrowwidth\":1},\"autotypenumbers\":\"strict\",\"coloraxis\":{\"colorbar\":{\"outlinewidth\":0,\"ticks\":\"\"}},\"colorscale\":{\"diverging\":[[0,\"#8e0152\"],[0.1,\"#c51b7d\"],[0.2,\"#de77ae\"],[0.3,\"#f1b6da\"],[0.4,\"#fde0ef\"],[0.5,\"#f7f7f7\"],[0.6,\"#e6f5d0\"],[0.7,\"#b8e186\"],[0.8,\"#7fbc41\"],[0.9,\"#4d9221\"],[1,\"#276419\"]],\"sequential\":[[0.0,\"#0d0887\"],[0.1111111111111111,\"#46039f\"],[0.2222222222222222,\"#7201a8\"],[0.3333333333333333,\"#9c179e\"],[0.4444444444444444,\"#bd3786\"],[0.5555555555555556,\"#d8576b\"],[0.6666666666666666,\"#ed7953\"],[0.7777777777777778,\"#fb9f3a\"],[0.8888888888888888,\"#fdca26\"],[1.0,\"#f0f921\"]],\"sequentialminus\":[[0.0,\"#0d0887\"],[0.1111111111111111,\"#46039f\"],[0.2222222222222222,\"#7201a8\"],[0.3333333333333333,\"#9c179e\"],[0.4444444444444444,\"#bd3786\"],[0.5555555555555556,\"#d8576b\"],[0.6666666666666666,\"#ed7953\"],[0.7777777777777778,\"#fb9f3a\"],[0.8888888888888888,\"#fdca26\"],[1.0,\"#f0f921\"]]},\"colorway\":[\"#636efa\",\"#EF553B\",\"#00cc96\",\"#ab63fa\",\"#FFA15A\",\"#19d3f3\",\"#FF6692\",\"#B6E880\",\"#FF97FF\",\"#FECB52\"],\"font\":{\"color\":\"#2a3f5f\"},\"geo\":{\"bgcolor\":\"white\",\"lakecolor\":\"white\",\"landcolor\":\"#E5ECF6\",\"showlakes\":true,\"showland\":true,\"subunitcolor\":\"white\"},\"hoverlabel\":{\"align\":\"left\"},\"hovermode\":\"closest\",\"mapbox\":{\"style\":\"light\"},\"paper_bgcolor\":\"white\",\"plot_bgcolor\":\"#E5ECF6\",\"polar\":{\"angularaxis\":{\"gridcolor\":\"white\",\"linecolor\":\"white\",\"ticks\":\"\"},\"bgcolor\":\"#E5ECF6\",\"radialaxis\":{\"gridcolor\":\"white\",\"linecolor\":\"white\",\"ticks\":\"\"}},\"scene\":{\"xaxis\":{\"backgroundcolor\":\"#E5ECF6\",\"gridcolor\":\"white\",\"gridwidth\":2,\"linecolor\":\"white\",\"showbackground\":true,\"ticks\":\"\",\"zerolinecolor\":\"white\"},\"yaxis\":{\"backgroundcolor\":\"#E5ECF6\",\"gridcolor\":\"white\",\"gridwidth\":2,\"linecolor\":\"white\",\"showbackground\":true,\"ticks\":\"\",\"zerolinecolor\":\"white\"},\"zaxis\":{\"backgroundcolor\":\"#E5ECF6\",\"gridcolor\":\"white\",\"gridwidth\":2,\"linecolor\":\"white\",\"showbackground\":true,\"ticks\":\"\",\"zerolinecolor\":\"white\"}},\"shapedefaults\":{\"line\":{\"color\":\"#2a3f5f\"}},\"ternary\":{\"aaxis\":{\"gridcolor\":\"white\",\"linecolor\":\"white\",\"ticks\":\"\"},\"baxis\":{\"gridcolor\":\"white\",\"linecolor\":\"white\",\"ticks\":\"\"},\"bgcolor\":\"#E5ECF6\",\"caxis\":{\"gridcolor\":\"white\",\"linecolor\":\"white\",\"ticks\":\"\"}},\"title\":{\"x\":0.05},\"xaxis\":{\"automargin\":true,\"gridcolor\":\"white\",\"linecolor\":\"white\",\"ticks\":\"\",\"title\":{\"standoff\":15},\"zerolinecolor\":\"white\",\"zerolinewidth\":2},\"yaxis\":{\"automargin\":true,\"gridcolor\":\"white\",\"linecolor\":\"white\",\"ticks\":\"\",\"title\":{\"standoff\":15},\"zerolinecolor\":\"white\",\"zerolinewidth\":2}}}},                        {\"responsive\": true}                    ).then(function(){\n",
       "                            \n",
       "var gd = document.getElementById('f86abc95-918d-41ea-9b1a-da8bee792f60');\n",
       "var x = new MutationObserver(function (mutations, observer) {{\n",
       "        var display = window.getComputedStyle(gd).display;\n",
       "        if (!display || display === 'none') {{\n",
       "            console.log([gd, 'removed!']);\n",
       "            Plotly.purge(gd);\n",
       "            observer.disconnect();\n",
       "        }}\n",
       "}});\n",
       "\n",
       "// Listen for the removal of the full notebook cells\n",
       "var notebookContainer = gd.closest('#notebook-container');\n",
       "if (notebookContainer) {{\n",
       "    x.observe(notebookContainer, {childList: true});\n",
       "}}\n",
       "\n",
       "// Listen for the clearing of the current output cell\n",
       "var outputEl = gd.closest('.output');\n",
       "if (outputEl) {{\n",
       "    x.observe(outputEl, {childList: true});\n",
       "}}\n",
       "\n",
       "                        })                };                });            </script>        </div>"
      ]
     },
     "metadata": {},
     "output_type": "display_data"
    }
   ],
   "source": [
    "pwe_heatmap(df_corr, start_date=start_date, end_date=end_date, title=None, ticker=ticker, yTitle=None, xTitle=None, asPlot=False,\n",
    "            asFigure=True, theme='white', showlegend=False, decimals=2, textangle=0, file_tag=None,\n",
    "            interval='Daily', linecolor=None, title_dates=True, colorscale=[\"rgb(100, 100, 111)\", \"rgb(255, 255, 255)\", 'rgb(220, 187, 166)',],\n",
    "            title_time=title_time, chart_ticker=chart_ticker, top_margin=0.9, spacing=0.08, title_x=0.5, title_y=0.933)"
   ]
  },
  {
   "cell_type": "code",
   "execution_count": null,
   "metadata": {},
   "outputs": [],
   "source": [
    "df.corr()"
   ]
  },
  {
   "cell_type": "code",
   "execution_count": null,
   "metadata": {},
   "outputs": [],
   "source": []
  },
  {
   "cell_type": "code",
   "execution_count": null,
   "metadata": {},
   "outputs": [],
   "source": []
  }
 ],
 "metadata": {
  "interpreter": {
   "hash": "ce8c4f33465ee917852bf2dcc79d4da44fc1c72480e3f2cd9df1b27d64a024dd"
  },
  "kernelspec": {
   "display_name": "Python 3.8.11 64-bit ('dashenv': venv)",
   "language": "python",
   "name": "python3"
  },
  "language_info": {
   "codemirror_mode": {
    "name": "ipython",
    "version": 3
   },
   "file_extension": ".py",
   "mimetype": "text/x-python",
   "name": "python",
   "nbconvert_exporter": "python",
   "pygments_lexer": "ipython3",
   "version": "3.8.11"
  },
  "orig_nbformat": 4
 },
 "nbformat": 4,
 "nbformat_minor": 2
}
