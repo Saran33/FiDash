{
 "cells": [
  {
   "cell_type": "code",
   "execution_count": null,
   "metadata": {},
   "outputs": [],
   "source": [
    "import dash\n",
    "# import dash_core_components as dcc\n",
    "from dash import dcc\n",
    "# import dash_html_components as html\n",
    "from dash import html\n",
    "from dash.dependencies import Output, Input\n",
    "import dash_bootstrap_components as dbc\n",
    "import pandas as pd\n",
    "import plotly.express as px\n",
    "import plotly.graph_objects as go\n",
    "from alpha_vantage.timeseries import TimeSeries\n",
    "from pwe.av import get_av_ts\n",
    "from datetime import datetime, timedelta\n",
    "import pandas_datareader.data as web\n",
    "\n",
    "import pytz\n",
    "import pwe.pwetools as pwe\n",
    "from pwe import charts"
   ]
  },
  {
   "cell_type": "code",
   "execution_count": null,
   "metadata": {},
   "outputs": [],
   "source": [
    "start_date=str((datetime.utcnow() - timedelta(days=365)).date())\n",
    "print(start_date)\n",
    "start_date = pwe.str_to_dt(start_date, dayfirst=False)\n",
    "print(start_date)\n",
    "print(type(start_date))"
   ]
  },
  {
   "cell_type": "code",
   "execution_count": null,
   "metadata": {},
   "outputs": [],
   "source": [
    "if start_date.tzinfo == None:\n",
    "    print (\"None\")"
   ]
  },
  {
   "cell_type": "code",
   "execution_count": null,
   "metadata": {},
   "outputs": [],
   "source": [
    "end_date = pytz.utc.localize(datetime.utcnow())\n",
    "str_end = pwe.dt_to_str(end_date)\n",
    "print(\"END:\", end_date)\n",
    "start_date = (end_date - timedelta(days=365))\n",
    "str_start = pwe.dt_to_str(start_date)\n",
    "print(\"START\", start_date)"
   ]
  },
  {
   "cell_type": "code",
   "execution_count": null,
   "metadata": {},
   "outputs": [],
   "source": [
    "end_date = end_date.date()\n",
    "print(end_date)\n",
    "start_date = start_date.date()\n",
    "print(start_date)"
   ]
  },
  {
   "cell_type": "code",
   "execution_count": null,
   "metadata": {},
   "outputs": [],
   "source": [
    "if (not isinstance(start_date, datetime)) or (not isinstance(end_date, datetime)):\n",
    "    print(False)"
   ]
  },
  {
   "cell_type": "code",
   "execution_count": null,
   "metadata": {},
   "outputs": [],
   "source": [
    "print(type(end_date))\n",
    "print(isinstance(end_date, datetime))"
   ]
  },
  {
   "cell_type": "code",
   "execution_count": null,
   "metadata": {},
   "outputs": [],
   "source": []
  },
  {
   "cell_type": "code",
   "execution_count": null,
   "metadata": {},
   "outputs": [],
   "source": [
    "ticker = 'FB'\n",
    "\n",
    "df = web.DataReader(ticker, # ['AMZN', 'GOOGL',]\n",
    "                    'stooq', start=start_date, end=end_date)\n",
    "# df=df.melt(ignore_index=False, value_name=\"price\").reset_index()\n",
    "# df = df.stack().reset_index()\n",
    "df = pwe.sort_index(df, utc=True)\n",
    "df.index.names = ['DateTime']\n",
    "df[:15]"
   ]
  },
  {
   "cell_type": "code",
   "execution_count": null,
   "metadata": {},
   "outputs": [],
   "source": [
    "from fidash.d_charts import chart_file_dates\n",
    "\n",
    "title_time = False\n",
    "\n",
    "sdate, edate, chart_dates = chart_file_dates(df, start_date, end_date, time=title_time)\n",
    "print (sdate)\n",
    "print (edate)\n",
    "print (chart_dates)"
   ]
  },
  {
   "cell_type": "code",
   "execution_count": null,
   "metadata": {},
   "outputs": [],
   "source": [
    "if df.index[1] - df.index[0] == timedelta(days=1):\n",
    "    print (\"Daily\")\n",
    "if df.index[1] - df.index[0] == timedelta(hours=1):\n",
    "    print (\"Hourly\")\n",
    "if df.index[1] - df.index[0] == timedelta(minutes=1):\n",
    "    print (\"Per Minute\")\n",
    "if df.index[1] - df.index[0] == timedelta(seconds=1):\n",
    "    print (\"Per Second\")\n",
    "if df.index[1] - df.index[0] == timedelta(weeks=1):\n",
    "    print (\"Weekly\")\n",
    "if timedelta(days=32) >= df.index[1] - df.index[0] >= timedelta(days=27):\n",
    "    print (\"Monthly\")\n",
    "if timedelta(days=182) >= df.index[1] - df.index[0] >= timedelta(days=90):\n",
    "    print (\"Semi-Annual\")\n",
    "if  timedelta(days=360) >= df.index[1] - df.index[0] >= timedelta(days=182):\n",
    "    print (\"Annual\")"
   ]
  },
  {
   "cell_type": "code",
   "execution_count": null,
   "metadata": {},
   "outputs": [],
   "source": [
    "df.index[df['Volume'] > 50806840][0]"
   ]
  },
  {
   "cell_type": "code",
   "execution_count": null,
   "metadata": {},
   "outputs": [],
   "source": [
    "# from fidash.charts import quant_chart\n",
    "\n",
    "# plt_int = quant_chart(df, start_date, end_date, ticker=ticker, title=f'{ticker}', theme='white', auto_start=srt_start, auto_end=None,\n",
    "#                         asPlot=False, asFigure=True, showlegend=True, boll_std=2, boll_periods=20, showboll=True, showrsi=True, rsi_periods=14,\n",
    "#                         showama=True, ama_periods=9, showvol=True, show_range=True, annots=None, textangle=0, file_tag=None,\n",
    "#                         support=None, resist=None, annot_font_size=6, title_dates=False, title_time=False, chart_ticker=True,\n",
    "#                         top_margin=0.9, spacing=0.08, range_fontsize=9.8885, title_x=0.5, title_y=0.933,\n",
    "#                         arrowhead=6, arrowlen=-50)"
   ]
  },
  {
   "cell_type": "code",
   "execution_count": null,
   "metadata": {},
   "outputs": [],
   "source": [
    "from fidash.dtools import end_date, str_start, str_end, wdr_ticker, wdr_multi_ticker # start_date"
   ]
  },
  {
   "cell_type": "code",
   "execution_count": null,
   "metadata": {},
   "outputs": [],
   "source": [
    "symbols = ['FB', 'AMZN', 'GOOGL', 'AAPL', 'GME', 'BABA', 'VIXY']\n",
    "\n",
    "from datetime import timedelta\n",
    "s_d = (end_date - timedelta(days=700))\n",
    "print(s_d)"
   ]
  },
  {
   "cell_type": "code",
   "execution_count": null,
   "metadata": {},
   "outputs": [],
   "source": [
    "df1 = wdr_multi_ticker(symbols, s_d, end_date, source='stooq', price='Close')\n",
    "df1.head()"
   ]
  },
  {
   "cell_type": "code",
   "execution_count": null,
   "metadata": {},
   "outputs": [],
   "source": [
    "import pandas as pd\n",
    "import numpy as np"
   ]
  },
  {
   "cell_type": "code",
   "execution_count": null,
   "metadata": {},
   "outputs": [],
   "source": [
    "from fidash.ntwrkx import plot_mst\n",
    "from plotly.offline import download_plotlyjs, init_notebook_mode, plot, iplot"
   ]
  },
  {
   "cell_type": "code",
   "execution_count": null,
   "metadata": {},
   "outputs": [],
   "source": [
    "\n",
    "df1 = df1.pct_change().fillna(0).add(1).cumprod().mul(100)\n",
    "MST = plot_mst(df1, ann_factor=252, corr_threshold=0.05, node_size_factor=10, savefig=True)"
   ]
  },
  {
   "cell_type": "code",
   "execution_count": null,
   "metadata": {},
   "outputs": [],
   "source": [
    "iplot(MST)"
   ]
  },
  {
   "cell_type": "markdown",
   "metadata": {},
   "source": [
    "# Test 3"
   ]
  },
  {
   "cell_type": "code",
   "execution_count": null,
   "metadata": {},
   "outputs": [],
   "source": [
    "import pandas as pd\n",
    "import numpy as np\n",
    "from fidash.dtools import end_date, str_start, str_end, wdr_ticker, wdr_multi_ticker \n",
    "from fidash.d_charts import pwe_box, calc_interval\n",
    "from datetime import timedelta\n",
    "# from pwe.analysis import Security"
   ]
  },
  {
   "cell_type": "code",
   "execution_count": null,
   "metadata": {},
   "outputs": [],
   "source": [
    "symbols = ['FB', 'AMZN', 'GOOGL', 'AAPL', 'GME', 'BABA', 'VIXY']\n",
    "s_d = (end_date - timedelta(days=700))\n",
    "print(s_d)"
   ]
  },
  {
   "cell_type": "code",
   "execution_count": null,
   "metadata": {},
   "outputs": [],
   "source": [
    "df = wdr_multi_ticker(symbols, s_d, end_date, source='stooq', price='Close')\n",
    "df.head()"
   ]
  },
  {
   "cell_type": "code",
   "execution_count": null,
   "metadata": {},
   "outputs": [],
   "source": [
    "# df = df.pct_change().fillna(0)\n",
    "df = df.pct_change()"
   ]
  },
  {
   "cell_type": "code",
   "execution_count": null,
   "metadata": {},
   "outputs": [],
   "source": [
    "df.columns.values.astype(str)"
   ]
  },
  {
   "cell_type": "code",
   "execution_count": null,
   "metadata": {},
   "outputs": [],
   "source": [
    "def ext_str_lst(str_list):\n",
    "    return \", \".join(map(str, str_list))\n",
    "\n",
    "ext_str_lst(df.columns)"
   ]
  },
  {
   "cell_type": "code",
   "execution_count": null,
   "metadata": {},
   "outputs": [],
   "source": [
    "len(df.columns)"
   ]
  },
  {
   "cell_type": "code",
   "execution_count": null,
   "metadata": {},
   "outputs": [],
   "source": [
    "df = df.pct_change()\n",
    "chart_interval, interval = calc_interval(df)\n",
    "if interval in ['hourly', 'minutes', 'seconds']:\n",
    "    title_time = True\n",
    "else:\n",
    "    title_time = False\n",
    "if len(df.columns) < 4:\n",
    "    ticker = ext_str_lst(df.columns)\n",
    "    chart_ticker = True\n",
    "else:\n",
    "    ticker = ''\n",
    "    chart_ticker = False\n",
    "\n",
    "\n",
    "pwe_box(df, title=f'{chart_interval} Returns', ticker=ticker, yTitle='Returns (%)', xTitle='Returns Distribution', asPlot=True, theme='white',\n",
    "        showlegend=False, decimals=2, orientation='v', textangle=0, file_tag=None, chart_ticker=chart_ticker,\n",
    "        interval='Daily', yaxis_tickformat='.2%', xaxis_tickformat='.2%', linecolor=None, title_dates='Yes', title_time=title_time)\n"
   ]
  },
  {
   "cell_type": "code",
   "execution_count": null,
   "metadata": {},
   "outputs": [],
   "source": [
    "import cufflinks as cf"
   ]
  },
  {
   "cell_type": "code",
   "execution_count": null,
   "metadata": {},
   "outputs": [],
   "source": [
    "df.corr().iplot(kind='heatmap',colorscale=\"Blues\",title=\"Feature Correlation Matrix\")"
   ]
  },
  {
   "cell_type": "code",
   "execution_count": null,
   "metadata": {},
   "outputs": [],
   "source": [
    "from fidash.d_charts import pwe_heatmap"
   ]
  },
  {
   "cell_type": "code",
   "execution_count": null,
   "metadata": {},
   "outputs": [],
   "source": [
    "df_corr = df.pct_change().corr()\n",
    "chart_interval, interval = calc_interval(df)\n",
    "if interval in ['hourly', 'minutes', 'seconds']:\n",
    "    title_time = True\n",
    "else:\n",
    "    title_time = False\n",
    "if len(df.columns) < 4:\n",
    "    ticker = ext_str_lst(df.columns)\n",
    "    chart_ticker = True\n",
    "else:\n",
    "    ticker = ''\n",
    "    chart_ticker = False"
   ]
  },
  {
   "cell_type": "code",
   "execution_count": null,
   "metadata": {},
   "outputs": [],
   "source": [
    "pwe_heatmap(df_corr, start_date=start_date, end_date=end_date, title=None, ticker=ticker, yTitle=None, xTitle=None, asPlot=False,\n",
    "            asFigure=True, theme='white', showlegend=False, decimals=2, textangle=0, file_tag=None,\n",
    "            interval='Daily', linecolor=None, title_dates=True, colorscale=[\"rgb(100, 100, 111)\", \"rgb(255, 255, 255)\", 'rgb(220, 187, 166)',],\n",
    "            title_time=title_time, chart_ticker=chart_ticker, top_margin=0.9, spacing=0.08, title_x=0.5, title_y=0.933)"
   ]
  },
  {
   "cell_type": "code",
   "execution_count": null,
   "metadata": {},
   "outputs": [],
   "source": [
    "df.corr()"
   ]
  },
  {
   "cell_type": "code",
   "execution_count": null,
   "metadata": {},
   "outputs": [],
   "source": [
    "import pandas as pd\n",
    "from datetime import timedelta\n",
    "\n",
    "df = pd.read_csv(\"/Users/zenman618/Documents/git_packages/FiDash/csv_files/NVDA_2020-11-25_2021-11-25.csv\", index_col='DateTime', parse_dates=True)\n",
    "df.head()"
   ]
  },
  {
   "cell_type": "code",
   "execution_count": null,
   "metadata": {},
   "outputs": [],
   "source": [
    "from dtools import get_single_tkr, get_multi_tkr, av_interval\n",
    "import pytz\n",
    "from datetime import datetime, timedelta\n",
    "import pwe.pwetools as pwe\n",
    "from d_charts import calc_interval\n",
    "# from pwe.av import get_av_ts"
   ]
  },
  {
   "cell_type": "code",
   "execution_count": null,
   "metadata": {},
   "outputs": [],
   "source": [
    "end_date = pytz.utc.localize(datetime.utcnow())\n",
    "str_end = pwe.dt_to_str(end_date)\n",
    "print(\"END:\", end_date)\n",
    "start_date = (end_date - timedelta(days=365))\n",
    "str_start = pwe.dt_to_str(start_date)\n",
    "print(\"START\", start_date)\n",
    "\n",
    "sltd_secs = ['FB', 'AMZN']"
   ]
  },
  {
   "cell_type": "code",
   "execution_count": null,
   "metadata": {},
   "outputs": [],
   "source": [
    "# # df = wdr_ticker(sltd_sec, start_date, end_date, source='stooq', save_csv=True)\n",
    "# df = get_av_ts(sltd_sec, 'intraday', start_date, end_date, 'csv_files', AV_API='ALPHAVANTAGE_API_KEY', interval='1min', outputsize='full')\n",
    "# df\n",
    "endpoint = 'intraday'\n",
    "interval = '5min'\n",
    "# endpoint = 'daily'\n",
    "# interval = 'daily'\n",
    "dfs, missing_secs = get_multi_tkr(sltd_secs, endpoint, interval, start_date, end_date, source='stooq', save_csv=True, miss_sec_lst=True)"
   ]
  },
  {
   "cell_type": "code",
   "execution_count": null,
   "metadata": {},
   "outputs": [],
   "source": [
    "dfs.head()"
   ]
  },
  {
   "cell_type": "code",
   "execution_count": null,
   "metadata": {},
   "outputs": [],
   "source": [
    "ticker = 'NVDA'\n",
    "endpoint = 'intraday'\n",
    "interval = '5min'\n",
    "\n",
    "df = get_single_tkr(ticker, endpoint, interval, start_date, end_date, source='stooq', save_csv=True)"
   ]
  },
  {
   "cell_type": "code",
   "execution_count": null,
   "metadata": {},
   "outputs": [],
   "source": [
    "df.head()"
   ]
  },
  {
   "cell_type": "code",
   "execution_count": null,
   "metadata": {},
   "outputs": [],
   "source": [
    "calc_interval(df)"
   ]
  },
  {
   "cell_type": "code",
   "execution_count": null,
   "metadata": {},
   "outputs": [],
   "source": []
  }
 ],
 "metadata": {
  "interpreter": {
   "hash": "ce8c4f33465ee917852bf2dcc79d4da44fc1c72480e3f2cd9df1b27d64a024dd"
  },
  "kernelspec": {
   "display_name": "Python 3.8.11 64-bit ('dashenv': venv)",
   "language": "python",
   "name": "python3"
  },
  "language_info": {
   "codemirror_mode": {
    "name": "ipython",
    "version": 3
   },
   "file_extension": ".py",
   "mimetype": "text/x-python",
   "name": "python",
   "nbconvert_exporter": "python",
   "pygments_lexer": "ipython3",
   "version": "3.8.11"
  },
  "orig_nbformat": 4
 },
 "nbformat": 4,
 "nbformat_minor": 2
}
