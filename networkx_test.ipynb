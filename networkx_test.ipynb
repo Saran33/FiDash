{
 "cells": [
  {
   "cell_type": "code",
   "execution_count": 1,
   "metadata": {},
   "outputs": [
    {
     "data": {
      "text/html": [
       "        <script type=\"text/javascript\">\n",
       "        window.PlotlyConfig = {MathJaxConfig: 'local'};\n",
       "        if (window.MathJax) {MathJax.Hub.Config({SVG: {font: \"STIX-Web\"}});}\n",
       "        if (typeof require !== 'undefined') {\n",
       "        require.undef(\"plotly\");\n",
       "        requirejs.config({\n",
       "            paths: {\n",
       "                'plotly': ['https://cdn.plot.ly/plotly-2.6.3.min']\n",
       "            }\n",
       "        });\n",
       "        require(['plotly'], function(Plotly) {\n",
       "            window._Plotly = Plotly;\n",
       "        });\n",
       "        }\n",
       "        </script>\n",
       "        "
      ]
     },
     "metadata": {},
     "output_type": "display_data"
    }
   ],
   "source": [
    "import pandas as pd\n",
    "from d_charts import calc_interval\n",
    "from dtools import get_multi_tkr, calc_endpoint\n",
    "from pwe.pwetools import dt_to_str\n",
    "from pwe.analysis import Security\n",
    "from datetime import datetime, timedelta\n",
    "import pytz\n",
    "from ntwrkx import plot_3d_mst"
   ]
  },
  {
   "cell_type": "code",
   "execution_count": 2,
   "metadata": {},
   "outputs": [
    {
     "name": "stdout",
     "output_type": "stream",
     "text": [
      "END: 2021-11-30 07:11:44.471330+00:00\n"
     ]
    }
   ],
   "source": [
    "end_date = pytz.utc.localize(datetime.utcnow())\n",
    "str_end = dt_to_str(end_date)\n",
    "print(\"END:\", end_date)\n",
    "start_date = (end_date - timedelta(days=365))\n",
    "\n",
    "api_interval='daily'\n",
    "endpoint = calc_endpoint(api_interval)\n",
    "\n",
    "sltd_sec = ['FB', 'AAPL', 'GOOGL', 'AMZN', 'NVDA', 'TSLA', 'BABA', 'MSFT', 'PFE', 'MRNA', 'MRK']"
   ]
  },
  {
   "cell_type": "code",
   "execution_count": 3,
   "metadata": {},
   "outputs": [
    {
     "name": "stdout",
     "output_type": "stream",
     "text": [
      "\n",
      "\n",
      "Checking if ticker files exist locally...\n",
      "Checking if csv_files directory exists...\n",
      "csv_files folder already exists.\n",
      "Matching local file exists.\n",
      "/Volumes/X Files/git_packages/FiDash/csv_files/FB_2020-11-30_2021-11-30.csv\n",
      "Read local CSV for FB\n",
      "Matching local file exists.\n",
      "/Volumes/X Files/git_packages/FiDash/csv_files/AAPL_2020-11-30_2021-11-30.csv\n",
      "Read local CSV for AAPL\n",
      "Matching local file exists.\n",
      "/Volumes/X Files/git_packages/FiDash/csv_files/GOOGL_2020-11-30_2021-11-30.csv\n",
      "Read local CSV for GOOGL\n",
      "Matching local file exists.\n",
      "/Volumes/X Files/git_packages/FiDash/csv_files/AMZN_2020-11-30_2021-11-30.csv\n",
      "Read local CSV for AMZN\n",
      "Matching local file exists.\n",
      "/Volumes/X Files/git_packages/FiDash/csv_files/NVDA_2020-11-30_2021-11-30.csv\n",
      "Read local CSV for NVDA\n",
      "Matching local file exists.\n",
      "/Volumes/X Files/git_packages/FiDash/csv_files/TSLA_2020-11-30_2021-11-30.csv\n",
      "Read local CSV for TSLA\n",
      "Matching local file exists.\n",
      "/Volumes/X Files/git_packages/FiDash/csv_files/BABA_2020-11-30_2021-11-30.csv\n",
      "Read local CSV for BABA\n",
      "Matching local file exists.\n",
      "/Volumes/X Files/git_packages/FiDash/csv_files/MSFT_2020-11-30_2021-11-30.csv\n",
      "Read local CSV for MSFT\n",
      "Matching local file exists.\n",
      "/Volumes/X Files/git_packages/FiDash/csv_files/PFE_2020-11-30_2021-11-30.csv\n",
      "Read local CSV for PFE\n",
      "Matching local file exists.\n",
      "/Volumes/X Files/git_packages/FiDash/csv_files/MRNA_2020-11-30_2021-11-30.csv\n",
      "Read local CSV for MRNA\n",
      "Matching local file exists.\n",
      "/Volumes/X Files/git_packages/FiDash/csv_files/MRK_2020-11-30_2021-11-30.csv\n",
      "Read local CSV for MRK\n"
     ]
    }
   ],
   "source": [
    "df4, missing_secs = get_multi_tkr(sltd_sec, endpoint, api_interval, start_date, end_date, source='stooq', save_csv=True, miss_sec_lst=True)"
   ]
  },
  {
   "cell_type": "code",
   "execution_count": 4,
   "metadata": {},
   "outputs": [
    {
     "name": "stdout",
     "output_type": "stream",
     "text": [
      "TIMEDELTA: 1 days 00:00:00\n",
      "INTERVAL: Daily daily\n",
      "Graph with 11 nodes and 55 edges\n",
      "16 edges removed\n"
     ]
    }
   ],
   "source": [
    "corr_thrsld = 0.05\n",
    "if not df4.empty:\n",
    "    df4 = df4.pct_change().fillna(0).add(1).cumprod().mul(100)\n",
    "    chart_intrv, interval = calc_interval(df4, api_interval='daily')\n",
    "    df4.name = \"MST\"\n",
    "    Sec = Security(df4)\n",
    "    trading_periods = 252\n",
    "    ann_factor, t, p = Sec.get_ann_factor(\n",
    "        interval, trading_periods, 24)\n",
    "\n",
    "    MST = plot_3d_mst(df4, ann_factor=ann_factor, corr_threshold=corr_thrsld,\n",
    "                    node_size_factor=10, savefig=True)"
   ]
  },
  {
   "cell_type": "code",
   "execution_count": null,
   "metadata": {},
   "outputs": [],
   "source": []
  }
 ],
 "metadata": {
  "interpreter": {
   "hash": "34d004cee4428ee505e53541474fbd16eb19eb8cf98fb743fd212db34bba7a51"
  },
  "kernelspec": {
   "display_name": "Python 3.8.11 64-bit ('dashenv': venv)",
   "language": "python",
   "name": "python3"
  },
  "language_info": {
   "codemirror_mode": {
    "name": "ipython",
    "version": 3
   },
   "file_extension": ".py",
   "mimetype": "text/x-python",
   "name": "python",
   "nbconvert_exporter": "python",
   "pygments_lexer": "ipython3",
   "version": "3.8.11"
  },
  "orig_nbformat": 4
 },
 "nbformat": 4,
 "nbformat_minor": 2
}
