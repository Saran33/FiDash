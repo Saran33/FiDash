{
 "cells": [
  {
   "cell_type": "code",
   "execution_count": null,
   "metadata": {},
   "outputs": [],
   "source": [
    "#manage database and users\n",
    "import sqlite3\n",
    "from sqlalchemy import Table, create_engine\n",
    "from sqlalchemy.sql import select\n",
    "from flask_sqlalchemy import SQLAlchemy\n",
    "from flask_login import login_user, logout_user, current_user, LoginManager, UserMixin\n",
    "#manage password hashing\n",
    "from werkzeug.security import generate_password_hash, check_password_hash\n",
    "#use to config server\n",
    "import warnings\n",
    "import configparser\n",
    "import os\n",
    "#dash dependencies\n",
    "from dash import dcc\n",
    "from dash import html\n",
    "import dash\n",
    "from dash.dependencies import Input, Output, State"
   ]
  },
  {
   "cell_type": "code",
   "execution_count": null,
   "metadata": {},
   "outputs": [],
   "source": [
    "conn = sqlite3.connect('auth_db.sqlite')\n",
    "#connect to the database\n",
    "engine = create_engine('sqlite:///auth_db.sqlite')\n",
    "db = SQLAlchemy()\n",
    "#class for the table Users\n",
    "class Users(db.Model):\n",
    "    id = db.Column(db.Integer, primary_key=True)\n",
    "    username = db.Column(db.String(15), unique=True, nullable = False)\n",
    "    email = db.Column(db.String(50), unique=True)\n",
    "    password = db.Column(db.String(80))\n",
    "Users_tbl = Table('users', Users.metadata)\n",
    "#fuction to create table using Users class\n",
    "def create_users_table():\n",
    "    Users.metadata.create_all(engine)\n",
    "#create the table\n",
    "create_users_table()"
   ]
  },
  {
   "cell_type": "code",
   "execution_count": null,
   "metadata": {},
   "outputs": [],
   "source": [
    "import pandas as pd\n",
    "c = conn.cursor()\n",
    "df = pd.read_sql('select * from users', conn)\n",
    "df"
   ]
  },
  {
   "cell_type": "code",
   "execution_count": null,
   "metadata": {},
   "outputs": [],
   "source": []
  },
  {
   "cell_type": "code",
   "execution_count": null,
   "metadata": {},
   "outputs": [],
   "source": [
    "#manage database and users\n",
    "import sqlite3\n",
    "from sqlalchemy import Table, create_engine\n",
    "from sqlalchemy.sql import select\n",
    "from flask_sqlalchemy import SQLAlchemy\n",
    "from flask_login import login_user, logout_user, current_user, LoginManager, UserMixin\n",
    "#manage password hashing\n",
    "from werkzeug.security import generate_password_hash, check_password_hash\n",
    "#use to config server\n",
    "import warnings\n",
    "import configparser\n",
    "import os\n",
    "#dash dependencies\n",
    "from dash import dcc\n",
    "from dash import html\n",
    "import dash\n",
    "from dash.dependencies import Input, Output, State\n",
    "from sqlalch import init_engine, db_connect, db_session"
   ]
  },
  {
   "cell_type": "code",
   "execution_count": null,
   "metadata": {},
   "outputs": [],
   "source": [
    "uri = 'sqlite:///auth_db.sqlite'\n",
    "engine = init_engine(uri)\n",
    "conn = db_connect(engine)\n",
    "\n",
    "db = SQLAlchemy()\n",
    "#class for the table Users\n",
    "class Users(db.Model):\n",
    "    id = db.Column(db.Integer, primary_key=True)\n",
    "    username = db.Column('username', db.String(15), unique=True, nullable = False)\n",
    "    email = db.Column('email', db.String(50), unique=True)\n",
    "    password = db.Column('password', db.String(80))\n",
    "Users_tbl = Table('users', Users.metadata)\n",
    "#fuction to create table using Users class\n",
    "def create_users_table():\n",
    "    Users.metadata.create_all(engine)\n",
    "#create the table\n",
    "create_users_table()"
   ]
  },
  {
   "cell_type": "code",
   "execution_count": 14,
   "metadata": {},
   "outputs": [],
   "source": [
    "import pandas as pd\n",
    "import warnings\n",
    "warnings.filterwarnings('ignore')\n",
    "from sqlalchemy.orm import sessionmaker, Session\n",
    "from sqlalchemy import create_engine, select, asc, desc, func\n",
    "import logging\n",
    "import time\n",
    "\n",
    "from sqlalch import init_engine, db_connect, db_session\n",
    "# from fidash_app import Users"
   ]
  },
  {
   "cell_type": "code",
   "execution_count": 11,
   "metadata": {},
   "outputs": [],
   "source": [
    "uri = 'sqlite:///databases/auth_db.sqlite'\n",
    "engine = init_engine(uri)\n"
   ]
  },
  {
   "cell_type": "code",
   "execution_count": 15,
   "metadata": {},
   "outputs": [],
   "source": [
    "# conn = db_connect(engine)"
   ]
  },
  {
   "cell_type": "code",
   "execution_count": 12,
   "metadata": {},
   "outputs": [
    {
     "name": "stderr",
     "output_type": "stream",
     "text": [
      "INFO:sqlalchemy.engine.Engine:BEGIN (implicit)\n",
      "INFO:sqlalchemy.engine.Engine:select username from users\n",
      "INFO:sqlalchemy.engine.Engine:[generated in 0.00122s] ()\n",
      "INFO:sqlalchemy.engine.Engine:ROLLBACK\n"
     ]
    },
    {
     "data": {
      "text/html": [
       "<div>\n",
       "<style scoped>\n",
       "    .dataframe tbody tr th:only-of-type {\n",
       "        vertical-align: middle;\n",
       "    }\n",
       "\n",
       "    .dataframe tbody tr th {\n",
       "        vertical-align: top;\n",
       "    }\n",
       "\n",
       "    .dataframe thead th {\n",
       "        text-align: right;\n",
       "    }\n",
       "</style>\n",
       "<table border=\"1\" class=\"dataframe\">\n",
       "  <thead>\n",
       "    <tr style=\"text-align: right;\">\n",
       "      <th></th>\n",
       "      <th>0</th>\n",
       "    </tr>\n",
       "  </thead>\n",
       "  <tbody>\n",
       "    <tr>\n",
       "      <th>0</th>\n",
       "      <td>pweadmin</td>\n",
       "    </tr>\n",
       "    <tr>\n",
       "      <th>1</th>\n",
       "      <td>testsuperuser</td>\n",
       "    </tr>\n",
       "    <tr>\n",
       "      <th>2</th>\n",
       "      <td>testuser3</td>\n",
       "    </tr>\n",
       "    <tr>\n",
       "      <th>3</th>\n",
       "      <td>testuser4</td>\n",
       "    </tr>\n",
       "  </tbody>\n",
       "</table>\n",
       "</div>"
      ],
      "text/plain": [
       "               0\n",
       "0       pweadmin\n",
       "1  testsuperuser\n",
       "2      testuser3\n",
       "3      testuser4"
      ]
     },
     "execution_count": 12,
     "metadata": {},
     "output_type": "execute_result"
    }
   ],
   "source": [
    "with db_session(engine) as session:\n",
    "    result = session.execute(\"select username from users\")\n",
    "    df = pd.DataFrame(result)\n",
    "df"
   ]
  },
  {
   "cell_type": "code",
   "execution_count": null,
   "metadata": {},
   "outputs": [],
   "source": [
    "pw = \"ENTERTESTPASSWORD\"\n",
    "un = 'testsuperuser'\n",
    "em = '111544577@umail.ucc.ie'\n",
    "\n",
    "hashed_password = generate_password_hash(pw, method='sha256')"
   ]
  },
  {
   "cell_type": "code",
   "execution_count": null,
   "metadata": {},
   "outputs": [],
   "source": [
    "with db_session(engine) as session:\n",
    "    ins = Users_tbl.insert().values(username=un,  password=hashed_password, email=em,)\n",
    "    session.execute(ins)\n",
    "    session.commit()\n",
    "    session.close()"
   ]
  },
  {
   "cell_type": "code",
   "execution_count": 16,
   "metadata": {},
   "outputs": [],
   "source": [
    "import os\n",
    "\n",
    "def get_db_path(relpath):\n",
    "    \"\"\"\n",
    "    Input a string.\n",
    "    Need 4 /'s to specify absolute path for sqlalchemy\n",
    "    e.g. sqlite:////fidash/databases/TickerScrape.db\n",
    "    Need 3 /'s for relative paths\n",
    "    relpath has 3 /'s\n",
    "    \"\"\"\n",
    "    package_dir = os.path.abspath(os.path.dirname(__file__))\n",
    "    db_dir = os.path.join(package_dir, relpath)\n",
    "    uri = ''.join(['sqlite:///', db_dir])\n",
    "    return uri\n",
    "\n",
    "uri = get_db_path('databases/TickerScrape.db')\n",
    "print (uri)"
   ]
  },
  {
   "cell_type": "code",
   "execution_count": 17,
   "metadata": {},
   "outputs": [
    {
     "ename": "NameError",
     "evalue": "name '__file__' is not defined",
     "output_type": "error",
     "traceback": [
      "\u001b[0;31m---------------------------------------------------------------------------\u001b[0m",
      "\u001b[0;31mNameError\u001b[0m                                 Traceback (most recent call last)",
      "\u001b[0;32m/var/folders/_g/18qnvwy1001_g1m79rrlhjn00000gn/T/ipykernel_29989/4084264045.py\u001b[0m in \u001b[0;36m<module>\u001b[0;34m\u001b[0m\n\u001b[0;32m----> 1\u001b[0;31m \u001b[0muri\u001b[0m \u001b[0;34m=\u001b[0m \u001b[0mget_db_path\u001b[0m\u001b[0;34m(\u001b[0m\u001b[0;34m'databases/TickerScrape.db'\u001b[0m\u001b[0;34m)\u001b[0m\u001b[0;34m\u001b[0m\u001b[0;34m\u001b[0m\u001b[0m\n\u001b[0m",
      "\u001b[0;32m/var/folders/_g/18qnvwy1001_g1m79rrlhjn00000gn/T/ipykernel_29989/114924689.py\u001b[0m in \u001b[0;36mget_db_path\u001b[0;34m(relpath)\u001b[0m\n\u001b[1;32m      8\u001b[0m     \u001b[0mrelpath\u001b[0m \u001b[0mhas\u001b[0m \u001b[0;36m3\u001b[0m \u001b[0;34m/\u001b[0m\u001b[0;31m'\u001b[0m\u001b[0ms\u001b[0m\u001b[0;34m\u001b[0m\u001b[0;34m\u001b[0m\u001b[0m\n\u001b[1;32m      9\u001b[0m     \"\"\"\n\u001b[0;32m---> 10\u001b[0;31m     \u001b[0mpackage_dir\u001b[0m \u001b[0;34m=\u001b[0m \u001b[0mos\u001b[0m\u001b[0;34m.\u001b[0m\u001b[0mpath\u001b[0m\u001b[0;34m.\u001b[0m\u001b[0mabspath\u001b[0m\u001b[0;34m(\u001b[0m\u001b[0mos\u001b[0m\u001b[0;34m.\u001b[0m\u001b[0mpath\u001b[0m\u001b[0;34m.\u001b[0m\u001b[0mdirname\u001b[0m\u001b[0;34m(\u001b[0m\u001b[0m__file__\u001b[0m\u001b[0;34m)\u001b[0m\u001b[0;34m)\u001b[0m\u001b[0;34m\u001b[0m\u001b[0;34m\u001b[0m\u001b[0m\n\u001b[0m\u001b[1;32m     11\u001b[0m     \u001b[0mdb_dir\u001b[0m \u001b[0;34m=\u001b[0m \u001b[0mos\u001b[0m\u001b[0;34m.\u001b[0m\u001b[0mpath\u001b[0m\u001b[0;34m.\u001b[0m\u001b[0mjoin\u001b[0m\u001b[0;34m(\u001b[0m\u001b[0mpackage_dir\u001b[0m\u001b[0;34m,\u001b[0m \u001b[0mrelpath\u001b[0m\u001b[0;34m)\u001b[0m\u001b[0;34m\u001b[0m\u001b[0;34m\u001b[0m\u001b[0m\n\u001b[1;32m     12\u001b[0m     \u001b[0muri\u001b[0m \u001b[0;34m=\u001b[0m \u001b[0;34m''\u001b[0m\u001b[0;34m.\u001b[0m\u001b[0mjoin\u001b[0m\u001b[0;34m(\u001b[0m\u001b[0;34m[\u001b[0m\u001b[0;34m'sqlite:///'\u001b[0m\u001b[0;34m,\u001b[0m \u001b[0mdb_dir\u001b[0m\u001b[0;34m]\u001b[0m\u001b[0;34m)\u001b[0m\u001b[0;34m\u001b[0m\u001b[0;34m\u001b[0m\u001b[0m\n",
      "\u001b[0;31mNameError\u001b[0m: name '__file__' is not defined"
     ]
    }
   ],
   "source": []
  },
  {
   "cell_type": "code",
   "execution_count": null,
   "metadata": {},
   "outputs": [],
   "source": []
  }
 ],
 "metadata": {
  "interpreter": {
   "hash": "ce8c4f33465ee917852bf2dcc79d4da44fc1c72480e3f2cd9df1b27d64a024dd"
  },
  "kernelspec": {
   "display_name": "Python 3.8.11 64-bit ('dashenv': venv)",
   "language": "python",
   "name": "python3"
  },
  "language_info": {
   "codemirror_mode": {
    "name": "ipython",
    "version": 3
   },
   "file_extension": ".py",
   "mimetype": "text/x-python",
   "name": "python",
   "nbconvert_exporter": "python",
   "pygments_lexer": "ipython3",
   "version": "3.8.11"
  },
  "orig_nbformat": 4
 },
 "nbformat": 4,
 "nbformat_minor": 2
}
